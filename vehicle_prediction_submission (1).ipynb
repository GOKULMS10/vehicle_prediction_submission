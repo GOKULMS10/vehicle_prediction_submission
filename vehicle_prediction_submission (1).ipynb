{
 "cells": [
  {
   "cell_type": "markdown",
   "id": "0c13e94a",
   "metadata": {},
   "source": [
    "# TO PREDICT THE CHOICE OF THE VEHICLE USING MACHINE LEARNING MODEL"
   ]
  },
  {
   "cell_type": "code",
   "execution_count": 3,
   "id": "0422c464",
   "metadata": {},
   "outputs": [],
   "source": [
    "import numpy as np\n",
    "import pandas as pd \n",
    "import matplotlib.pyplot as plt \n",
    "import seaborn as sns"
   ]
  },
  {
   "cell_type": "code",
   "execution_count": 4,
   "id": "1282302b",
   "metadata": {},
   "outputs": [],
   "source": [
    "train = pd.read_csv('dataset/train.csv')"
   ]
  },
  {
   "cell_type": "code",
   "execution_count": 194,
   "id": "18374e5f",
   "metadata": {},
   "outputs": [
    {
     "data": {
      "text/html": [
       "<div>\n",
       "<style scoped>\n",
       "    .dataframe tbody tr th:only-of-type {\n",
       "        vertical-align: middle;\n",
       "    }\n",
       "\n",
       "    .dataframe tbody tr th {\n",
       "        vertical-align: top;\n",
       "    }\n",
       "\n",
       "    .dataframe thead th {\n",
       "        text-align: right;\n",
       "    }\n",
       "</style>\n",
       "<table border=\"1\" class=\"dataframe\">\n",
       "  <thead>\n",
       "    <tr style=\"text-align: right;\">\n",
       "      <th></th>\n",
       "      <th>CustomerID</th>\n",
       "      <th>Age</th>\n",
       "      <th>Gender</th>\n",
       "      <th>City</th>\n",
       "      <th>is_Married</th>\n",
       "      <th>family_size</th>\n",
       "      <th>height</th>\n",
       "      <th>annual_income</th>\n",
       "      <th>job</th>\n",
       "      <th>is_physically_ok</th>\n",
       "      <th>has_taken_car_loan</th>\n",
       "      <th>preferable_fuel_choice</th>\n",
       "      <th>vehicle_choice</th>\n",
       "    </tr>\n",
       "  </thead>\n",
       "  <tbody>\n",
       "    <tr>\n",
       "      <th>0</th>\n",
       "      <td>CusID_00000</td>\n",
       "      <td>36.0</td>\n",
       "      <td>Male</td>\n",
       "      <td>New York City</td>\n",
       "      <td>Divorced</td>\n",
       "      <td>2.0</td>\n",
       "      <td>160.0</td>\n",
       "      <td>32200.0</td>\n",
       "      <td>Service</td>\n",
       "      <td>Yes</td>\n",
       "      <td>Yes</td>\n",
       "      <td>Hybrid</td>\n",
       "      <td>Sedan</td>\n",
       "    </tr>\n",
       "    <tr>\n",
       "      <th>1</th>\n",
       "      <td>CusID_00001</td>\n",
       "      <td>15.0</td>\n",
       "      <td>Female</td>\n",
       "      <td>New York City</td>\n",
       "      <td>Single</td>\n",
       "      <td>1.0</td>\n",
       "      <td>143.0</td>\n",
       "      <td>9000.0</td>\n",
       "      <td>Service</td>\n",
       "      <td>Yes</td>\n",
       "      <td>Yes</td>\n",
       "      <td>Petrol</td>\n",
       "      <td>Compact Utility Vehicle</td>\n",
       "    </tr>\n",
       "    <tr>\n",
       "      <th>2</th>\n",
       "      <td>CusID_00002</td>\n",
       "      <td>55.0</td>\n",
       "      <td>Male</td>\n",
       "      <td>Paris</td>\n",
       "      <td>Married</td>\n",
       "      <td>2.0</td>\n",
       "      <td>168.0</td>\n",
       "      <td>152400.0</td>\n",
       "      <td>Service</td>\n",
       "      <td>Yes</td>\n",
       "      <td>No</td>\n",
       "      <td>Petrol</td>\n",
       "      <td>Sports Sedan</td>\n",
       "    </tr>\n",
       "    <tr>\n",
       "      <th>3</th>\n",
       "      <td>CusID_00003</td>\n",
       "      <td>23.0</td>\n",
       "      <td>Male</td>\n",
       "      <td>Vancouver</td>\n",
       "      <td>Divorced</td>\n",
       "      <td>3.0</td>\n",
       "      <td>165.0</td>\n",
       "      <td>141140.0</td>\n",
       "      <td>Business</td>\n",
       "      <td>Yes</td>\n",
       "      <td>No</td>\n",
       "      <td>Diesel</td>\n",
       "      <td>Sportscar</td>\n",
       "    </tr>\n",
       "    <tr>\n",
       "      <th>4</th>\n",
       "      <td>CusID_00004</td>\n",
       "      <td>23.0</td>\n",
       "      <td>Not_Specified</td>\n",
       "      <td>Vancouver</td>\n",
       "      <td>Single</td>\n",
       "      <td>1.0</td>\n",
       "      <td>147.0</td>\n",
       "      <td>38100.0</td>\n",
       "      <td>Service</td>\n",
       "      <td>Yes</td>\n",
       "      <td>Yes</td>\n",
       "      <td>Hybrid</td>\n",
       "      <td>Sports Utility Vehicle</td>\n",
       "    </tr>\n",
       "  </tbody>\n",
       "</table>\n",
       "</div>"
      ],
      "text/plain": [
       "    CustomerID   Age         Gender           City is_Married  family_size  \\\n",
       "0  CusID_00000  36.0           Male  New York City   Divorced          2.0   \n",
       "1  CusID_00001  15.0         Female  New York City     Single          1.0   \n",
       "2  CusID_00002  55.0           Male          Paris    Married          2.0   \n",
       "3  CusID_00003  23.0           Male      Vancouver   Divorced          3.0   \n",
       "4  CusID_00004  23.0  Not_Specified      Vancouver     Single          1.0   \n",
       "\n",
       "   height  annual_income       job is_physically_ok has_taken_car_loan  \\\n",
       "0   160.0        32200.0   Service              Yes                Yes   \n",
       "1   143.0         9000.0   Service              Yes                Yes   \n",
       "2   168.0       152400.0   Service              Yes                 No   \n",
       "3   165.0       141140.0  Business              Yes                 No   \n",
       "4   147.0        38100.0   Service              Yes                Yes   \n",
       "\n",
       "  preferable_fuel_choice           vehicle_choice  \n",
       "0                 Hybrid                    Sedan  \n",
       "1                 Petrol  Compact Utility Vehicle  \n",
       "2                 Petrol             Sports Sedan  \n",
       "3                 Diesel                Sportscar  \n",
       "4                 Hybrid   Sports Utility Vehicle  "
      ]
     },
     "execution_count": 194,
     "metadata": {},
     "output_type": "execute_result"
    }
   ],
   "source": [
    "train.head()"
   ]
  },
  {
   "cell_type": "code",
   "execution_count": 165,
   "id": "d59b02bb",
   "metadata": {},
   "outputs": [],
   "source": [
    "test = pd.read_csv('dataset/test.csv')"
   ]
  },
  {
   "cell_type": "code",
   "execution_count": 166,
   "id": "39b378fd",
   "metadata": {},
   "outputs": [
    {
     "data": {
      "text/html": [
       "<div>\n",
       "<style scoped>\n",
       "    .dataframe tbody tr th:only-of-type {\n",
       "        vertical-align: middle;\n",
       "    }\n",
       "\n",
       "    .dataframe tbody tr th {\n",
       "        vertical-align: top;\n",
       "    }\n",
       "\n",
       "    .dataframe thead th {\n",
       "        text-align: right;\n",
       "    }\n",
       "</style>\n",
       "<table border=\"1\" class=\"dataframe\">\n",
       "  <thead>\n",
       "    <tr style=\"text-align: right;\">\n",
       "      <th></th>\n",
       "      <th>CustomerID</th>\n",
       "      <th>Age</th>\n",
       "      <th>Gender</th>\n",
       "      <th>City</th>\n",
       "      <th>is_Married</th>\n",
       "      <th>family_size</th>\n",
       "      <th>height</th>\n",
       "      <th>annual_income</th>\n",
       "      <th>job</th>\n",
       "      <th>is_physically_ok</th>\n",
       "      <th>has_taken_car_loan</th>\n",
       "      <th>preferable_fuel_choice</th>\n",
       "    </tr>\n",
       "  </thead>\n",
       "  <tbody>\n",
       "    <tr>\n",
       "      <th>0</th>\n",
       "      <td>CusID_30000</td>\n",
       "      <td>32.0</td>\n",
       "      <td>Female</td>\n",
       "      <td>Delhi</td>\n",
       "      <td>Married</td>\n",
       "      <td>6.0</td>\n",
       "      <td>142.0</td>\n",
       "      <td>150800.0</td>\n",
       "      <td>Service</td>\n",
       "      <td>Yes</td>\n",
       "      <td>No</td>\n",
       "      <td>Diesel</td>\n",
       "    </tr>\n",
       "    <tr>\n",
       "      <th>1</th>\n",
       "      <td>CusID_30001</td>\n",
       "      <td>22.0</td>\n",
       "      <td>Male</td>\n",
       "      <td>Perth</td>\n",
       "      <td>Divorced</td>\n",
       "      <td>4.0</td>\n",
       "      <td>155.0</td>\n",
       "      <td>167000.0</td>\n",
       "      <td>Service</td>\n",
       "      <td>Yes</td>\n",
       "      <td>No</td>\n",
       "      <td>Petrol</td>\n",
       "    </tr>\n",
       "    <tr>\n",
       "      <th>2</th>\n",
       "      <td>CusID_30002</td>\n",
       "      <td>46.0</td>\n",
       "      <td>Female</td>\n",
       "      <td>Barcelona</td>\n",
       "      <td>Married</td>\n",
       "      <td>2.0</td>\n",
       "      <td>NaN</td>\n",
       "      <td>66000.0</td>\n",
       "      <td>Service</td>\n",
       "      <td>Yes</td>\n",
       "      <td>No</td>\n",
       "      <td>Petrol</td>\n",
       "    </tr>\n",
       "    <tr>\n",
       "      <th>3</th>\n",
       "      <td>CusID_30003</td>\n",
       "      <td>35.0</td>\n",
       "      <td>NaN</td>\n",
       "      <td>Kuala Lampur</td>\n",
       "      <td>Single</td>\n",
       "      <td>1.0</td>\n",
       "      <td>137.0</td>\n",
       "      <td>71820.0</td>\n",
       "      <td>Business</td>\n",
       "      <td>Yes</td>\n",
       "      <td>NaN</td>\n",
       "      <td>Petrol</td>\n",
       "    </tr>\n",
       "    <tr>\n",
       "      <th>4</th>\n",
       "      <td>CusID_30004</td>\n",
       "      <td>48.0</td>\n",
       "      <td>Male</td>\n",
       "      <td>Sydney</td>\n",
       "      <td>Married</td>\n",
       "      <td>3.0</td>\n",
       "      <td>162.0</td>\n",
       "      <td>6500.0</td>\n",
       "      <td>Service</td>\n",
       "      <td>Yes</td>\n",
       "      <td>Yes</td>\n",
       "      <td>Hybrid</td>\n",
       "    </tr>\n",
       "  </tbody>\n",
       "</table>\n",
       "</div>"
      ],
      "text/plain": [
       "    CustomerID   Age  Gender          City is_Married  family_size  height  \\\n",
       "0  CusID_30000  32.0  Female         Delhi    Married          6.0   142.0   \n",
       "1  CusID_30001  22.0    Male         Perth   Divorced          4.0   155.0   \n",
       "2  CusID_30002  46.0  Female     Barcelona    Married          2.0     NaN   \n",
       "3  CusID_30003  35.0     NaN  Kuala Lampur     Single          1.0   137.0   \n",
       "4  CusID_30004  48.0    Male        Sydney    Married          3.0   162.0   \n",
       "\n",
       "   annual_income       job is_physically_ok has_taken_car_loan  \\\n",
       "0       150800.0   Service              Yes                 No   \n",
       "1       167000.0   Service              Yes                 No   \n",
       "2        66000.0   Service              Yes                 No   \n",
       "3        71820.0  Business              Yes                NaN   \n",
       "4         6500.0   Service              Yes                Yes   \n",
       "\n",
       "  preferable_fuel_choice  \n",
       "0                 Diesel  \n",
       "1                 Petrol  \n",
       "2                 Petrol  \n",
       "3                 Petrol  \n",
       "4                 Hybrid  "
      ]
     },
     "execution_count": 166,
     "metadata": {},
     "output_type": "execute_result"
    }
   ],
   "source": [
    "test.head()"
   ]
  },
  {
   "cell_type": "code",
   "execution_count": 8,
   "id": "9826f6fc",
   "metadata": {},
   "outputs": [
    {
     "data": {
      "text/plain": [
       "(30000, 13)"
      ]
     },
     "execution_count": 8,
     "metadata": {},
     "output_type": "execute_result"
    }
   ],
   "source": [
    "train.shape"
   ]
  },
  {
   "cell_type": "code",
   "execution_count": 9,
   "id": "8bdccfc4",
   "metadata": {},
   "outputs": [
    {
     "data": {
      "text/plain": [
       "(5000, 12)"
      ]
     },
     "execution_count": 9,
     "metadata": {},
     "output_type": "execute_result"
    }
   ],
   "source": [
    "test.shape"
   ]
  },
  {
   "cell_type": "code",
   "execution_count": 10,
   "id": "aad5519a",
   "metadata": {},
   "outputs": [
    {
     "name": "stdout",
     "output_type": "stream",
     "text": [
      "<class 'pandas.core.frame.DataFrame'>\n",
      "RangeIndex: 30000 entries, 0 to 29999\n",
      "Data columns (total 13 columns):\n",
      " #   Column                  Non-Null Count  Dtype  \n",
      "---  ------                  --------------  -----  \n",
      " 0   CustomerID              30000 non-null  object \n",
      " 1   Age                     29561 non-null  float64\n",
      " 2   Gender                  29583 non-null  object \n",
      " 3   City                    29577 non-null  object \n",
      " 4   is_Married              29580 non-null  object \n",
      " 5   family_size             29586 non-null  float64\n",
      " 6   height                  29569 non-null  float64\n",
      " 7   annual_income           29581 non-null  float64\n",
      " 8   job                     29572 non-null  object \n",
      " 9   is_physically_ok        29578 non-null  object \n",
      " 10  has_taken_car_loan      29569 non-null  object \n",
      " 11  preferable_fuel_choice  29572 non-null  object \n",
      " 12  vehicle_choice          30000 non-null  object \n",
      "dtypes: float64(4), object(9)\n",
      "memory usage: 3.0+ MB\n"
     ]
    }
   ],
   "source": [
    "train.info()"
   ]
  },
  {
   "cell_type": "code",
   "execution_count": 11,
   "id": "410bff55",
   "metadata": {},
   "outputs": [
    {
     "name": "stdout",
     "output_type": "stream",
     "text": [
      "<class 'pandas.core.frame.DataFrame'>\n",
      "RangeIndex: 5000 entries, 0 to 4999\n",
      "Data columns (total 12 columns):\n",
      " #   Column                  Non-Null Count  Dtype  \n",
      "---  ------                  --------------  -----  \n",
      " 0   CustomerID              5000 non-null   object \n",
      " 1   Age                     4933 non-null   float64\n",
      " 2   Gender                  4919 non-null   object \n",
      " 3   City                    4928 non-null   object \n",
      " 4   is_Married              4915 non-null   object \n",
      " 5   family_size             4927 non-null   float64\n",
      " 6   height                  4933 non-null   float64\n",
      " 7   annual_income           4922 non-null   float64\n",
      " 8   job                     4926 non-null   object \n",
      " 9   is_physically_ok        4934 non-null   object \n",
      " 10  has_taken_car_loan      4939 non-null   object \n",
      " 11  preferable_fuel_choice  4917 non-null   object \n",
      "dtypes: float64(4), object(8)\n",
      "memory usage: 468.9+ KB\n"
     ]
    }
   ],
   "source": [
    "test.info()"
   ]
  },
  {
   "cell_type": "markdown",
   "id": "93121999",
   "metadata": {},
   "source": [
    "# Visualization"
   ]
  },
  {
   "cell_type": "code",
   "execution_count": 12,
   "id": "1f223e24",
   "metadata": {},
   "outputs": [
    {
     "data": {
      "image/png": "[encoded data removed]",
      "text/plain": [
       "<Figure size 1080x576 with 2 Axes>"
      ]
     },
     "metadata": {
      "needs_background": "light"
     },
     "output_type": "display_data"
    }
   ],
   "source": [
    "plt.figure(figsize=(15,8))\n",
    "sns.heatmap(train.corr(),annot=True)\n",
    "plt.show()"
   ]
  },
  {
   "cell_type": "code",
   "execution_count": 13,
   "id": "5c99b1d8",
   "metadata": {},
   "outputs": [
    {
     "data": {
      "image/png": "[encoded data removed]",
      "text/plain": [
       "<Figure size 720x504 with 1 Axes>"
      ]
     },
     "metadata": {
      "needs_background": "light"
     },
     "output_type": "display_data"
    }
   ],
   "source": [
    "plt.subplots(figsize=(10,7))\n",
    "plt.title('Fuel types preferred')\n",
    "sns.countplot(x='preferable_fuel_choice', data=train, hue='Gender')\n",
    "plt.show()"
   ]
  },
  {
   "cell_type": "markdown",
   "id": "59113fcb",
   "metadata": {},
   "source": [
    "More people are using petrol and diesel cars than hybrid cars"
   ]
  },
  {
   "cell_type": "code",
   "execution_count": 14,
   "id": "068f20e1",
   "metadata": {},
   "outputs": [
    {
     "data": {
      "image/png": "[encoded data removed]",
      "text/plain": [
       "<Figure size 2160x504 with 1 Axes>"
      ]
     },
     "metadata": {
      "needs_background": "light"
     },
     "output_type": "display_data"
    }
   ],
   "source": [
    "plt.subplots(figsize=(30,7))\n",
    "plt.title('Vechicle prefered by males and females')\n",
    "sns.countplot(x='vehicle_choice', data=train, hue='Gender')\n",
    "plt.show()"
   ]
  },
  {
   "cell_type": "markdown",
   "id": "d8051d50",
   "metadata": {},
   "source": [
    "Males mostly buy Crossover but females prefer luxuary Sedan . Both males and female equally prefer Sports Utility vechicle"
   ]
  },
  {
   "cell_type": "code",
   "execution_count": 16,
   "id": "e4853c12",
   "metadata": {},
   "outputs": [
    {
     "data": {
      "image/png": "[encoded data removed]",
      "text/plain": [
       "<Figure size 2160x504 with 1 Axes>"
      ]
     },
     "metadata": {
      "needs_background": "light"
     },
     "output_type": "display_data"
    }
   ],
   "source": [
    "plt.subplots(figsize=(30,7))\n",
    "plt.title('Fuel types preferred')\n",
    "sns.countplot(x='vehicle_choice', data=train)\n",
    "plt.show()"
   ]
  },
  {
   "cell_type": "code",
   "execution_count": 17,
   "id": "a4bf4ec9",
   "metadata": {},
   "outputs": [
    {
     "ename": "SyntaxError",
     "evalue": "invalid syntax (<ipython-input-17-cda26009e835>, line 1)",
     "output_type": "error",
     "traceback": [
      "\u001b[1;36m  File \u001b[1;32m\"<ipython-input-17-cda26009e835>\"\u001b[1;36m, line \u001b[1;32m1\u001b[0m\n\u001b[1;33m    Most prefered vehicle is Sports Utility vechicle and less prefered is Minivan\u001b[0m\n\u001b[1;37m         ^\u001b[0m\n\u001b[1;31mSyntaxError\u001b[0m\u001b[1;31m:\u001b[0m invalid syntax\n"
     ]
    }
   ],
   "source": [
    "Most prefered vehicle is Sports Utility vechicle and less prefered is Minivan"
   ]
  },
  {
   "cell_type": "code",
   "execution_count": 18,
   "id": "e9a3d7dc",
   "metadata": {},
   "outputs": [
    {
     "data": {
      "image/png": "[encoded data removed]",
      "text/plain": [
       "<Figure size 2160x720 with 1 Axes>"
      ]
     },
     "metadata": {
      "needs_background": "light"
     },
     "output_type": "display_data"
    }
   ],
   "source": [
    "plt.subplots(figsize=(30,10))\n",
    "sns.lineplot(x='vehicle_choice',y='Age',data=train)\n",
    "plt.show()"
   ]
  },
  {
   "cell_type": "markdown",
   "id": "50b734d8",
   "metadata": {},
   "source": [
    "# PREPROCESSING"
   ]
  },
  {
   "cell_type": "code",
   "execution_count": 19,
   "id": "90743dac",
   "metadata": {},
   "outputs": [
    {
     "name": "stdout",
     "output_type": "stream",
     "text": [
      "<class 'pandas.core.frame.DataFrame'>\n",
      "RangeIndex: 30000 entries, 0 to 29999\n",
      "Data columns (total 13 columns):\n",
      " #   Column                  Non-Null Count  Dtype  \n",
      "---  ------                  --------------  -----  \n",
      " 0   CustomerID              30000 non-null  object \n",
      " 1   Age                     29561 non-null  float64\n",
      " 2   Gender                  29583 non-null  object \n",
      " 3   City                    29577 non-null  object \n",
      " 4   is_Married              29580 non-null  object \n",
      " 5   family_size             29586 non-null  float64\n",
      " 6   height                  29569 non-null  float64\n",
      " 7   annual_income           29581 non-null  float64\n",
      " 8   job                     29572 non-null  object \n",
      " 9   is_physically_ok        29578 non-null  object \n",
      " 10  has_taken_car_loan      29569 non-null  object \n",
      " 11  preferable_fuel_choice  29572 non-null  object \n",
      " 12  vehicle_choice          30000 non-null  object \n",
      "dtypes: float64(4), object(9)\n",
      "memory usage: 3.0+ MB\n"
     ]
    }
   ],
   "source": [
    "train.info()"
   ]
  },
  {
   "cell_type": "code",
   "execution_count": 20,
   "id": "801169a5",
   "metadata": {},
   "outputs": [
    {
     "data": {
      "text/html": [
       "<div>\n",
       "<style scoped>\n",
       "    .dataframe tbody tr th:only-of-type {\n",
       "        vertical-align: middle;\n",
       "    }\n",
       "\n",
       "    .dataframe tbody tr th {\n",
       "        vertical-align: top;\n",
       "    }\n",
       "\n",
       "    .dataframe thead th {\n",
       "        text-align: right;\n",
       "    }\n",
       "</style>\n",
       "<table border=\"1\" class=\"dataframe\">\n",
       "  <thead>\n",
       "    <tr style=\"text-align: right;\">\n",
       "      <th></th>\n",
       "      <th>Age</th>\n",
       "      <th>family_size</th>\n",
       "      <th>height</th>\n",
       "      <th>annual_income</th>\n",
       "    </tr>\n",
       "  </thead>\n",
       "  <tbody>\n",
       "    <tr>\n",
       "      <th>count</th>\n",
       "      <td>29561.000000</td>\n",
       "      <td>29586.000000</td>\n",
       "      <td>29569.000000</td>\n",
       "      <td>29581.000000</td>\n",
       "    </tr>\n",
       "    <tr>\n",
       "      <th>mean</th>\n",
       "      <td>30.998545</td>\n",
       "      <td>2.876225</td>\n",
       "      <td>153.023741</td>\n",
       "      <td>84678.162672</td>\n",
       "    </tr>\n",
       "    <tr>\n",
       "      <th>std</th>\n",
       "      <td>9.904351</td>\n",
       "      <td>1.633711</td>\n",
       "      <td>11.175516</td>\n",
       "      <td>60802.123202</td>\n",
       "    </tr>\n",
       "    <tr>\n",
       "      <th>min</th>\n",
       "      <td>15.000000</td>\n",
       "      <td>1.000000</td>\n",
       "      <td>130.000000</td>\n",
       "      <td>2000.000000</td>\n",
       "    </tr>\n",
       "    <tr>\n",
       "      <th>25%</th>\n",
       "      <td>24.000000</td>\n",
       "      <td>1.000000</td>\n",
       "      <td>144.000000</td>\n",
       "      <td>36820.000000</td>\n",
       "    </tr>\n",
       "    <tr>\n",
       "      <th>50%</th>\n",
       "      <td>30.000000</td>\n",
       "      <td>3.000000</td>\n",
       "      <td>152.000000</td>\n",
       "      <td>82070.000000</td>\n",
       "    </tr>\n",
       "    <tr>\n",
       "      <th>75%</th>\n",
       "      <td>36.000000</td>\n",
       "      <td>4.000000</td>\n",
       "      <td>160.000000</td>\n",
       "      <td>128210.000000</td>\n",
       "    </tr>\n",
       "    <tr>\n",
       "      <th>max</th>\n",
       "      <td>60.000000</td>\n",
       "      <td>6.000000</td>\n",
       "      <td>180.000000</td>\n",
       "      <td>499000.000000</td>\n",
       "    </tr>\n",
       "  </tbody>\n",
       "</table>\n",
       "</div>"
      ],
      "text/plain": [
       "                Age   family_size        height  annual_income\n",
       "count  29561.000000  29586.000000  29569.000000   29581.000000\n",
       "mean      30.998545      2.876225    153.023741   84678.162672\n",
       "std        9.904351      1.633711     11.175516   60802.123202\n",
       "min       15.000000      1.000000    130.000000    2000.000000\n",
       "25%       24.000000      1.000000    144.000000   36820.000000\n",
       "50%       30.000000      3.000000    152.000000   82070.000000\n",
       "75%       36.000000      4.000000    160.000000  128210.000000\n",
       "max       60.000000      6.000000    180.000000  499000.000000"
      ]
     },
     "execution_count": 20,
     "metadata": {},
     "output_type": "execute_result"
    }
   ],
   "source": [
    "train.describe()"
   ]
  },
  {
   "cell_type": "code",
   "execution_count": 21,
   "id": "5dabcc14",
   "metadata": {},
   "outputs": [
    {
     "data": {
      "text/plain": [
       "CustomerID                  0\n",
       "Age                       439\n",
       "Gender                    417\n",
       "City                      423\n",
       "is_Married                420\n",
       "family_size               414\n",
       "height                    431\n",
       "annual_income             419\n",
       "job                       428\n",
       "is_physically_ok          422\n",
       "has_taken_car_loan        431\n",
       "preferable_fuel_choice    428\n",
       "vehicle_choice              0\n",
       "dtype: int64"
      ]
     },
     "execution_count": 21,
     "metadata": {},
     "output_type": "execute_result"
    }
   ],
   "source": [
    "train.isna().sum()"
   ]
  },
  {
   "cell_type": "markdown",
   "id": "fd67be4e",
   "metadata": {},
   "source": [
    "There are some missing values in the data. We are using KNNImputer to fill the missing values."
   ]
  },
  {
   "cell_type": "code",
   "execution_count": 22,
   "id": "e8aff2d8",
   "metadata": {},
   "outputs": [],
   "source": [
    "num=[col for col in train.columns if train[col].dtype =='float64']"
   ]
  },
  {
   "cell_type": "code",
   "execution_count": 23,
   "id": "bd621799",
   "metadata": {},
   "outputs": [
    {
     "data": {
      "text/plain": [
       "['Age', 'family_size', 'height', 'annual_income']"
      ]
     },
     "execution_count": 23,
     "metadata": {},
     "output_type": "execute_result"
    }
   ],
   "source": [
    "num"
   ]
  },
  {
   "cell_type": "code",
   "execution_count": 24,
   "id": "11bcc243",
   "metadata": {},
   "outputs": [],
   "source": [
    "from sklearn.impute import KNNImputer\n",
    "knn = KNNImputer(n_neighbors=6)"
   ]
  },
  {
   "cell_type": "code",
   "execution_count": 25,
   "id": "67fb110b",
   "metadata": {},
   "outputs": [
    {
     "data": {
      "text/plain": [
       "KNNImputer(n_neighbors=6)"
      ]
     },
     "execution_count": 25,
     "metadata": {},
     "output_type": "execute_result"
    }
   ],
   "source": [
    "knn.fit(train[num])"
   ]
  },
  {
   "cell_type": "code",
   "execution_count": 26,
   "id": "52d0fa9b",
   "metadata": {},
   "outputs": [],
   "source": [
    "train1=pd.DataFrame(knn.transform(train[num]))"
   ]
  },
  {
   "cell_type": "code",
   "execution_count": 27,
   "id": "a1b70e43",
   "metadata": {},
   "outputs": [
    {
     "data": {
      "text/html": [
       "<div>\n",
       "<style scoped>\n",
       "    .dataframe tbody tr th:only-of-type {\n",
       "        vertical-align: middle;\n",
       "    }\n",
       "\n",
       "    .dataframe tbody tr th {\n",
       "        vertical-align: top;\n",
       "    }\n",
       "\n",
       "    .dataframe thead th {\n",
       "        text-align: right;\n",
       "    }\n",
       "</style>\n",
       "<table border=\"1\" class=\"dataframe\">\n",
       "  <thead>\n",
       "    <tr style=\"text-align: right;\">\n",
       "      <th></th>\n",
       "      <th>0</th>\n",
       "      <th>1</th>\n",
       "      <th>2</th>\n",
       "      <th>3</th>\n",
       "    </tr>\n",
       "  </thead>\n",
       "  <tbody>\n",
       "    <tr>\n",
       "      <th>0</th>\n",
       "      <td>36.0</td>\n",
       "      <td>2.0</td>\n",
       "      <td>160.0</td>\n",
       "      <td>32200.0</td>\n",
       "    </tr>\n",
       "    <tr>\n",
       "      <th>1</th>\n",
       "      <td>15.0</td>\n",
       "      <td>1.0</td>\n",
       "      <td>143.0</td>\n",
       "      <td>9000.0</td>\n",
       "    </tr>\n",
       "    <tr>\n",
       "      <th>2</th>\n",
       "      <td>55.0</td>\n",
       "      <td>2.0</td>\n",
       "      <td>168.0</td>\n",
       "      <td>152400.0</td>\n",
       "    </tr>\n",
       "    <tr>\n",
       "      <th>3</th>\n",
       "      <td>23.0</td>\n",
       "      <td>3.0</td>\n",
       "      <td>165.0</td>\n",
       "      <td>141140.0</td>\n",
       "    </tr>\n",
       "    <tr>\n",
       "      <th>4</th>\n",
       "      <td>23.0</td>\n",
       "      <td>1.0</td>\n",
       "      <td>147.0</td>\n",
       "      <td>38100.0</td>\n",
       "    </tr>\n",
       "  </tbody>\n",
       "</table>\n",
       "</div>"
      ],
      "text/plain": [
       "      0    1      2         3\n",
       "0  36.0  2.0  160.0   32200.0\n",
       "1  15.0  1.0  143.0    9000.0\n",
       "2  55.0  2.0  168.0  152400.0\n",
       "3  23.0  3.0  165.0  141140.0\n",
       "4  23.0  1.0  147.0   38100.0"
      ]
     },
     "execution_count": 27,
     "metadata": {},
     "output_type": "execute_result"
    }
   ],
   "source": [
    "train1.head()"
   ]
  },
  {
   "cell_type": "code",
   "execution_count": 28,
   "id": "6a09172b",
   "metadata": {},
   "outputs": [],
   "source": [
    "train1.columns=['Age', 'family_size', 'height', 'annual_income']"
   ]
  },
  {
   "cell_type": "code",
   "execution_count": 29,
   "id": "6284fc3c",
   "metadata": {},
   "outputs": [
    {
     "data": {
      "text/html": [
       "<div>\n",
       "<style scoped>\n",
       "    .dataframe tbody tr th:only-of-type {\n",
       "        vertical-align: middle;\n",
       "    }\n",
       "\n",
       "    .dataframe tbody tr th {\n",
       "        vertical-align: top;\n",
       "    }\n",
       "\n",
       "    .dataframe thead th {\n",
       "        text-align: right;\n",
       "    }\n",
       "</style>\n",
       "<table border=\"1\" class=\"dataframe\">\n",
       "  <thead>\n",
       "    <tr style=\"text-align: right;\">\n",
       "      <th></th>\n",
       "      <th>CustomerID</th>\n",
       "      <th>Age</th>\n",
       "      <th>Gender</th>\n",
       "      <th>City</th>\n",
       "      <th>is_Married</th>\n",
       "      <th>family_size</th>\n",
       "      <th>height</th>\n",
       "      <th>annual_income</th>\n",
       "      <th>job</th>\n",
       "      <th>is_physically_ok</th>\n",
       "      <th>has_taken_car_loan</th>\n",
       "      <th>preferable_fuel_choice</th>\n",
       "      <th>vehicle_choice</th>\n",
       "    </tr>\n",
       "  </thead>\n",
       "  <tbody>\n",
       "    <tr>\n",
       "      <th>0</th>\n",
       "      <td>CusID_00000</td>\n",
       "      <td>36.0</td>\n",
       "      <td>Male</td>\n",
       "      <td>New York City</td>\n",
       "      <td>Divorced</td>\n",
       "      <td>2.0</td>\n",
       "      <td>160.0</td>\n",
       "      <td>32200.0</td>\n",
       "      <td>Service</td>\n",
       "      <td>Yes</td>\n",
       "      <td>Yes</td>\n",
       "      <td>Hybrid</td>\n",
       "      <td>Sedan</td>\n",
       "    </tr>\n",
       "    <tr>\n",
       "      <th>1</th>\n",
       "      <td>CusID_00001</td>\n",
       "      <td>15.0</td>\n",
       "      <td>Female</td>\n",
       "      <td>New York City</td>\n",
       "      <td>Single</td>\n",
       "      <td>1.0</td>\n",
       "      <td>143.0</td>\n",
       "      <td>9000.0</td>\n",
       "      <td>Service</td>\n",
       "      <td>Yes</td>\n",
       "      <td>Yes</td>\n",
       "      <td>Petrol</td>\n",
       "      <td>Compact Utility Vehicle</td>\n",
       "    </tr>\n",
       "    <tr>\n",
       "      <th>2</th>\n",
       "      <td>CusID_00002</td>\n",
       "      <td>55.0</td>\n",
       "      <td>Male</td>\n",
       "      <td>Paris</td>\n",
       "      <td>Married</td>\n",
       "      <td>2.0</td>\n",
       "      <td>168.0</td>\n",
       "      <td>152400.0</td>\n",
       "      <td>Service</td>\n",
       "      <td>Yes</td>\n",
       "      <td>No</td>\n",
       "      <td>Petrol</td>\n",
       "      <td>Sports Sedan</td>\n",
       "    </tr>\n",
       "    <tr>\n",
       "      <th>3</th>\n",
       "      <td>CusID_00003</td>\n",
       "      <td>23.0</td>\n",
       "      <td>Male</td>\n",
       "      <td>Vancouver</td>\n",
       "      <td>Divorced</td>\n",
       "      <td>3.0</td>\n",
       "      <td>165.0</td>\n",
       "      <td>141140.0</td>\n",
       "      <td>Business</td>\n",
       "      <td>Yes</td>\n",
       "      <td>No</td>\n",
       "      <td>Diesel</td>\n",
       "      <td>Sportscar</td>\n",
       "    </tr>\n",
       "    <tr>\n",
       "      <th>4</th>\n",
       "      <td>CusID_00004</td>\n",
       "      <td>23.0</td>\n",
       "      <td>Not_Specified</td>\n",
       "      <td>Vancouver</td>\n",
       "      <td>Single</td>\n",
       "      <td>1.0</td>\n",
       "      <td>147.0</td>\n",
       "      <td>38100.0</td>\n",
       "      <td>Service</td>\n",
       "      <td>Yes</td>\n",
       "      <td>Yes</td>\n",
       "      <td>Hybrid</td>\n",
       "      <td>Sports Utility Vehicle</td>\n",
       "    </tr>\n",
       "  </tbody>\n",
       "</table>\n",
       "</div>"
      ],
      "text/plain": [
       "    CustomerID   Age         Gender           City is_Married  family_size  \\\n",
       "0  CusID_00000  36.0           Male  New York City   Divorced          2.0   \n",
       "1  CusID_00001  15.0         Female  New York City     Single          1.0   \n",
       "2  CusID_00002  55.0           Male          Paris    Married          2.0   \n",
       "3  CusID_00003  23.0           Male      Vancouver   Divorced          3.0   \n",
       "4  CusID_00004  23.0  Not_Specified      Vancouver     Single          1.0   \n",
       "\n",
       "   height  annual_income       job is_physically_ok has_taken_car_loan  \\\n",
       "0   160.0        32200.0   Service              Yes                Yes   \n",
       "1   143.0         9000.0   Service              Yes                Yes   \n",
       "2   168.0       152400.0   Service              Yes                 No   \n",
       "3   165.0       141140.0  Business              Yes                 No   \n",
       "4   147.0        38100.0   Service              Yes                Yes   \n",
       "\n",
       "  preferable_fuel_choice           vehicle_choice  \n",
       "0                 Hybrid                    Sedan  \n",
       "1                 Petrol  Compact Utility Vehicle  \n",
       "2                 Petrol             Sports Sedan  \n",
       "3                 Diesel                Sportscar  \n",
       "4                 Hybrid   Sports Utility Vehicle  "
      ]
     },
     "execution_count": 29,
     "metadata": {},
     "output_type": "execute_result"
    }
   ],
   "source": [
    "Series={'CustomerID':train['CustomerID'],'Age':train1['Age'],'Gender':train['Gender'].values,'City':train['City'].values,'is_Married':train['is_Married'].values,'family_size':train1['family_size'].values,'height':train1['height'].values,'annual_income':train1['annual_income'].values,'job':train['job'].values,'is_physically_ok':train['is_physically_ok'].values,'has_taken_car_loan':train['has_taken_car_loan'].values,'preferable_fuel_choice':train['preferable_fuel_choice'].values,'vehicle_choice':train['vehicle_choice'].values}\n",
    "train=pd.DataFrame(Series)\n",
    "train.head()"
   ]
  },
  {
   "cell_type": "code",
   "execution_count": 30,
   "id": "3926d3b7",
   "metadata": {},
   "outputs": [
    {
     "data": {
      "text/plain": [
       "CustomerID                  0\n",
       "Age                         0\n",
       "Gender                    417\n",
       "City                      423\n",
       "is_Married                420\n",
       "family_size                 0\n",
       "height                      0\n",
       "annual_income               0\n",
       "job                       428\n",
       "is_physically_ok          422\n",
       "has_taken_car_loan        431\n",
       "preferable_fuel_choice    428\n",
       "vehicle_choice              0\n",
       "dtype: int64"
      ]
     },
     "execution_count": 30,
     "metadata": {},
     "output_type": "execute_result"
    }
   ],
   "source": [
    "train.isna().sum()"
   ]
  },
  {
   "cell_type": "markdown",
   "id": "4127bda1",
   "metadata": {},
   "source": [
    "Now the remaining missing values we are going to fill using mode since they are object datatypes"
   ]
  },
  {
   "cell_type": "code",
   "execution_count": 49,
   "id": "2a4b4b08",
   "metadata": {},
   "outputs": [
    {
     "data": {
      "text/plain": [
       "Female           12588\n",
       "Male             12316\n",
       "Not_Specified     4675\n",
       "SA#?I                1\n",
       "ZH#C@                1\n",
       "TD%Q@                1\n",
       "VG?H%                1\n",
       "Name: Gender, dtype: int64"
      ]
     },
     "execution_count": 49,
     "metadata": {},
     "output_type": "execute_result"
    }
   ],
   "source": [
    "train['Gender'].value_counts()"
   ]
  },
  {
   "cell_type": "code",
   "execution_count": 50,
   "id": "2a60281c",
   "metadata": {},
   "outputs": [],
   "source": [
    "train['Gender']=train['Gender'].fillna(train['Gender'].mode()[0])\n",
    "train['City']=train['City'].fillna(train['City'].mode()[0])\n",
    "train['is_Married']=train['is_Married'].fillna(train['is_Married'].mode()[0])\n",
    "train['job']=train['job'].fillna(train['job'].mode()[0])\n",
    "train['is_physically_ok']=train['is_physically_ok'].fillna(train['is_physically_ok'].mode()[0])\n",
    "train['has_taken_car_loan']=train['has_taken_car_loan'].fillna(train['has_taken_car_loan'].mode()[0])\n",
    "train['preferable_fuel_choice']=train['preferable_fuel_choice'].fillna(train['preferable_fuel_choice'].mode()[0])"
   ]
  },
  {
   "cell_type": "code",
   "execution_count": 51,
   "id": "6ae78162",
   "metadata": {},
   "outputs": [
    {
     "data": {
      "text/plain": [
       "CustomerID                0\n",
       "Age                       0\n",
       "Gender                    0\n",
       "City                      0\n",
       "is_Married                0\n",
       "family_size               0\n",
       "height                    0\n",
       "annual_income             0\n",
       "job                       0\n",
       "is_physically_ok          0\n",
       "has_taken_car_loan        0\n",
       "preferable_fuel_choice    0\n",
       "vehicle_choice            0\n",
       "dtype: int64"
      ]
     },
     "execution_count": 51,
     "metadata": {},
     "output_type": "execute_result"
    }
   ],
   "source": [
    "train.isna().sum()"
   ]
  },
  {
   "cell_type": "markdown",
   "id": "4d4d2479",
   "metadata": {},
   "source": [
    "Now all missing values are filled"
   ]
  },
  {
   "cell_type": "markdown",
   "id": "23897bb7",
   "metadata": {},
   "source": [
    "# Splitting into Feature columns and Target column"
   ]
  },
  {
   "cell_type": "code",
   "execution_count": 55,
   "id": "11ce6204",
   "metadata": {},
   "outputs": [
    {
     "data": {
      "text/html": [
       "<div>\n",
       "<style scoped>\n",
       "    .dataframe tbody tr th:only-of-type {\n",
       "        vertical-align: middle;\n",
       "    }\n",
       "\n",
       "    .dataframe tbody tr th {\n",
       "        vertical-align: top;\n",
       "    }\n",
       "\n",
       "    .dataframe thead th {\n",
       "        text-align: right;\n",
       "    }\n",
       "</style>\n",
       "<table border=\"1\" class=\"dataframe\">\n",
       "  <thead>\n",
       "    <tr style=\"text-align: right;\">\n",
       "      <th></th>\n",
       "      <th>Age</th>\n",
       "      <th>Gender</th>\n",
       "      <th>City</th>\n",
       "      <th>is_Married</th>\n",
       "      <th>family_size</th>\n",
       "      <th>height</th>\n",
       "      <th>annual_income</th>\n",
       "      <th>job</th>\n",
       "      <th>is_physically_ok</th>\n",
       "      <th>has_taken_car_loan</th>\n",
       "      <th>preferable_fuel_choice</th>\n",
       "    </tr>\n",
       "  </thead>\n",
       "  <tbody>\n",
       "    <tr>\n",
       "      <th>0</th>\n",
       "      <td>36.0</td>\n",
       "      <td>Male</td>\n",
       "      <td>New York City</td>\n",
       "      <td>Divorced</td>\n",
       "      <td>2.0</td>\n",
       "      <td>160.0</td>\n",
       "      <td>32200.0</td>\n",
       "      <td>Service</td>\n",
       "      <td>Yes</td>\n",
       "      <td>Yes</td>\n",
       "      <td>Hybrid</td>\n",
       "    </tr>\n",
       "    <tr>\n",
       "      <th>1</th>\n",
       "      <td>15.0</td>\n",
       "      <td>Female</td>\n",
       "      <td>New York City</td>\n",
       "      <td>Single</td>\n",
       "      <td>1.0</td>\n",
       "      <td>143.0</td>\n",
       "      <td>9000.0</td>\n",
       "      <td>Service</td>\n",
       "      <td>Yes</td>\n",
       "      <td>Yes</td>\n",
       "      <td>Petrol</td>\n",
       "    </tr>\n",
       "    <tr>\n",
       "      <th>2</th>\n",
       "      <td>55.0</td>\n",
       "      <td>Male</td>\n",
       "      <td>Paris</td>\n",
       "      <td>Married</td>\n",
       "      <td>2.0</td>\n",
       "      <td>168.0</td>\n",
       "      <td>152400.0</td>\n",
       "      <td>Service</td>\n",
       "      <td>Yes</td>\n",
       "      <td>No</td>\n",
       "      <td>Petrol</td>\n",
       "    </tr>\n",
       "    <tr>\n",
       "      <th>3</th>\n",
       "      <td>23.0</td>\n",
       "      <td>Male</td>\n",
       "      <td>Vancouver</td>\n",
       "      <td>Divorced</td>\n",
       "      <td>3.0</td>\n",
       "      <td>165.0</td>\n",
       "      <td>141140.0</td>\n",
       "      <td>Business</td>\n",
       "      <td>Yes</td>\n",
       "      <td>No</td>\n",
       "      <td>Diesel</td>\n",
       "    </tr>\n",
       "    <tr>\n",
       "      <th>4</th>\n",
       "      <td>23.0</td>\n",
       "      <td>Not_Specified</td>\n",
       "      <td>Vancouver</td>\n",
       "      <td>Single</td>\n",
       "      <td>1.0</td>\n",
       "      <td>147.0</td>\n",
       "      <td>38100.0</td>\n",
       "      <td>Service</td>\n",
       "      <td>Yes</td>\n",
       "      <td>Yes</td>\n",
       "      <td>Hybrid</td>\n",
       "    </tr>\n",
       "  </tbody>\n",
       "</table>\n",
       "</div>"
      ],
      "text/plain": [
       "    Age         Gender           City is_Married  family_size  height  \\\n",
       "0  36.0           Male  New York City   Divorced          2.0   160.0   \n",
       "1  15.0         Female  New York City     Single          1.0   143.0   \n",
       "2  55.0           Male          Paris    Married          2.0   168.0   \n",
       "3  23.0           Male      Vancouver   Divorced          3.0   165.0   \n",
       "4  23.0  Not_Specified      Vancouver     Single          1.0   147.0   \n",
       "\n",
       "   annual_income       job is_physically_ok has_taken_car_loan  \\\n",
       "0        32200.0   Service              Yes                Yes   \n",
       "1         9000.0   Service              Yes                Yes   \n",
       "2       152400.0   Service              Yes                 No   \n",
       "3       141140.0  Business              Yes                 No   \n",
       "4        38100.0   Service              Yes                Yes   \n",
       "\n",
       "  preferable_fuel_choice  \n",
       "0                 Hybrid  \n",
       "1                 Petrol  \n",
       "2                 Petrol  \n",
       "3                 Diesel  \n",
       "4                 Hybrid  "
      ]
     },
     "execution_count": 55,
     "metadata": {},
     "output_type": "execute_result"
    }
   ],
   "source": [
    "X = train.drop(['vehicle_choice','CustomerID'],axis=1)\n",
    "X.head()"
   ]
  },
  {
   "cell_type": "code",
   "execution_count": 54,
   "id": "29adea36",
   "metadata": {},
   "outputs": [
    {
     "data": {
      "text/plain": [
       "0                      Sedan\n",
       "1    Compact Utility Vehicle\n",
       "2               Sports Sedan\n",
       "3                  Sportscar\n",
       "4     Sports Utility Vehicle\n",
       "Name: vehicle_choice, dtype: object"
      ]
     },
     "execution_count": 54,
     "metadata": {},
     "output_type": "execute_result"
    }
   ],
   "source": [
    "y=train['vehicle_choice']\n",
    "y.head()"
   ]
  },
  {
   "cell_type": "markdown",
   "id": "dc56fbcf",
   "metadata": {},
   "source": [
    "# Encoding"
   ]
  },
  {
   "cell_type": "code",
   "execution_count": 59,
   "id": "be3a97d7",
   "metadata": {},
   "outputs": [],
   "source": [
    "from sklearn.preprocessing import LabelEncoder\n",
    "label_en=LabelEncoder()\n",
    "h=['Gender','job', 'is_physically_ok', 'has_taken_car_loan','preferable_fuel_choice','is_Married']\n",
    "for i in np.arange(len(h)):\n",
    "    X[h[i]] = label_en.fit_transform(X[h[i]])  "
   ]
  },
  {
   "cell_type": "code",
   "execution_count": 60,
   "id": "146cd54c",
   "metadata": {},
   "outputs": [
    {
     "data": {
      "text/html": [
       "<div>\n",
       "<style scoped>\n",
       "    .dataframe tbody tr th:only-of-type {\n",
       "        vertical-align: middle;\n",
       "    }\n",
       "\n",
       "    .dataframe tbody tr th {\n",
       "        vertical-align: top;\n",
       "    }\n",
       "\n",
       "    .dataframe thead th {\n",
       "        text-align: right;\n",
       "    }\n",
       "</style>\n",
       "<table border=\"1\" class=\"dataframe\">\n",
       "  <thead>\n",
       "    <tr style=\"text-align: right;\">\n",
       "      <th></th>\n",
       "      <th>Age</th>\n",
       "      <th>Gender</th>\n",
       "      <th>City</th>\n",
       "      <th>is_Married</th>\n",
       "      <th>family_size</th>\n",
       "      <th>height</th>\n",
       "      <th>annual_income</th>\n",
       "      <th>job</th>\n",
       "      <th>is_physically_ok</th>\n",
       "      <th>has_taken_car_loan</th>\n",
       "      <th>preferable_fuel_choice</th>\n",
       "    </tr>\n",
       "  </thead>\n",
       "  <tbody>\n",
       "    <tr>\n",
       "      <th>0</th>\n",
       "      <td>36.0</td>\n",
       "      <td>1</td>\n",
       "      <td>New York City</td>\n",
       "      <td>2</td>\n",
       "      <td>2.0</td>\n",
       "      <td>160.0</td>\n",
       "      <td>32200.0</td>\n",
       "      <td>2</td>\n",
       "      <td>3</td>\n",
       "      <td>4</td>\n",
       "      <td>3</td>\n",
       "    </tr>\n",
       "    <tr>\n",
       "      <th>1</th>\n",
       "      <td>15.0</td>\n",
       "      <td>0</td>\n",
       "      <td>New York City</td>\n",
       "      <td>6</td>\n",
       "      <td>1.0</td>\n",
       "      <td>143.0</td>\n",
       "      <td>9000.0</td>\n",
       "      <td>2</td>\n",
       "      <td>3</td>\n",
       "      <td>4</td>\n",
       "      <td>5</td>\n",
       "    </tr>\n",
       "    <tr>\n",
       "      <th>2</th>\n",
       "      <td>55.0</td>\n",
       "      <td>1</td>\n",
       "      <td>Paris</td>\n",
       "      <td>3</td>\n",
       "      <td>2.0</td>\n",
       "      <td>168.0</td>\n",
       "      <td>152400.0</td>\n",
       "      <td>2</td>\n",
       "      <td>3</td>\n",
       "      <td>3</td>\n",
       "      <td>5</td>\n",
       "    </tr>\n",
       "    <tr>\n",
       "      <th>3</th>\n",
       "      <td>23.0</td>\n",
       "      <td>1</td>\n",
       "      <td>Vancouver</td>\n",
       "      <td>2</td>\n",
       "      <td>3.0</td>\n",
       "      <td>165.0</td>\n",
       "      <td>141140.0</td>\n",
       "      <td>0</td>\n",
       "      <td>3</td>\n",
       "      <td>3</td>\n",
       "      <td>1</td>\n",
       "    </tr>\n",
       "    <tr>\n",
       "      <th>4</th>\n",
       "      <td>23.0</td>\n",
       "      <td>2</td>\n",
       "      <td>Vancouver</td>\n",
       "      <td>6</td>\n",
       "      <td>1.0</td>\n",
       "      <td>147.0</td>\n",
       "      <td>38100.0</td>\n",
       "      <td>2</td>\n",
       "      <td>3</td>\n",
       "      <td>4</td>\n",
       "      <td>3</td>\n",
       "    </tr>\n",
       "  </tbody>\n",
       "</table>\n",
       "</div>"
      ],
      "text/plain": [
       "    Age  Gender           City  is_Married  family_size  height  \\\n",
       "0  36.0       1  New York City           2          2.0   160.0   \n",
       "1  15.0       0  New York City           6          1.0   143.0   \n",
       "2  55.0       1          Paris           3          2.0   168.0   \n",
       "3  23.0       1      Vancouver           2          3.0   165.0   \n",
       "4  23.0       2      Vancouver           6          1.0   147.0   \n",
       "\n",
       "   annual_income  job  is_physically_ok  has_taken_car_loan  \\\n",
       "0        32200.0    2                 3                   4   \n",
       "1         9000.0    2                 3                   4   \n",
       "2       152400.0    2                 3                   3   \n",
       "3       141140.0    0                 3                   3   \n",
       "4        38100.0    2                 3                   4   \n",
       "\n",
       "   preferable_fuel_choice  \n",
       "0                       3  \n",
       "1                       5  \n",
       "2                       5  \n",
       "3                       1  \n",
       "4                       3  "
      ]
     },
     "execution_count": 60,
     "metadata": {},
     "output_type": "execute_result"
    }
   ],
   "source": [
    "X.head()"
   ]
  },
  {
   "cell_type": "code",
   "execution_count": 61,
   "id": "f718f002",
   "metadata": {},
   "outputs": [
    {
     "data": {
      "text/html": [
       "<div>\n",
       "<style scoped>\n",
       "    .dataframe tbody tr th:only-of-type {\n",
       "        vertical-align: middle;\n",
       "    }\n",
       "\n",
       "    .dataframe tbody tr th {\n",
       "        vertical-align: top;\n",
       "    }\n",
       "\n",
       "    .dataframe thead th {\n",
       "        text-align: right;\n",
       "    }\n",
       "</style>\n",
       "<table border=\"1\" class=\"dataframe\">\n",
       "  <thead>\n",
       "    <tr style=\"text-align: right;\">\n",
       "      <th></th>\n",
       "      <th>Age</th>\n",
       "      <th>Gender</th>\n",
       "      <th>is_Married</th>\n",
       "      <th>family_size</th>\n",
       "      <th>height</th>\n",
       "      <th>annual_income</th>\n",
       "      <th>job</th>\n",
       "      <th>is_physically_ok</th>\n",
       "      <th>has_taken_car_loan</th>\n",
       "      <th>preferable_fuel_choice</th>\n",
       "      <th>...</th>\n",
       "      <th>City_P?IX@</th>\n",
       "      <th>City_Paris</th>\n",
       "      <th>City_Perth</th>\n",
       "      <th>City_San Francisco</th>\n",
       "      <th>City_Shinjuku</th>\n",
       "      <th>City_Sydney</th>\n",
       "      <th>City_Taipei</th>\n",
       "      <th>City_Toronto</th>\n",
       "      <th>City_Vancouver</th>\n",
       "      <th>City_Vienna</th>\n",
       "    </tr>\n",
       "  </thead>\n",
       "  <tbody>\n",
       "    <tr>\n",
       "      <th>0</th>\n",
       "      <td>36.0</td>\n",
       "      <td>1</td>\n",
       "      <td>2</td>\n",
       "      <td>2.0</td>\n",
       "      <td>160.0</td>\n",
       "      <td>32200.0</td>\n",
       "      <td>2</td>\n",
       "      <td>3</td>\n",
       "      <td>4</td>\n",
       "      <td>3</td>\n",
       "      <td>...</td>\n",
       "      <td>0</td>\n",
       "      <td>0</td>\n",
       "      <td>0</td>\n",
       "      <td>0</td>\n",
       "      <td>0</td>\n",
       "      <td>0</td>\n",
       "      <td>0</td>\n",
       "      <td>0</td>\n",
       "      <td>0</td>\n",
       "      <td>0</td>\n",
       "    </tr>\n",
       "    <tr>\n",
       "      <th>1</th>\n",
       "      <td>15.0</td>\n",
       "      <td>0</td>\n",
       "      <td>6</td>\n",
       "      <td>1.0</td>\n",
       "      <td>143.0</td>\n",
       "      <td>9000.0</td>\n",
       "      <td>2</td>\n",
       "      <td>3</td>\n",
       "      <td>4</td>\n",
       "      <td>5</td>\n",
       "      <td>...</td>\n",
       "      <td>0</td>\n",
       "      <td>0</td>\n",
       "      <td>0</td>\n",
       "      <td>0</td>\n",
       "      <td>0</td>\n",
       "      <td>0</td>\n",
       "      <td>0</td>\n",
       "      <td>0</td>\n",
       "      <td>0</td>\n",
       "      <td>0</td>\n",
       "    </tr>\n",
       "    <tr>\n",
       "      <th>2</th>\n",
       "      <td>55.0</td>\n",
       "      <td>1</td>\n",
       "      <td>3</td>\n",
       "      <td>2.0</td>\n",
       "      <td>168.0</td>\n",
       "      <td>152400.0</td>\n",
       "      <td>2</td>\n",
       "      <td>3</td>\n",
       "      <td>3</td>\n",
       "      <td>5</td>\n",
       "      <td>...</td>\n",
       "      <td>0</td>\n",
       "      <td>1</td>\n",
       "      <td>0</td>\n",
       "      <td>0</td>\n",
       "      <td>0</td>\n",
       "      <td>0</td>\n",
       "      <td>0</td>\n",
       "      <td>0</td>\n",
       "      <td>0</td>\n",
       "      <td>0</td>\n",
       "    </tr>\n",
       "    <tr>\n",
       "      <th>3</th>\n",
       "      <td>23.0</td>\n",
       "      <td>1</td>\n",
       "      <td>2</td>\n",
       "      <td>3.0</td>\n",
       "      <td>165.0</td>\n",
       "      <td>141140.0</td>\n",
       "      <td>0</td>\n",
       "      <td>3</td>\n",
       "      <td>3</td>\n",
       "      <td>1</td>\n",
       "      <td>...</td>\n",
       "      <td>0</td>\n",
       "      <td>0</td>\n",
       "      <td>0</td>\n",
       "      <td>0</td>\n",
       "      <td>0</td>\n",
       "      <td>0</td>\n",
       "      <td>0</td>\n",
       "      <td>0</td>\n",
       "      <td>1</td>\n",
       "      <td>0</td>\n",
       "    </tr>\n",
       "    <tr>\n",
       "      <th>4</th>\n",
       "      <td>23.0</td>\n",
       "      <td>2</td>\n",
       "      <td>6</td>\n",
       "      <td>1.0</td>\n",
       "      <td>147.0</td>\n",
       "      <td>38100.0</td>\n",
       "      <td>2</td>\n",
       "      <td>3</td>\n",
       "      <td>4</td>\n",
       "      <td>3</td>\n",
       "      <td>...</td>\n",
       "      <td>0</td>\n",
       "      <td>0</td>\n",
       "      <td>0</td>\n",
       "      <td>0</td>\n",
       "      <td>0</td>\n",
       "      <td>0</td>\n",
       "      <td>0</td>\n",
       "      <td>0</td>\n",
       "      <td>1</td>\n",
       "      <td>0</td>\n",
       "    </tr>\n",
       "  </tbody>\n",
       "</table>\n",
       "<p>5 rows × 36 columns</p>\n",
       "</div>"
      ],
      "text/plain": [
       "    Age  Gender  is_Married  family_size  height  annual_income  job  \\\n",
       "0  36.0       1           2          2.0   160.0        32200.0    2   \n",
       "1  15.0       0           6          1.0   143.0         9000.0    2   \n",
       "2  55.0       1           3          2.0   168.0       152400.0    2   \n",
       "3  23.0       1           2          3.0   165.0       141140.0    0   \n",
       "4  23.0       2           6          1.0   147.0        38100.0    2   \n",
       "\n",
       "   is_physically_ok  has_taken_car_loan  preferable_fuel_choice  ...  \\\n",
       "0                 3                   4                       3  ...   \n",
       "1                 3                   4                       5  ...   \n",
       "2                 3                   3                       5  ...   \n",
       "3                 3                   3                       1  ...   \n",
       "4                 3                   4                       3  ...   \n",
       "\n",
       "   City_P?IX@  City_Paris  City_Perth  City_San Francisco  City_Shinjuku  \\\n",
       "0           0           0           0                   0              0   \n",
       "1           0           0           0                   0              0   \n",
       "2           0           1           0                   0              0   \n",
       "3           0           0           0                   0              0   \n",
       "4           0           0           0                   0              0   \n",
       "\n",
       "   City_Sydney  City_Taipei  City_Toronto  City_Vancouver  City_Vienna  \n",
       "0            0            0             0               0            0  \n",
       "1            0            0             0               0            0  \n",
       "2            0            0             0               0            0  \n",
       "3            0            0             0               1            0  \n",
       "4            0            0             0               1            0  \n",
       "\n",
       "[5 rows x 36 columns]"
      ]
     },
     "execution_count": 61,
     "metadata": {},
     "output_type": "execute_result"
    }
   ],
   "source": [
    "X=pd.get_dummies(X)\n",
    "X.head()"
   ]
  },
  {
   "cell_type": "code",
   "execution_count": 63,
   "id": "fc1b47bb",
   "metadata": {},
   "outputs": [
    {
     "data": {
      "text/html": [
       "<div>\n",
       "<style scoped>\n",
       "    .dataframe tbody tr th:only-of-type {\n",
       "        vertical-align: middle;\n",
       "    }\n",
       "\n",
       "    .dataframe tbody tr th {\n",
       "        vertical-align: top;\n",
       "    }\n",
       "\n",
       "    .dataframe thead th {\n",
       "        text-align: right;\n",
       "    }\n",
       "</style>\n",
       "<table border=\"1\" class=\"dataframe\">\n",
       "  <thead>\n",
       "    <tr style=\"text-align: right;\">\n",
       "      <th></th>\n",
       "      <th>Age</th>\n",
       "      <th>Gender</th>\n",
       "      <th>is_Married</th>\n",
       "      <th>family_size</th>\n",
       "      <th>height</th>\n",
       "      <th>annual_income</th>\n",
       "      <th>job</th>\n",
       "      <th>is_physically_ok</th>\n",
       "      <th>has_taken_car_loan</th>\n",
       "      <th>preferable_fuel_choice</th>\n",
       "      <th>...</th>\n",
       "      <th>City_P?IX@</th>\n",
       "      <th>City_Paris</th>\n",
       "      <th>City_Perth</th>\n",
       "      <th>City_San Francisco</th>\n",
       "      <th>City_Shinjuku</th>\n",
       "      <th>City_Sydney</th>\n",
       "      <th>City_Taipei</th>\n",
       "      <th>City_Toronto</th>\n",
       "      <th>City_Vancouver</th>\n",
       "      <th>City_Vienna</th>\n",
       "    </tr>\n",
       "  </thead>\n",
       "  <tbody>\n",
       "    <tr>\n",
       "      <th>count</th>\n",
       "      <td>30000.000000</td>\n",
       "      <td>30000.000000</td>\n",
       "      <td>30000.000000</td>\n",
       "      <td>30000.000000</td>\n",
       "      <td>30000.000000</td>\n",
       "      <td>30000.000000</td>\n",
       "      <td>30000.000000</td>\n",
       "      <td>30000.000000</td>\n",
       "      <td>30000.000000</td>\n",
       "      <td>30000.000000</td>\n",
       "      <td>...</td>\n",
       "      <td>30000.000000</td>\n",
       "      <td>30000.000000</td>\n",
       "      <td>30000.000000</td>\n",
       "      <td>30000.000000</td>\n",
       "      <td>30000.000000</td>\n",
       "      <td>30000.000000</td>\n",
       "      <td>30000.000000</td>\n",
       "      <td>30000.000000</td>\n",
       "      <td>30000.000000</td>\n",
       "      <td>30000.000000</td>\n",
       "    </tr>\n",
       "    <tr>\n",
       "      <th>mean</th>\n",
       "      <td>30.989167</td>\n",
       "      <td>0.722800</td>\n",
       "      <td>3.600133</td>\n",
       "      <td>2.875378</td>\n",
       "      <td>153.018006</td>\n",
       "      <td>84620.166722</td>\n",
       "      <td>1.194500</td>\n",
       "      <td>2.871800</td>\n",
       "      <td>3.470533</td>\n",
       "      <td>3.058267</td>\n",
       "      <td>...</td>\n",
       "      <td>0.000033</td>\n",
       "      <td>0.044033</td>\n",
       "      <td>0.043600</td>\n",
       "      <td>0.046533</td>\n",
       "      <td>0.043300</td>\n",
       "      <td>0.043867</td>\n",
       "      <td>0.045000</td>\n",
       "      <td>0.044133</td>\n",
       "      <td>0.043567</td>\n",
       "      <td>0.044867</td>\n",
       "    </tr>\n",
       "    <tr>\n",
       "      <th>std</th>\n",
       "      <td>9.852399</td>\n",
       "      <td>0.717155</td>\n",
       "      <td>1.565946</td>\n",
       "      <td>1.625506</td>\n",
       "      <td>11.107624</td>\n",
       "      <td>60538.272761</td>\n",
       "      <td>1.304119</td>\n",
       "      <td>0.606666</td>\n",
       "      <td>0.499807</td>\n",
       "      <td>1.790674</td>\n",
       "      <td>...</td>\n",
       "      <td>0.005774</td>\n",
       "      <td>0.205173</td>\n",
       "      <td>0.204207</td>\n",
       "      <td>0.210641</td>\n",
       "      <td>0.203535</td>\n",
       "      <td>0.204802</td>\n",
       "      <td>0.207308</td>\n",
       "      <td>0.205395</td>\n",
       "      <td>0.204132</td>\n",
       "      <td>0.207015</td>\n",
       "    </tr>\n",
       "    <tr>\n",
       "      <th>min</th>\n",
       "      <td>15.000000</td>\n",
       "      <td>0.000000</td>\n",
       "      <td>0.000000</td>\n",
       "      <td>1.000000</td>\n",
       "      <td>130.000000</td>\n",
       "      <td>2000.000000</td>\n",
       "      <td>0.000000</td>\n",
       "      <td>0.000000</td>\n",
       "      <td>0.000000</td>\n",
       "      <td>0.000000</td>\n",
       "      <td>...</td>\n",
       "      <td>0.000000</td>\n",
       "      <td>0.000000</td>\n",
       "      <td>0.000000</td>\n",
       "      <td>0.000000</td>\n",
       "      <td>0.000000</td>\n",
       "      <td>0.000000</td>\n",
       "      <td>0.000000</td>\n",
       "      <td>0.000000</td>\n",
       "      <td>0.000000</td>\n",
       "      <td>0.000000</td>\n",
       "    </tr>\n",
       "    <tr>\n",
       "      <th>25%</th>\n",
       "      <td>24.000000</td>\n",
       "      <td>0.000000</td>\n",
       "      <td>2.000000</td>\n",
       "      <td>1.000000</td>\n",
       "      <td>144.000000</td>\n",
       "      <td>37000.000000</td>\n",
       "      <td>0.000000</td>\n",
       "      <td>3.000000</td>\n",
       "      <td>3.000000</td>\n",
       "      <td>1.000000</td>\n",
       "      <td>...</td>\n",
       "      <td>0.000000</td>\n",
       "      <td>0.000000</td>\n",
       "      <td>0.000000</td>\n",
       "      <td>0.000000</td>\n",
       "      <td>0.000000</td>\n",
       "      <td>0.000000</td>\n",
       "      <td>0.000000</td>\n",
       "      <td>0.000000</td>\n",
       "      <td>0.000000</td>\n",
       "      <td>0.000000</td>\n",
       "    </tr>\n",
       "    <tr>\n",
       "      <th>50%</th>\n",
       "      <td>30.000000</td>\n",
       "      <td>1.000000</td>\n",
       "      <td>3.000000</td>\n",
       "      <td>3.000000</td>\n",
       "      <td>152.000000</td>\n",
       "      <td>82295.000000</td>\n",
       "      <td>2.000000</td>\n",
       "      <td>3.000000</td>\n",
       "      <td>3.000000</td>\n",
       "      <td>3.000000</td>\n",
       "      <td>...</td>\n",
       "      <td>0.000000</td>\n",
       "      <td>0.000000</td>\n",
       "      <td>0.000000</td>\n",
       "      <td>0.000000</td>\n",
       "      <td>0.000000</td>\n",
       "      <td>0.000000</td>\n",
       "      <td>0.000000</td>\n",
       "      <td>0.000000</td>\n",
       "      <td>0.000000</td>\n",
       "      <td>0.000000</td>\n",
       "    </tr>\n",
       "    <tr>\n",
       "      <th>75%</th>\n",
       "      <td>36.000000</td>\n",
       "      <td>1.000000</td>\n",
       "      <td>6.000000</td>\n",
       "      <td>4.000000</td>\n",
       "      <td>160.000000</td>\n",
       "      <td>127700.000000</td>\n",
       "      <td>2.000000</td>\n",
       "      <td>3.000000</td>\n",
       "      <td>4.000000</td>\n",
       "      <td>5.000000</td>\n",
       "      <td>...</td>\n",
       "      <td>0.000000</td>\n",
       "      <td>0.000000</td>\n",
       "      <td>0.000000</td>\n",
       "      <td>0.000000</td>\n",
       "      <td>0.000000</td>\n",
       "      <td>0.000000</td>\n",
       "      <td>0.000000</td>\n",
       "      <td>0.000000</td>\n",
       "      <td>0.000000</td>\n",
       "      <td>0.000000</td>\n",
       "    </tr>\n",
       "    <tr>\n",
       "      <th>max</th>\n",
       "      <td>60.000000</td>\n",
       "      <td>6.000000</td>\n",
       "      <td>7.000000</td>\n",
       "      <td>6.000000</td>\n",
       "      <td>180.000000</td>\n",
       "      <td>499000.000000</td>\n",
       "      <td>7.000000</td>\n",
       "      <td>3.000000</td>\n",
       "      <td>4.000000</td>\n",
       "      <td>6.000000</td>\n",
       "      <td>...</td>\n",
       "      <td>1.000000</td>\n",
       "      <td>1.000000</td>\n",
       "      <td>1.000000</td>\n",
       "      <td>1.000000</td>\n",
       "      <td>1.000000</td>\n",
       "      <td>1.000000</td>\n",
       "      <td>1.000000</td>\n",
       "      <td>1.000000</td>\n",
       "      <td>1.000000</td>\n",
       "      <td>1.000000</td>\n",
       "    </tr>\n",
       "  </tbody>\n",
       "</table>\n",
       "<p>8 rows × 36 columns</p>\n",
       "</div>"
      ],
      "text/plain": [
       "                Age        Gender    is_Married   family_size        height  \\\n",
       "count  30000.000000  30000.000000  30000.000000  30000.000000  30000.000000   \n",
       "mean      30.989167      0.722800      3.600133      2.875378    153.018006   \n",
       "std        9.852399      0.717155      1.565946      1.625506     11.107624   \n",
       "min       15.000000      0.000000      0.000000      1.000000    130.000000   \n",
       "25%       24.000000      0.000000      2.000000      1.000000    144.000000   \n",
       "50%       30.000000      1.000000      3.000000      3.000000    152.000000   \n",
       "75%       36.000000      1.000000      6.000000      4.000000    160.000000   \n",
       "max       60.000000      6.000000      7.000000      6.000000    180.000000   \n",
       "\n",
       "       annual_income           job  is_physically_ok  has_taken_car_loan  \\\n",
       "count   30000.000000  30000.000000      30000.000000        30000.000000   \n",
       "mean    84620.166722      1.194500          2.871800            3.470533   \n",
       "std     60538.272761      1.304119          0.606666            0.499807   \n",
       "min      2000.000000      0.000000          0.000000            0.000000   \n",
       "25%     37000.000000      0.000000          3.000000            3.000000   \n",
       "50%     82295.000000      2.000000          3.000000            3.000000   \n",
       "75%    127700.000000      2.000000          3.000000            4.000000   \n",
       "max    499000.000000      7.000000          3.000000            4.000000   \n",
       "\n",
       "       preferable_fuel_choice  ...    City_P?IX@    City_Paris    City_Perth  \\\n",
       "count            30000.000000  ...  30000.000000  30000.000000  30000.000000   \n",
       "mean                 3.058267  ...      0.000033      0.044033      0.043600   \n",
       "std                  1.790674  ...      0.005774      0.205173      0.204207   \n",
       "min                  0.000000  ...      0.000000      0.000000      0.000000   \n",
       "25%                  1.000000  ...      0.000000      0.000000      0.000000   \n",
       "50%                  3.000000  ...      0.000000      0.000000      0.000000   \n",
       "75%                  5.000000  ...      0.000000      0.000000      0.000000   \n",
       "max                  6.000000  ...      1.000000      1.000000      1.000000   \n",
       "\n",
       "       City_San Francisco  City_Shinjuku   City_Sydney   City_Taipei  \\\n",
       "count        30000.000000   30000.000000  30000.000000  30000.000000   \n",
       "mean             0.046533       0.043300      0.043867      0.045000   \n",
       "std              0.210641       0.203535      0.204802      0.207308   \n",
       "min              0.000000       0.000000      0.000000      0.000000   \n",
       "25%              0.000000       0.000000      0.000000      0.000000   \n",
       "50%              0.000000       0.000000      0.000000      0.000000   \n",
       "75%              0.000000       0.000000      0.000000      0.000000   \n",
       "max              1.000000       1.000000      1.000000      1.000000   \n",
       "\n",
       "       City_Toronto  City_Vancouver   City_Vienna  \n",
       "count  30000.000000    30000.000000  30000.000000  \n",
       "mean       0.044133        0.043567      0.044867  \n",
       "std        0.205395        0.204132      0.207015  \n",
       "min        0.000000        0.000000      0.000000  \n",
       "25%        0.000000        0.000000      0.000000  \n",
       "50%        0.000000        0.000000      0.000000  \n",
       "75%        0.000000        0.000000      0.000000  \n",
       "max        1.000000        1.000000      1.000000  \n",
       "\n",
       "[8 rows x 36 columns]"
      ]
     },
     "execution_count": 63,
     "metadata": {},
     "output_type": "execute_result"
    }
   ],
   "source": [
    "X.describe()"
   ]
  },
  {
   "cell_type": "markdown",
   "id": "8ea1611f",
   "metadata": {},
   "source": [
    "Label Encoding of Target Column"
   ]
  },
  {
   "cell_type": "code",
   "execution_count": 64,
   "id": "6a4d439b",
   "metadata": {},
   "outputs": [],
   "source": [
    "#LabelEncoding of column vehicle_choice\n",
    "from sklearn.preprocessing import LabelEncoder\n",
    "label_en=LabelEncoder()\n",
    "y=label_en.fit_transform(y)"
   ]
  },
  {
   "cell_type": "code",
   "execution_count": 65,
   "id": "e3a58976",
   "metadata": {},
   "outputs": [
    {
     "data": {
      "text/plain": [
       "array([10,  1, 12, ...,  7, 13,  7])"
      ]
     },
     "execution_count": 65,
     "metadata": {},
     "output_type": "execute_result"
    }
   ],
   "source": [
    "y"
   ]
  },
  {
   "cell_type": "markdown",
   "id": "5ffdcf09",
   "metadata": {},
   "source": [
    "# Feature Scaling"
   ]
  },
  {
   "cell_type": "code",
   "execution_count": 66,
   "id": "2af29330",
   "metadata": {},
   "outputs": [
    {
     "data": {
      "text/plain": [
       "Age                       float64\n",
       "Gender                      int64\n",
       "is_Married                  int32\n",
       "family_size               float64\n",
       "height                    float64\n",
       "annual_income             float64\n",
       "job                         int64\n",
       "is_physically_ok            int64\n",
       "has_taken_car_loan          int64\n",
       "preferable_fuel_choice      int64\n",
       "City_#B?TL                  uint8\n",
       "City_#VPI@                  uint8\n",
       "City_#XY@G                  uint8\n",
       "City_Barcelona              uint8\n",
       "City_Berlin                 uint8\n",
       "City_Budapest               uint8\n",
       "City_Chennai                uint8\n",
       "City_Delhi                  uint8\n",
       "City_Florence               uint8\n",
       "City_Kolkata                uint8\n",
       "City_Kuala Lampur           uint8\n",
       "City_London                 uint8\n",
       "City_Los Angeles            uint8\n",
       "City_Mumbai                 uint8\n",
       "City_Munich                 uint8\n",
       "City_New York City          uint8\n",
       "City_P?IX@                  uint8\n",
       "City_Paris                  uint8\n",
       "City_Perth                  uint8\n",
       "City_San Francisco          uint8\n",
       "City_Shinjuku               uint8\n",
       "City_Sydney                 uint8\n",
       "City_Taipei                 uint8\n",
       "City_Toronto                uint8\n",
       "City_Vancouver              uint8\n",
       "City_Vienna                 uint8\n",
       "dtype: object"
      ]
     },
     "execution_count": 66,
     "metadata": {},
     "output_type": "execute_result"
    }
   ],
   "source": [
    "X.dtypes"
   ]
  },
  {
   "cell_type": "code",
   "execution_count": 67,
   "id": "a5a51ce5",
   "metadata": {},
   "outputs": [],
   "source": [
    "f=[col for col in X.columns if X[col].dtype =='float64']"
   ]
  },
  {
   "cell_type": "code",
   "execution_count": 68,
   "id": "a2ec0020",
   "metadata": {},
   "outputs": [
    {
     "data": {
      "text/plain": [
       "['Age', 'family_size', 'height', 'annual_income']"
      ]
     },
     "execution_count": 68,
     "metadata": {},
     "output_type": "execute_result"
    }
   ],
   "source": [
    "f"
   ]
  },
  {
   "cell_type": "code",
   "execution_count": 69,
   "id": "9aec5f01",
   "metadata": {},
   "outputs": [],
   "source": [
    "from sklearn import preprocessing \n",
    "min_max = preprocessing.MinMaxScaler(feature_range=(0,1))\n",
    "X[f] = min_max.fit_transform(X[f])"
   ]
  },
  {
   "cell_type": "code",
   "execution_count": 70,
   "id": "04b1a2c1",
   "metadata": {},
   "outputs": [],
   "source": [
    "x1=X.drop(f,axis=1)"
   ]
  },
  {
   "cell_type": "code",
   "execution_count": 71,
   "id": "54444f92",
   "metadata": {},
   "outputs": [],
   "source": [
    "X=pd.concat([x1,X[f]],axis=1)"
   ]
  },
  {
   "cell_type": "code",
   "execution_count": 72,
   "id": "7a886d77",
   "metadata": {},
   "outputs": [
    {
     "data": {
      "text/html": [
       "<div>\n",
       "<style scoped>\n",
       "    .dataframe tbody tr th:only-of-type {\n",
       "        vertical-align: middle;\n",
       "    }\n",
       "\n",
       "    .dataframe tbody tr th {\n",
       "        vertical-align: top;\n",
       "    }\n",
       "\n",
       "    .dataframe thead th {\n",
       "        text-align: right;\n",
       "    }\n",
       "</style>\n",
       "<table border=\"1\" class=\"dataframe\">\n",
       "  <thead>\n",
       "    <tr style=\"text-align: right;\">\n",
       "      <th></th>\n",
       "      <th>Gender</th>\n",
       "      <th>is_Married</th>\n",
       "      <th>job</th>\n",
       "      <th>is_physically_ok</th>\n",
       "      <th>has_taken_car_loan</th>\n",
       "      <th>preferable_fuel_choice</th>\n",
       "      <th>City_#B?TL</th>\n",
       "      <th>City_#VPI@</th>\n",
       "      <th>City_#XY@G</th>\n",
       "      <th>City_Barcelona</th>\n",
       "      <th>...</th>\n",
       "      <th>City_Shinjuku</th>\n",
       "      <th>City_Sydney</th>\n",
       "      <th>City_Taipei</th>\n",
       "      <th>City_Toronto</th>\n",
       "      <th>City_Vancouver</th>\n",
       "      <th>City_Vienna</th>\n",
       "      <th>Age</th>\n",
       "      <th>family_size</th>\n",
       "      <th>height</th>\n",
       "      <th>annual_income</th>\n",
       "    </tr>\n",
       "  </thead>\n",
       "  <tbody>\n",
       "    <tr>\n",
       "      <th>0</th>\n",
       "      <td>1</td>\n",
       "      <td>2</td>\n",
       "      <td>2</td>\n",
       "      <td>3</td>\n",
       "      <td>4</td>\n",
       "      <td>3</td>\n",
       "      <td>0</td>\n",
       "      <td>0</td>\n",
       "      <td>0</td>\n",
       "      <td>0</td>\n",
       "      <td>...</td>\n",
       "      <td>0</td>\n",
       "      <td>0</td>\n",
       "      <td>0</td>\n",
       "      <td>0</td>\n",
       "      <td>0</td>\n",
       "      <td>0</td>\n",
       "      <td>0.466667</td>\n",
       "      <td>0.2</td>\n",
       "      <td>0.60</td>\n",
       "      <td>0.060765</td>\n",
       "    </tr>\n",
       "    <tr>\n",
       "      <th>1</th>\n",
       "      <td>0</td>\n",
       "      <td>6</td>\n",
       "      <td>2</td>\n",
       "      <td>3</td>\n",
       "      <td>4</td>\n",
       "      <td>5</td>\n",
       "      <td>0</td>\n",
       "      <td>0</td>\n",
       "      <td>0</td>\n",
       "      <td>0</td>\n",
       "      <td>...</td>\n",
       "      <td>0</td>\n",
       "      <td>0</td>\n",
       "      <td>0</td>\n",
       "      <td>0</td>\n",
       "      <td>0</td>\n",
       "      <td>0</td>\n",
       "      <td>0.000000</td>\n",
       "      <td>0.0</td>\n",
       "      <td>0.26</td>\n",
       "      <td>0.014085</td>\n",
       "    </tr>\n",
       "    <tr>\n",
       "      <th>2</th>\n",
       "      <td>1</td>\n",
       "      <td>3</td>\n",
       "      <td>2</td>\n",
       "      <td>3</td>\n",
       "      <td>3</td>\n",
       "      <td>5</td>\n",
       "      <td>0</td>\n",
       "      <td>0</td>\n",
       "      <td>0</td>\n",
       "      <td>0</td>\n",
       "      <td>...</td>\n",
       "      <td>0</td>\n",
       "      <td>0</td>\n",
       "      <td>0</td>\n",
       "      <td>0</td>\n",
       "      <td>0</td>\n",
       "      <td>0</td>\n",
       "      <td>0.888889</td>\n",
       "      <td>0.2</td>\n",
       "      <td>0.76</td>\n",
       "      <td>0.302616</td>\n",
       "    </tr>\n",
       "    <tr>\n",
       "      <th>3</th>\n",
       "      <td>1</td>\n",
       "      <td>2</td>\n",
       "      <td>0</td>\n",
       "      <td>3</td>\n",
       "      <td>3</td>\n",
       "      <td>1</td>\n",
       "      <td>0</td>\n",
       "      <td>0</td>\n",
       "      <td>0</td>\n",
       "      <td>0</td>\n",
       "      <td>...</td>\n",
       "      <td>0</td>\n",
       "      <td>0</td>\n",
       "      <td>0</td>\n",
       "      <td>0</td>\n",
       "      <td>1</td>\n",
       "      <td>0</td>\n",
       "      <td>0.177778</td>\n",
       "      <td>0.4</td>\n",
       "      <td>0.70</td>\n",
       "      <td>0.279960</td>\n",
       "    </tr>\n",
       "    <tr>\n",
       "      <th>4</th>\n",
       "      <td>2</td>\n",
       "      <td>6</td>\n",
       "      <td>2</td>\n",
       "      <td>3</td>\n",
       "      <td>4</td>\n",
       "      <td>3</td>\n",
       "      <td>0</td>\n",
       "      <td>0</td>\n",
       "      <td>0</td>\n",
       "      <td>0</td>\n",
       "      <td>...</td>\n",
       "      <td>0</td>\n",
       "      <td>0</td>\n",
       "      <td>0</td>\n",
       "      <td>0</td>\n",
       "      <td>1</td>\n",
       "      <td>0</td>\n",
       "      <td>0.177778</td>\n",
       "      <td>0.0</td>\n",
       "      <td>0.34</td>\n",
       "      <td>0.072636</td>\n",
       "    </tr>\n",
       "  </tbody>\n",
       "</table>\n",
       "<p>5 rows × 36 columns</p>\n",
       "</div>"
      ],
      "text/plain": [
       "   Gender  is_Married  job  is_physically_ok  has_taken_car_loan  \\\n",
       "0       1           2    2                 3                   4   \n",
       "1       0           6    2                 3                   4   \n",
       "2       1           3    2                 3                   3   \n",
       "3       1           2    0                 3                   3   \n",
       "4       2           6    2                 3                   4   \n",
       "\n",
       "   preferable_fuel_choice  City_#B?TL  City_#VPI@  City_#XY@G  City_Barcelona  \\\n",
       "0                       3           0           0           0               0   \n",
       "1                       5           0           0           0               0   \n",
       "2                       5           0           0           0               0   \n",
       "3                       1           0           0           0               0   \n",
       "4                       3           0           0           0               0   \n",
       "\n",
       "   ...  City_Shinjuku  City_Sydney  City_Taipei  City_Toronto  City_Vancouver  \\\n",
       "0  ...              0            0            0             0               0   \n",
       "1  ...              0            0            0             0               0   \n",
       "2  ...              0            0            0             0               0   \n",
       "3  ...              0            0            0             0               1   \n",
       "4  ...              0            0            0             0               1   \n",
       "\n",
       "   City_Vienna       Age  family_size  height  annual_income  \n",
       "0            0  0.466667          0.2    0.60       0.060765  \n",
       "1            0  0.000000          0.0    0.26       0.014085  \n",
       "2            0  0.888889          0.2    0.76       0.302616  \n",
       "3            0  0.177778          0.4    0.70       0.279960  \n",
       "4            0  0.177778          0.0    0.34       0.072636  \n",
       "\n",
       "[5 rows x 36 columns]"
      ]
     },
     "execution_count": 72,
     "metadata": {},
     "output_type": "execute_result"
    }
   ],
   "source": [
    "X.head()"
   ]
  },
  {
   "cell_type": "code",
   "execution_count": 73,
   "id": "a2ea2f95",
   "metadata": {},
   "outputs": [
    {
     "data": {
      "text/html": [
       "<div>\n",
       "<style scoped>\n",
       "    .dataframe tbody tr th:only-of-type {\n",
       "        vertical-align: middle;\n",
       "    }\n",
       "\n",
       "    .dataframe tbody tr th {\n",
       "        vertical-align: top;\n",
       "    }\n",
       "\n",
       "    .dataframe thead th {\n",
       "        text-align: right;\n",
       "    }\n",
       "</style>\n",
       "<table border=\"1\" class=\"dataframe\">\n",
       "  <thead>\n",
       "    <tr style=\"text-align: right;\">\n",
       "      <th></th>\n",
       "      <th>Gender</th>\n",
       "      <th>is_Married</th>\n",
       "      <th>job</th>\n",
       "      <th>is_physically_ok</th>\n",
       "      <th>has_taken_car_loan</th>\n",
       "      <th>preferable_fuel_choice</th>\n",
       "      <th>City_#B?TL</th>\n",
       "      <th>City_#VPI@</th>\n",
       "      <th>City_#XY@G</th>\n",
       "      <th>City_Barcelona</th>\n",
       "      <th>...</th>\n",
       "      <th>City_Shinjuku</th>\n",
       "      <th>City_Sydney</th>\n",
       "      <th>City_Taipei</th>\n",
       "      <th>City_Toronto</th>\n",
       "      <th>City_Vancouver</th>\n",
       "      <th>City_Vienna</th>\n",
       "      <th>Age</th>\n",
       "      <th>family_size</th>\n",
       "      <th>height</th>\n",
       "      <th>annual_income</th>\n",
       "    </tr>\n",
       "  </thead>\n",
       "  <tbody>\n",
       "    <tr>\n",
       "      <th>count</th>\n",
       "      <td>30000.000000</td>\n",
       "      <td>30000.000000</td>\n",
       "      <td>30000.000000</td>\n",
       "      <td>30000.000000</td>\n",
       "      <td>30000.000000</td>\n",
       "      <td>30000.000000</td>\n",
       "      <td>30000.000000</td>\n",
       "      <td>30000.000000</td>\n",
       "      <td>30000.000000</td>\n",
       "      <td>30000.000000</td>\n",
       "      <td>...</td>\n",
       "      <td>30000.000000</td>\n",
       "      <td>30000.000000</td>\n",
       "      <td>30000.000000</td>\n",
       "      <td>30000.000000</td>\n",
       "      <td>30000.000000</td>\n",
       "      <td>30000.000000</td>\n",
       "      <td>30000.000000</td>\n",
       "      <td>30000.000000</td>\n",
       "      <td>30000.000000</td>\n",
       "      <td>30000.000000</td>\n",
       "    </tr>\n",
       "    <tr>\n",
       "      <th>mean</th>\n",
       "      <td>0.722800</td>\n",
       "      <td>3.600133</td>\n",
       "      <td>1.194500</td>\n",
       "      <td>2.871800</td>\n",
       "      <td>3.470533</td>\n",
       "      <td>3.058267</td>\n",
       "      <td>0.000033</td>\n",
       "      <td>0.000033</td>\n",
       "      <td>0.000033</td>\n",
       "      <td>0.062633</td>\n",
       "      <td>...</td>\n",
       "      <td>0.043300</td>\n",
       "      <td>0.043867</td>\n",
       "      <td>0.045000</td>\n",
       "      <td>0.044133</td>\n",
       "      <td>0.043567</td>\n",
       "      <td>0.044867</td>\n",
       "      <td>0.355315</td>\n",
       "      <td>0.375076</td>\n",
       "      <td>0.460360</td>\n",
       "      <td>0.166238</td>\n",
       "    </tr>\n",
       "    <tr>\n",
       "      <th>std</th>\n",
       "      <td>0.717155</td>\n",
       "      <td>1.565946</td>\n",
       "      <td>1.304119</td>\n",
       "      <td>0.606666</td>\n",
       "      <td>0.499807</td>\n",
       "      <td>1.790674</td>\n",
       "      <td>0.005774</td>\n",
       "      <td>0.005774</td>\n",
       "      <td>0.005774</td>\n",
       "      <td>0.242306</td>\n",
       "      <td>...</td>\n",
       "      <td>0.203535</td>\n",
       "      <td>0.204802</td>\n",
       "      <td>0.207308</td>\n",
       "      <td>0.205395</td>\n",
       "      <td>0.204132</td>\n",
       "      <td>0.207015</td>\n",
       "      <td>0.218942</td>\n",
       "      <td>0.325101</td>\n",
       "      <td>0.222152</td>\n",
       "      <td>0.121807</td>\n",
       "    </tr>\n",
       "    <tr>\n",
       "      <th>min</th>\n",
       "      <td>0.000000</td>\n",
       "      <td>0.000000</td>\n",
       "      <td>0.000000</td>\n",
       "      <td>0.000000</td>\n",
       "      <td>0.000000</td>\n",
       "      <td>0.000000</td>\n",
       "      <td>0.000000</td>\n",
       "      <td>0.000000</td>\n",
       "      <td>0.000000</td>\n",
       "      <td>0.000000</td>\n",
       "      <td>...</td>\n",
       "      <td>0.000000</td>\n",
       "      <td>0.000000</td>\n",
       "      <td>0.000000</td>\n",
       "      <td>0.000000</td>\n",
       "      <td>0.000000</td>\n",
       "      <td>0.000000</td>\n",
       "      <td>0.000000</td>\n",
       "      <td>0.000000</td>\n",
       "      <td>0.000000</td>\n",
       "      <td>0.000000</td>\n",
       "    </tr>\n",
       "    <tr>\n",
       "      <th>25%</th>\n",
       "      <td>0.000000</td>\n",
       "      <td>2.000000</td>\n",
       "      <td>0.000000</td>\n",
       "      <td>3.000000</td>\n",
       "      <td>3.000000</td>\n",
       "      <td>1.000000</td>\n",
       "      <td>0.000000</td>\n",
       "      <td>0.000000</td>\n",
       "      <td>0.000000</td>\n",
       "      <td>0.000000</td>\n",
       "      <td>...</td>\n",
       "      <td>0.000000</td>\n",
       "      <td>0.000000</td>\n",
       "      <td>0.000000</td>\n",
       "      <td>0.000000</td>\n",
       "      <td>0.000000</td>\n",
       "      <td>0.000000</td>\n",
       "      <td>0.200000</td>\n",
       "      <td>0.000000</td>\n",
       "      <td>0.280000</td>\n",
       "      <td>0.070423</td>\n",
       "    </tr>\n",
       "    <tr>\n",
       "      <th>50%</th>\n",
       "      <td>1.000000</td>\n",
       "      <td>3.000000</td>\n",
       "      <td>2.000000</td>\n",
       "      <td>3.000000</td>\n",
       "      <td>3.000000</td>\n",
       "      <td>3.000000</td>\n",
       "      <td>0.000000</td>\n",
       "      <td>0.000000</td>\n",
       "      <td>0.000000</td>\n",
       "      <td>0.000000</td>\n",
       "      <td>...</td>\n",
       "      <td>0.000000</td>\n",
       "      <td>0.000000</td>\n",
       "      <td>0.000000</td>\n",
       "      <td>0.000000</td>\n",
       "      <td>0.000000</td>\n",
       "      <td>0.000000</td>\n",
       "      <td>0.333333</td>\n",
       "      <td>0.400000</td>\n",
       "      <td>0.440000</td>\n",
       "      <td>0.161559</td>\n",
       "    </tr>\n",
       "    <tr>\n",
       "      <th>75%</th>\n",
       "      <td>1.000000</td>\n",
       "      <td>6.000000</td>\n",
       "      <td>2.000000</td>\n",
       "      <td>3.000000</td>\n",
       "      <td>4.000000</td>\n",
       "      <td>5.000000</td>\n",
       "      <td>0.000000</td>\n",
       "      <td>0.000000</td>\n",
       "      <td>0.000000</td>\n",
       "      <td>0.000000</td>\n",
       "      <td>...</td>\n",
       "      <td>0.000000</td>\n",
       "      <td>0.000000</td>\n",
       "      <td>0.000000</td>\n",
       "      <td>0.000000</td>\n",
       "      <td>0.000000</td>\n",
       "      <td>0.000000</td>\n",
       "      <td>0.466667</td>\n",
       "      <td>0.600000</td>\n",
       "      <td>0.600000</td>\n",
       "      <td>0.252918</td>\n",
       "    </tr>\n",
       "    <tr>\n",
       "      <th>max</th>\n",
       "      <td>6.000000</td>\n",
       "      <td>7.000000</td>\n",
       "      <td>7.000000</td>\n",
       "      <td>3.000000</td>\n",
       "      <td>4.000000</td>\n",
       "      <td>6.000000</td>\n",
       "      <td>1.000000</td>\n",
       "      <td>1.000000</td>\n",
       "      <td>1.000000</td>\n",
       "      <td>1.000000</td>\n",
       "      <td>...</td>\n",
       "      <td>1.000000</td>\n",
       "      <td>1.000000</td>\n",
       "      <td>1.000000</td>\n",
       "      <td>1.000000</td>\n",
       "      <td>1.000000</td>\n",
       "      <td>1.000000</td>\n",
       "      <td>1.000000</td>\n",
       "      <td>1.000000</td>\n",
       "      <td>1.000000</td>\n",
       "      <td>1.000000</td>\n",
       "    </tr>\n",
       "  </tbody>\n",
       "</table>\n",
       "<p>8 rows × 36 columns</p>\n",
       "</div>"
      ],
      "text/plain": [
       "             Gender    is_Married           job  is_physically_ok  \\\n",
       "count  30000.000000  30000.000000  30000.000000      30000.000000   \n",
       "mean       0.722800      3.600133      1.194500          2.871800   \n",
       "std        0.717155      1.565946      1.304119          0.606666   \n",
       "min        0.000000      0.000000      0.000000          0.000000   \n",
       "25%        0.000000      2.000000      0.000000          3.000000   \n",
       "50%        1.000000      3.000000      2.000000          3.000000   \n",
       "75%        1.000000      6.000000      2.000000          3.000000   \n",
       "max        6.000000      7.000000      7.000000          3.000000   \n",
       "\n",
       "       has_taken_car_loan  preferable_fuel_choice    City_#B?TL    City_#VPI@  \\\n",
       "count        30000.000000            30000.000000  30000.000000  30000.000000   \n",
       "mean             3.470533                3.058267      0.000033      0.000033   \n",
       "std              0.499807                1.790674      0.005774      0.005774   \n",
       "min              0.000000                0.000000      0.000000      0.000000   \n",
       "25%              3.000000                1.000000      0.000000      0.000000   \n",
       "50%              3.000000                3.000000      0.000000      0.000000   \n",
       "75%              4.000000                5.000000      0.000000      0.000000   \n",
       "max              4.000000                6.000000      1.000000      1.000000   \n",
       "\n",
       "         City_#XY@G  City_Barcelona  ...  City_Shinjuku   City_Sydney  \\\n",
       "count  30000.000000    30000.000000  ...   30000.000000  30000.000000   \n",
       "mean       0.000033        0.062633  ...       0.043300      0.043867   \n",
       "std        0.005774        0.242306  ...       0.203535      0.204802   \n",
       "min        0.000000        0.000000  ...       0.000000      0.000000   \n",
       "25%        0.000000        0.000000  ...       0.000000      0.000000   \n",
       "50%        0.000000        0.000000  ...       0.000000      0.000000   \n",
       "75%        0.000000        0.000000  ...       0.000000      0.000000   \n",
       "max        1.000000        1.000000  ...       1.000000      1.000000   \n",
       "\n",
       "        City_Taipei  City_Toronto  City_Vancouver   City_Vienna           Age  \\\n",
       "count  30000.000000  30000.000000    30000.000000  30000.000000  30000.000000   \n",
       "mean       0.045000      0.044133        0.043567      0.044867      0.355315   \n",
       "std        0.207308      0.205395        0.204132      0.207015      0.218942   \n",
       "min        0.000000      0.000000        0.000000      0.000000      0.000000   \n",
       "25%        0.000000      0.000000        0.000000      0.000000      0.200000   \n",
       "50%        0.000000      0.000000        0.000000      0.000000      0.333333   \n",
       "75%        0.000000      0.000000        0.000000      0.000000      0.466667   \n",
       "max        1.000000      1.000000        1.000000      1.000000      1.000000   \n",
       "\n",
       "        family_size        height  annual_income  \n",
       "count  30000.000000  30000.000000   30000.000000  \n",
       "mean       0.375076      0.460360       0.166238  \n",
       "std        0.325101      0.222152       0.121807  \n",
       "min        0.000000      0.000000       0.000000  \n",
       "25%        0.000000      0.280000       0.070423  \n",
       "50%        0.400000      0.440000       0.161559  \n",
       "75%        0.600000      0.600000       0.252918  \n",
       "max        1.000000      1.000000       1.000000  \n",
       "\n",
       "[8 rows x 36 columns]"
      ]
     },
     "execution_count": 73,
     "metadata": {},
     "output_type": "execute_result"
    }
   ],
   "source": [
    "X.describe()"
   ]
  },
  {
   "cell_type": "markdown",
   "id": "77599fee",
   "metadata": {},
   "source": [
    "# Modeling\n",
    "# Splitting dataset into training and test sets"
   ]
  },
  {
   "cell_type": "code",
   "execution_count": 74,
   "id": "25046b93",
   "metadata": {},
   "outputs": [],
   "source": [
    "from sklearn.model_selection import train_test_split\n",
    "X_train, X_test, y_train, y_test = train_test_split(X, y, test_size = 0.25, random_state =0 ) "
   ]
  },
  {
   "cell_type": "code",
   "execution_count": 75,
   "id": "79afebc4",
   "metadata": {},
   "outputs": [
    {
     "data": {
      "text/plain": [
       "(22500, 36)"
      ]
     },
     "execution_count": 75,
     "metadata": {},
     "output_type": "execute_result"
    }
   ],
   "source": [
    "X_train.shape"
   ]
  },
  {
   "cell_type": "code",
   "execution_count": 76,
   "id": "e0b11ba8",
   "metadata": {},
   "outputs": [
    {
     "data": {
      "text/plain": [
       "(7500, 36)"
      ]
     },
     "execution_count": 76,
     "metadata": {},
     "output_type": "execute_result"
    }
   ],
   "source": [
    "X_test.shape"
   ]
  },
  {
   "cell_type": "code",
   "execution_count": 77,
   "id": "0fdeef2f",
   "metadata": {},
   "outputs": [
    {
     "data": {
      "text/plain": [
       "(22500,)"
      ]
     },
     "execution_count": 77,
     "metadata": {},
     "output_type": "execute_result"
    }
   ],
   "source": [
    "y_train.shape"
   ]
  },
  {
   "cell_type": "code",
   "execution_count": 78,
   "id": "ec916b8e",
   "metadata": {},
   "outputs": [
    {
     "data": {
      "text/plain": [
       "(7500,)"
      ]
     },
     "execution_count": 78,
     "metadata": {},
     "output_type": "execute_result"
    }
   ],
   "source": [
    "y_test.shape"
   ]
  },
  {
   "cell_type": "markdown",
   "id": "eb6bdbc9",
   "metadata": {},
   "source": [
    "# Supervised Machine Learning Models\n",
    "# Logistic Regression"
   ]
  },
  {
   "cell_type": "code",
   "execution_count": 79,
   "id": "58d5e96d",
   "metadata": {},
   "outputs": [],
   "source": [
    "import warnings\n",
    "warnings.filterwarnings('ignore')"
   ]
  },
  {
   "cell_type": "code",
   "execution_count": 80,
   "id": "fbf8e8e8",
   "metadata": {},
   "outputs": [
    {
     "data": {
      "text/plain": [
       "LogisticRegression()"
      ]
     },
     "execution_count": 80,
     "metadata": {},
     "output_type": "execute_result"
    }
   ],
   "source": [
    "#To fit the model\n",
    "from sklearn.linear_model import LogisticRegression\n",
    "lr = LogisticRegression()\n",
    "lr.fit(X_train, y_train)"
   ]
  },
  {
   "cell_type": "code",
   "execution_count": 81,
   "id": "b69847bf",
   "metadata": {},
   "outputs": [
    {
     "name": "stdout",
     "output_type": "stream",
     "text": [
      "Predicted values are:  [13 12 11 ... 10  1  0]\n"
     ]
    }
   ],
   "source": [
    "#To predict\n",
    "y_pred1 = lr.predict(X_test)\n",
    "print('Predicted values are: ',y_pred1)"
   ]
  },
  {
   "cell_type": "code",
   "execution_count": 82,
   "id": "27c8dc48",
   "metadata": {},
   "outputs": [],
   "source": [
    "#To check the accuracy, precision score, confusion matrix, recall score, f1 score\n",
    "from sklearn.metrics import confusion_matrix, accuracy_score , recall_score , precision_score, f1_score"
   ]
  },
  {
   "cell_type": "code",
   "execution_count": 83,
   "id": "d2202952",
   "metadata": {},
   "outputs": [],
   "source": [
    "#Confusion Matrix\n",
    "conf1=confusion_matrix(y_test,y_pred1)"
   ]
  },
  {
   "cell_type": "code",
   "execution_count": 85,
   "id": "dad53113",
   "metadata": {},
   "outputs": [
    {
     "data": {
      "text/plain": [
       "array([[148, 104,   4,   0,  10, 114,   1,   0,   0,   1,  12,   0,   0,\n",
       "          1,   0,   0,   6,   0],\n",
       "       [ 50, 327,   2,  11,  38, 144,   2,   6,   8,  21,  75,   0,  37,\n",
       "         26,   2,   0,  55,   0],\n",
       "       [  0,   0,  69,   1,   1,   2,  55,  29,   0,   0,   0,  17,   0,\n",
       "         29,  15,   0,   0,   0],\n",
       "       [  9,  31,   0,  29,   3,  17,   1,   1,   0,   0,  28,   2,   0,\n",
       "          4,   4,   0,   8,   0],\n",
       "       [ 11,  99,   8,   0, 123,  30,   0,  58,   1,  18, 116,  10,  13,\n",
       "         94,  21,   0,  42,   3],\n",
       "       [ 31,  64,   1,   0,   3, 327,   3,   0,   0,   3,  20,   0,   0,\n",
       "          6,   0,   0,   0,   0],\n",
       "       [  0,   2,  25,   1,   1,   0, 174,  26,   0,   3,   0,   0,   5,\n",
       "          3,   3,   0,   2,   0],\n",
       "       [  1,  11,  26,   1,   8,   0,  21, 399,   0,  21,  14,   9,  47,\n",
       "        120,  14,  17,   8,   0],\n",
       "       [  9,  29,   0,   0,   0,   0,   0,   0,   0,   8,   3,   0,   0,\n",
       "         21,   0,   0,   2,   0],\n",
       "       [  3,  64,   0,   1,  25,   2,  23,  10,   4,  97,   5,   0,   1,\n",
       "        127,  23,   2,  28,   0],\n",
       "       [ 23, 153,   4,   5, 101,   1,   0,  29,   2,   2, 161,   9,  20,\n",
       "         14,  22,   4,  22,   2],\n",
       "       [  0,   0,  14,   0,   0,   0,   0,  74,   0,   0,   0,   4,   5,\n",
       "         14,  16,   0,   0,   0],\n",
       "       [  1,  55,   4,   0,  28,   0,   0, 115,   0,   8,  37,   7,  55,\n",
       "        218,  37,   7,  10,   0],\n",
       "       [  0,   9,  18,   0,  30,   8,  22, 155,   4,  73,   4,   0,  24,\n",
       "        549,   5,  39,  23,   0],\n",
       "       [  0,   1,  13,   0,   3,   0,  34,  31,   0,  39,   1,   9,   1,\n",
       "         38,  80,   0,   2,   0],\n",
       "       [  0,   1,   0,   0,   1,   0,   0,  45,   0,   0,   1,   0,   2,\n",
       "         80,   0, 103,   0,   0],\n",
       "       [  4, 140,   1,   1,  76,   3,   1,  11,   0,  32,  73,   3,   0,\n",
       "        123,   9,  24,  63,   4],\n",
       "       [  1,   8,   8,   0,   9,   0,   0,  10,   0,   0,   9,   2,   0,\n",
       "         20,   0,   5,   1,  14]], dtype=int64)"
      ]
     },
     "execution_count": 85,
     "metadata": {},
     "output_type": "execute_result"
    }
   ],
   "source": [
    "conf1"
   ]
  },
  {
   "cell_type": "code",
   "execution_count": 86,
   "id": "84aea1b0",
   "metadata": {},
   "outputs": [
    {
     "data": {
      "text/html": [
       "<div>\n",
       "<style scoped>\n",
       "    .dataframe tbody tr th:only-of-type {\n",
       "        vertical-align: middle;\n",
       "    }\n",
       "\n",
       "    .dataframe tbody tr th {\n",
       "        vertical-align: top;\n",
       "    }\n",
       "\n",
       "    .dataframe thead th {\n",
       "        text-align: right;\n",
       "    }\n",
       "</style>\n",
       "<table border=\"1\" class=\"dataframe\">\n",
       "  <thead>\n",
       "    <tr style=\"text-align: right;\">\n",
       "      <th></th>\n",
       "      <th>Metric</th>\n",
       "      <th>Value</th>\n",
       "    </tr>\n",
       "  </thead>\n",
       "  <tbody>\n",
       "    <tr>\n",
       "      <th>0</th>\n",
       "      <td>Acccuracy Score</td>\n",
       "      <td>0.363</td>\n",
       "    </tr>\n",
       "    <tr>\n",
       "      <th>1</th>\n",
       "      <td>Precision Score</td>\n",
       "      <td>0.363</td>\n",
       "    </tr>\n",
       "    <tr>\n",
       "      <th>2</th>\n",
       "      <td>Recall Score</td>\n",
       "      <td>0.363</td>\n",
       "    </tr>\n",
       "    <tr>\n",
       "      <th>3</th>\n",
       "      <td>F1 Score</td>\n",
       "      <td>0.363</td>\n",
       "    </tr>\n",
       "  </tbody>\n",
       "</table>\n",
       "</div>"
      ],
      "text/plain": [
       "            Metric  Value\n",
       "0  Acccuracy Score  0.363\n",
       "1  Precision Score  0.363\n",
       "2     Recall Score  0.363\n",
       "3         F1 Score  0.363"
      ]
     },
     "execution_count": 86,
     "metadata": {},
     "output_type": "execute_result"
    }
   ],
   "source": [
    "a1=round(accuracy_score(y_test,y_pred1),3)\n",
    "p1=round(precision_score(y_test, y_pred1,pos_label='positive',average='micro'),3)\n",
    "r1=round(recall_score(y_test, y_pred1,pos_label='positive',average='micro'),3)\n",
    "f1=round(f1_score(y_test, y_pred1,pos_label='positive',average='micro'),3)\n",
    "d1={\"Metric\":['Acccuracy Score','Precision Score','Recall Score','F1 Score'],\"Value\":[a1,p1,r1,f1]}\n",
    "pd.DataFrame(d1)"
   ]
  },
  {
   "cell_type": "markdown",
   "id": "7f7f13fe",
   "metadata": {},
   "source": [
    "# KNN Classifier"
   ]
  },
  {
   "cell_type": "code",
   "execution_count": 87,
   "id": "2c19e253",
   "metadata": {},
   "outputs": [],
   "source": [
    "#To check for which k value we have highest accuracy\n",
    "from sklearn.neighbors import KNeighborsClassifier\n",
    "acc_values=[]\n",
    "neighbors=np.arange(3,15)\n",
    "for k in neighbors:\n",
    "  Classifier = KNeighborsClassifier(n_neighbors=k, metric='minkowski')\n",
    "  Classifier.fit(X_train,y_train)\n",
    "  y_pred2=Classifier.predict(X_test)\n",
    "  acc=accuracy_score(y_test,y_pred2)\n",
    "  acc_values.append(acc)"
   ]
  },
  {
   "cell_type": "code",
   "execution_count": 88,
   "id": "d771a73a",
   "metadata": {},
   "outputs": [
    {
     "data": {
      "text/plain": [
       "Text(0, 0.5, 'accuracy')"
      ]
     },
     "execution_count": 88,
     "metadata": {},
     "output_type": "execute_result"
    },
    {
     "data": {
      "image/png": "[encoded data removed]",
      "text/plain": [
       "<Figure size 432x288 with 1 Axes>"
      ]
     },
     "metadata": {
      "needs_background": "light"
     },
     "output_type": "display_data"
    }
   ],
   "source": [
    "plt.plot(neighbors,acc_values, 'o-')\n",
    "plt.xlabel('kvalue')\n",
    "plt.ylabel('accuracy')"
   ]
  },
  {
   "cell_type": "code",
   "execution_count": 89,
   "id": "5d32bb5b",
   "metadata": {},
   "outputs": [
    {
     "data": {
      "text/plain": [
       "KNeighborsClassifier(n_neighbors=4)"
      ]
     },
     "execution_count": 89,
     "metadata": {},
     "output_type": "execute_result"
    }
   ],
   "source": [
    "#To fit the model\n",
    "knn = KNeighborsClassifier(n_neighbors=4, metric='minkowski')\n",
    "knn.fit(X_train,y_train)"
   ]
  },
  {
   "cell_type": "code",
   "execution_count": 90,
   "id": "877dbda8",
   "metadata": {},
   "outputs": [
    {
     "name": "stdout",
     "output_type": "stream",
     "text": [
      "Predicted values are:  [ 4  1  7 ... 16 10  0]\n"
     ]
    }
   ],
   "source": [
    "#To predict\n",
    "y_pred2 = knn.predict(X_test)\n",
    "print('Predicted values are: ',y_pred2)"
   ]
  },
  {
   "cell_type": "code",
   "execution_count": 99,
   "id": "561d194f",
   "metadata": {},
   "outputs": [
    {
     "data": {
      "text/plain": [
       "array([[297,  30,   0,   0,  11,  32,   0,   0,   1,   2,   9,   0,   1,\n",
       "          2,   0,   3,  13,   0],\n",
       "       [ 40, 578,   1,   8,  28,  31,   0,  22,   9,   9,  30,   1,  23,\n",
       "         12,   1,   1,  10,   0],\n",
       "       [  3,   6, 137,   2,   1,   0,  29,  26,   0,   0,   2,   0,   1,\n",
       "          9,   2,   0,   0,   0],\n",
       "       [  1,   3,   7,  77,   1,  16,   0,   1,   0,   0,  16,   0,   0,\n",
       "          3,   0,   0,  12,   0],\n",
       "       [ 16,  55,   1,   1, 385,  11,   0,  60,   2,   4,  10,   0,  20,\n",
       "         42,   9,   2,  25,   4],\n",
       "       [ 61,  64,   1,  11,  20, 284,   2,   1,   1,   5,   2,   0,   0,\n",
       "          2,   0,   1,   1,   2],\n",
       "       [  2,   0,  43,   0,   0,   2, 154,  32,   0,   0,   0,   0,   0,\n",
       "         11,   1,   0,   0,   0],\n",
       "       [ 10,  17,  45,   1,  60,   0,  30, 450,   2,   0,   7,   4,  11,\n",
       "         45,   7,  11,  12,   5],\n",
       "       [  9,  26,   0,   0,   5,   0,   0,   9,  16,   2,   1,   0,   2,\n",
       "          1,   0,   0,   1,   0],\n",
       "       [  1,  17,   2,   0,   1,   0,   8,   8,   1, 264,   0,   0,  30,\n",
       "         33,  24,   2,  24,   0],\n",
       "       [ 60,  79,   5,  10,  12,   4,   2,  29,   4,   0, 275,   0,  66,\n",
       "         11,  16,   0,   1,   0],\n",
       "       [  0,   2,   0,   0,   0,   0,   0,   8,   0,   0,   0,  79,  14,\n",
       "          0,   0,  16,   8,   0],\n",
       "       [  1,  20,   1,   0,  40,   0,   1,  38,   0,  34,  55,  38, 329,\n",
       "         23,   0,   0,   2,   0],\n",
       "       [ 13,  29,  12,   1,  51,   3,  16,  71,   2,  59,  13,   1,  35,\n",
       "        589,  15,  15,  26,  12],\n",
       "       [  0,   1,  16,   0,   8,   0,  27,  30,   0,  33,   9,   5,   4,\n",
       "         30,  87,   1,   1,   0],\n",
       "       [  3,   1,   1,   0,   2,   5,   0,   7,   0,   1,   3,  15,   0,\n",
       "         72,   0, 108,  15,   0],\n",
       "       [ 10,  31,   3,   4,  46,   9,  14,  34,   3,  58,   5,   7,   5,\n",
       "         66,   2,  34, 237,   0],\n",
       "       [  0,   5,   0,   0,  28,   1,   0,  11,   0,   0,   0,   0,   0,\n",
       "         22,   0,   1,   0,  19]], dtype=int64)"
      ]
     },
     "execution_count": 99,
     "metadata": {},
     "output_type": "execute_result"
    }
   ],
   "source": [
    "#Confusion Matrix\n",
    "conf2=confusion_matrix(y_test,y_pred2)\n",
    "conf2"
   ]
  },
  {
   "cell_type": "code",
   "execution_count": 118,
   "id": "863f0477",
   "metadata": {},
   "outputs": [
    {
     "data": {
      "text/html": [
       "<div>\n",
       "<style scoped>\n",
       "    .dataframe tbody tr th:only-of-type {\n",
       "        vertical-align: middle;\n",
       "    }\n",
       "\n",
       "    .dataframe tbody tr th {\n",
       "        vertical-align: top;\n",
       "    }\n",
       "\n",
       "    .dataframe thead th {\n",
       "        text-align: right;\n",
       "    }\n",
       "</style>\n",
       "<table border=\"1\" class=\"dataframe\">\n",
       "  <thead>\n",
       "    <tr style=\"text-align: right;\">\n",
       "      <th></th>\n",
       "      <th>Metric</th>\n",
       "      <th>Value</th>\n",
       "    </tr>\n",
       "  </thead>\n",
       "  <tbody>\n",
       "    <tr>\n",
       "      <th>0</th>\n",
       "      <td>Acccuracy Score</td>\n",
       "      <td>0.582</td>\n",
       "    </tr>\n",
       "    <tr>\n",
       "      <th>1</th>\n",
       "      <td>Precision Score</td>\n",
       "      <td>0.582</td>\n",
       "    </tr>\n",
       "    <tr>\n",
       "      <th>2</th>\n",
       "      <td>Recall Score</td>\n",
       "      <td>0.582</td>\n",
       "    </tr>\n",
       "    <tr>\n",
       "      <th>3</th>\n",
       "      <td>F1 Score</td>\n",
       "      <td>0.582</td>\n",
       "    </tr>\n",
       "  </tbody>\n",
       "</table>\n",
       "</div>"
      ],
      "text/plain": [
       "            Metric  Value\n",
       "0  Acccuracy Score  0.582\n",
       "1  Precision Score  0.582\n",
       "2     Recall Score  0.582\n",
       "3         F1 Score  0.582"
      ]
     },
     "execution_count": 118,
     "metadata": {},
     "output_type": "execute_result"
    }
   ],
   "source": [
    "a1=round(accuracy_score(y_test,y_pred2),3)\n",
    "p1=round(precision_score(y_test, y_pred2,pos_label='positive',average='micro'),3)\n",
    "r1=round(recall_score(y_test, y_pred2,pos_label='positive',average='micro'),3)\n",
    "f1=round(f1_score(y_test, y_pred2,pos_label='positive',average='micro'),3)\n",
    "d1={\"Metric\":['Acccuracy Score','Precision Score','Recall Score','F1 Score'],\"Value\":[a1,p1,r1,f1]}\n",
    "pd.DataFrame(d1)"
   ]
  },
  {
   "cell_type": "markdown",
   "id": "b4dc1b5a",
   "metadata": {},
   "source": [
    "# Support Vector Machine"
   ]
  },
  {
   "cell_type": "code",
   "execution_count": 93,
   "id": "cd7644e0",
   "metadata": {},
   "outputs": [
    {
     "data": {
      "text/plain": [
       "SVC(kernel='linear')"
      ]
     },
     "execution_count": 93,
     "metadata": {},
     "output_type": "execute_result"
    }
   ],
   "source": [
    "# To fit the model\n",
    "from sklearn.svm import SVC\n",
    "svc = SVC(kernel = 'linear')\n",
    "svc.fit(X_train, y_train)"
   ]
  },
  {
   "cell_type": "code",
   "execution_count": 94,
   "id": "421be37b",
   "metadata": {},
   "outputs": [
    {
     "name": "stdout",
     "output_type": "stream",
     "text": [
      "Predicted values are:  [13 10  7 ...  7 12  0]\n"
     ]
    }
   ],
   "source": [
    "#To predict\n",
    "y_pred3 = svc.predict(X_test)\n",
    "print('Predicted values are: ',y_pred3)"
   ]
  },
  {
   "cell_type": "code",
   "execution_count": 98,
   "id": "f639a511",
   "metadata": {},
   "outputs": [
    {
     "data": {
      "text/plain": [
       "array([[110, 155,   0,   0,  22, 103,   0,   0,   0,   4,   3,   0,   0,\n",
       "          0,   0,   1,   3,   0],\n",
       "       [  9, 366,   3,   2,  72, 137,   0,  24,   3,  15,  36,   0,  42,\n",
       "         19,   0,   0,  76,   0],\n",
       "       [  0,   0, 163,   0,   4,   0,  48,   2,   0,   0,   0,   0,   0,\n",
       "          0,   0,   0,   0,   1],\n",
       "       [ 18,  38,   9,  58,   1,   2,   0,   0,   0,   0,  11,   0,   0,\n",
       "          0,   0,   0,   0,   0],\n",
       "       [ 15, 118,   5,   9, 160,   8,   0,  79,   0,   8,  80,   0,  17,\n",
       "         71,  12,   0,  42,  23],\n",
       "       [ 44,  90,   0,   0,   9, 296,   0,   0,   0,   6,   5,   0,   0,\n",
       "          0,   2,   2,   4,   0],\n",
       "       [  0,   0,  49,   0,   1,   0, 181,  14,   0,   0,   0,   0,   0,\n",
       "          0,   0,   0,   0,   0],\n",
       "       [  0,   5,  66,   1,  12,   1,  35, 485,   0,   5,   0,   0,   0,\n",
       "         97,   1,   2,   7,   0],\n",
       "       [ 10,  35,   0,   1,   1,   0,   0,   0,   0,   2,   1,   0,   0,\n",
       "         22,   0,   0,   0,   0],\n",
       "       [  9,  44,   0,   1,  28,   1,  33,   3,   0,  91,   2,   0,   0,\n",
       "        123,  33,   4,  42,   1],\n",
       "       [  5, 162,   0,   0, 110,   0,   1,   5,   0,   3, 207,   0,   4,\n",
       "         24,  16,   1,  35,   1],\n",
       "       [  0,   0,  37,   0,   0,   0,   0,  65,   0,   0,   0,   4,   0,\n",
       "          3,  18,   0,   0,   0],\n",
       "       [  3,  47,  32,   0,  30,   0,   0, 152,   0,   0,  29,   0,  50,\n",
       "        187,  50,   0,   2,   0],\n",
       "       [  2,  11,  20,   0,  41,   5,  23, 181,   0,  63,   5,   0,   4,\n",
       "        586,   0,   9,  13,   0],\n",
       "       [  0,   0,  20,   0,   3,   0,  32,  19,   0,  16,   0,   0,   0,\n",
       "         19, 142,   0,   1,   0],\n",
       "       [  0,   1,   0,   0,   0,   0,   0,  40,   0,   1,   1,   0,   1,\n",
       "         18,   0, 170,   1,   0],\n",
       "       [  5, 115,   3,   2,  77,   0,   1,  46,   0,  39,  54,   0,   0,\n",
       "         70,   3,  30, 121,   2],\n",
       "       [  0,  11,   1,   0,   9,   0,   0,   2,   0,   0,   0,   0,   0,\n",
       "          5,   0,   0,   1,  58]], dtype=int64)"
      ]
     },
     "execution_count": 98,
     "metadata": {},
     "output_type": "execute_result"
    }
   ],
   "source": [
    "#Confusion Matrix\n",
    "conf3=confusion_matrix(y_test,y_pred3)\n",
    "conf3"
   ]
  },
  {
   "cell_type": "code",
   "execution_count": 119,
   "id": "21bb7d4b",
   "metadata": {},
   "outputs": [
    {
     "data": {
      "text/html": [
       "<div>\n",
       "<style scoped>\n",
       "    .dataframe tbody tr th:only-of-type {\n",
       "        vertical-align: middle;\n",
       "    }\n",
       "\n",
       "    .dataframe tbody tr th {\n",
       "        vertical-align: top;\n",
       "    }\n",
       "\n",
       "    .dataframe thead th {\n",
       "        text-align: right;\n",
       "    }\n",
       "</style>\n",
       "<table border=\"1\" class=\"dataframe\">\n",
       "  <thead>\n",
       "    <tr style=\"text-align: right;\">\n",
       "      <th></th>\n",
       "      <th>Metric</th>\n",
       "      <th>Value</th>\n",
       "    </tr>\n",
       "  </thead>\n",
       "  <tbody>\n",
       "    <tr>\n",
       "      <th>0</th>\n",
       "      <td>Acccuracy Score</td>\n",
       "      <td>0.433</td>\n",
       "    </tr>\n",
       "    <tr>\n",
       "      <th>1</th>\n",
       "      <td>Precision Score</td>\n",
       "      <td>0.433</td>\n",
       "    </tr>\n",
       "    <tr>\n",
       "      <th>2</th>\n",
       "      <td>Recall Score</td>\n",
       "      <td>0.433</td>\n",
       "    </tr>\n",
       "    <tr>\n",
       "      <th>3</th>\n",
       "      <td>F1 Score</td>\n",
       "      <td>0.433</td>\n",
       "    </tr>\n",
       "  </tbody>\n",
       "</table>\n",
       "</div>"
      ],
      "text/plain": [
       "            Metric  Value\n",
       "0  Acccuracy Score  0.433\n",
       "1  Precision Score  0.433\n",
       "2     Recall Score  0.433\n",
       "3         F1 Score  0.433"
      ]
     },
     "execution_count": 119,
     "metadata": {},
     "output_type": "execute_result"
    }
   ],
   "source": [
    "a1=round(accuracy_score(y_test,y_pred3),3)\n",
    "p1=round(precision_score(y_test, y_pred3,pos_label='positive',average='micro'),3)\n",
    "r1=round(recall_score(y_test, y_pred3,pos_label='positive',average='micro'),3)\n",
    "f1=round(f1_score(y_test, y_pred3,pos_label='positive',average='micro'),3)\n",
    "d1={\"Metric\":['Acccuracy Score','Precision Score','Recall Score','F1 Score'],\"Value\":[a1,p1,r1,f1]}\n",
    "pd.DataFrame(d1)"
   ]
  },
  {
   "cell_type": "markdown",
   "id": "2073c3e4",
   "metadata": {},
   "source": [
    "# Decision Tree Classifier"
   ]
  },
  {
   "cell_type": "code",
   "execution_count": 100,
   "id": "6e8e9e01",
   "metadata": {},
   "outputs": [
    {
     "data": {
      "text/plain": [
       "DecisionTreeClassifier()"
      ]
     },
     "execution_count": 100,
     "metadata": {},
     "output_type": "execute_result"
    }
   ],
   "source": [
    "#To fit the model\n",
    "from sklearn.tree import DecisionTreeClassifier\n",
    "dt = DecisionTreeClassifier()\n",
    "dt.fit(X_train, y_train)"
   ]
  },
  {
   "cell_type": "code",
   "execution_count": 101,
   "id": "c113ff9a",
   "metadata": {},
   "outputs": [
    {
     "name": "stdout",
     "output_type": "stream",
     "text": [
      "Predicted values are:  [ 4  1  4 ... 16  1  0]\n"
     ]
    }
   ],
   "source": [
    "#To predict\n",
    "y_pred4 = dt.predict(X_test)\n",
    "print('Predicted values are: ',y_pred4)\n"
   ]
  },
  {
   "cell_type": "code",
   "execution_count": 102,
   "id": "9a506030",
   "metadata": {},
   "outputs": [],
   "source": [
    "#Confusion Matrix\n",
    "conf4=confusion_matrix(y_test,y_pred4)"
   ]
  },
  {
   "cell_type": "code",
   "execution_count": 120,
   "id": "ff7f4f1e",
   "metadata": {},
   "outputs": [
    {
     "data": {
      "text/html": [
       "<div>\n",
       "<style scoped>\n",
       "    .dataframe tbody tr th:only-of-type {\n",
       "        vertical-align: middle;\n",
       "    }\n",
       "\n",
       "    .dataframe tbody tr th {\n",
       "        vertical-align: top;\n",
       "    }\n",
       "\n",
       "    .dataframe thead th {\n",
       "        text-align: right;\n",
       "    }\n",
       "</style>\n",
       "<table border=\"1\" class=\"dataframe\">\n",
       "  <thead>\n",
       "    <tr style=\"text-align: right;\">\n",
       "      <th></th>\n",
       "      <th>Metric</th>\n",
       "      <th>Value</th>\n",
       "    </tr>\n",
       "  </thead>\n",
       "  <tbody>\n",
       "    <tr>\n",
       "      <th>0</th>\n",
       "      <td>Acccuracy Score</td>\n",
       "      <td>0.917</td>\n",
       "    </tr>\n",
       "    <tr>\n",
       "      <th>1</th>\n",
       "      <td>Precision Score</td>\n",
       "      <td>0.917</td>\n",
       "    </tr>\n",
       "    <tr>\n",
       "      <th>2</th>\n",
       "      <td>Recall Score</td>\n",
       "      <td>0.917</td>\n",
       "    </tr>\n",
       "    <tr>\n",
       "      <th>3</th>\n",
       "      <td>F1 Score</td>\n",
       "      <td>0.917</td>\n",
       "    </tr>\n",
       "  </tbody>\n",
       "</table>\n",
       "</div>"
      ],
      "text/plain": [
       "            Metric  Value\n",
       "0  Acccuracy Score  0.917\n",
       "1  Precision Score  0.917\n",
       "2     Recall Score  0.917\n",
       "3         F1 Score  0.917"
      ]
     },
     "execution_count": 120,
     "metadata": {},
     "output_type": "execute_result"
    }
   ],
   "source": [
    "a1=round(accuracy_score(y_test,y_pred4),3)\n",
    "p1=round(precision_score(y_test, y_pred4,pos_label='positive',average='micro'),3)\n",
    "r1=round(recall_score(y_test, y_pred4,pos_label='positive',average='micro'),3)\n",
    "f1=round(f1_score(y_test, y_pred4,pos_label='positive',average='micro'),3)\n",
    "d1={\"Metric\":['Acccuracy Score','Precision Score','Recall Score','F1 Score'],\"Value\":[a1,p1,r1,f1]}\n",
    "pd.DataFrame(d1)"
   ]
  },
  {
   "cell_type": "markdown",
   "id": "6731a59c",
   "metadata": {},
   "source": [
    "# Random Forest Classifier"
   ]
  },
  {
   "cell_type": "code",
   "execution_count": 104,
   "id": "385b6374",
   "metadata": {},
   "outputs": [
    {
     "data": {
      "text/plain": [
       "RandomForestClassifier()"
      ]
     },
     "execution_count": 104,
     "metadata": {},
     "output_type": "execute_result"
    }
   ],
   "source": [
    "#To fit the model\n",
    "from sklearn.ensemble import RandomForestClassifier\n",
    "rf = RandomForestClassifier()\n",
    "rf.fit(X_train, y_train)"
   ]
  },
  {
   "cell_type": "code",
   "execution_count": 105,
   "id": "d5490717",
   "metadata": {},
   "outputs": [
    {
     "name": "stdout",
     "output_type": "stream",
     "text": [
      "Predicted values are:  [ 4  1  4 ... 16  1  0]\n"
     ]
    }
   ],
   "source": [
    "#To predict\n",
    "y_pred5 = rf.predict(X_test)\n",
    "print('Predicted values are: ',y_pred5)"
   ]
  },
  {
   "cell_type": "code",
   "execution_count": 106,
   "id": "cdf3b4fe",
   "metadata": {},
   "outputs": [],
   "source": [
    "#Confusion Matrix\n",
    "conf5=confusion_matrix(y_test,y_pred5)"
   ]
  },
  {
   "cell_type": "code",
   "execution_count": 121,
   "id": "36042bfc",
   "metadata": {},
   "outputs": [
    {
     "data": {
      "text/html": [
       "<div>\n",
       "<style scoped>\n",
       "    .dataframe tbody tr th:only-of-type {\n",
       "        vertical-align: middle;\n",
       "    }\n",
       "\n",
       "    .dataframe tbody tr th {\n",
       "        vertical-align: top;\n",
       "    }\n",
       "\n",
       "    .dataframe thead th {\n",
       "        text-align: right;\n",
       "    }\n",
       "</style>\n",
       "<table border=\"1\" class=\"dataframe\">\n",
       "  <thead>\n",
       "    <tr style=\"text-align: right;\">\n",
       "      <th></th>\n",
       "      <th>Metric</th>\n",
       "      <th>Value</th>\n",
       "    </tr>\n",
       "  </thead>\n",
       "  <tbody>\n",
       "    <tr>\n",
       "      <th>0</th>\n",
       "      <td>Acccuracy Score</td>\n",
       "      <td>0.943</td>\n",
       "    </tr>\n",
       "    <tr>\n",
       "      <th>1</th>\n",
       "      <td>Precision Score</td>\n",
       "      <td>0.943</td>\n",
       "    </tr>\n",
       "    <tr>\n",
       "      <th>2</th>\n",
       "      <td>Recall Score</td>\n",
       "      <td>0.943</td>\n",
       "    </tr>\n",
       "    <tr>\n",
       "      <th>3</th>\n",
       "      <td>F1 Score</td>\n",
       "      <td>0.943</td>\n",
       "    </tr>\n",
       "  </tbody>\n",
       "</table>\n",
       "</div>"
      ],
      "text/plain": [
       "            Metric  Value\n",
       "0  Acccuracy Score  0.943\n",
       "1  Precision Score  0.943\n",
       "2     Recall Score  0.943\n",
       "3         F1 Score  0.943"
      ]
     },
     "execution_count": 121,
     "metadata": {},
     "output_type": "execute_result"
    }
   ],
   "source": [
    "a1=round(accuracy_score(y_test,y_pred5),3)\n",
    "p1=round(precision_score(y_test, y_pred5,pos_label='positive',average='micro'),3)\n",
    "r1=round(recall_score(y_test, y_pred5,pos_label='positive',average='micro'),3)\n",
    "f1=round(f1_score(y_test, y_pred5,pos_label='positive',average='micro'),3)\n",
    "d1={\"Metric\":['Acccuracy Score','Precision Score','Recall Score','F1 Score'],\"Value\":[a1,p1,r1,f1]}\n",
    "pd.DataFrame(d1)"
   ]
  },
  {
   "cell_type": "markdown",
   "id": "08c81516",
   "metadata": {},
   "source": [
    "# Gradient Boosting"
   ]
  },
  {
   "cell_type": "code",
   "execution_count": 108,
   "id": "32a26f91",
   "metadata": {},
   "outputs": [
    {
     "data": {
      "text/plain": [
       "GradientBoostingClassifier()"
      ]
     },
     "execution_count": 108,
     "metadata": {},
     "output_type": "execute_result"
    }
   ],
   "source": [
    "#To fit the model\n",
    "from sklearn.ensemble import GradientBoostingClassifier\n",
    "gb = GradientBoostingClassifier()\n",
    "gb.fit(X_train, y_train)"
   ]
  },
  {
   "cell_type": "code",
   "execution_count": 109,
   "id": "c78e1563",
   "metadata": {},
   "outputs": [
    {
     "name": "stdout",
     "output_type": "stream",
     "text": [
      "Predicted values are:  [ 4  1  4 ... 16  1  0]\n"
     ]
    }
   ],
   "source": [
    "#To predict\n",
    "y_pred6 = gb.predict(X_test)\n",
    "print('Predicted values are: ',y_pred6)"
   ]
  },
  {
   "cell_type": "code",
   "execution_count": 110,
   "id": "5659dea6",
   "metadata": {},
   "outputs": [
    {
     "data": {
      "text/plain": [
       "array([[364,  24,   0,   0,   6,   1,   0,   0,   1,   0,   0,   0,   0,\n",
       "          0,   0,   1,   4,   0],\n",
       "       [  6, 713,   1,   0,  46,   3,   0,   0,   4,   2,  11,   0,   9,\n",
       "          4,   0,   0,   5,   0],\n",
       "       [  0,   0, 204,   0,   0,   0,  10,   3,   0,   0,   0,   0,   1,\n",
       "          0,   0,   0,   0,   0],\n",
       "       [  0,   0,   2, 128,   0,   2,   0,   0,   0,   0,   5,   0,   0,\n",
       "          0,   0,   0,   0,   0],\n",
       "       [  1,  38,   0,   1, 530,   2,   0,   7,   0,   5,  18,   0,   1,\n",
       "          1,   0,   3,  13,  27],\n",
       "       [ 10,   8,   0,   0,   0, 437,   0,   0,   1,   0,   0,   0,   0,\n",
       "          0,   0,   0,   1,   1],\n",
       "       [  0,   0,  12,   0,   0,   0, 230,   1,   0,   0,   0,   0,   0,\n",
       "          0,   1,   0,   1,   0],\n",
       "       [  0,   0,   1,   0,   7,   0,   0, 665,   2,   5,   1,   2,   5,\n",
       "         20,   1,   4,   4,   0],\n",
       "       [  1,   6,   0,   0,   2,   2,   0,   0,  59,   0,   0,   0,   1,\n",
       "          0,   0,   0,   1,   0],\n",
       "       [  5,   4,   0,   0,   3,   0,   1,   5,   0, 333,   1,   0,  38,\n",
       "          9,   2,   0,  12,   2],\n",
       "       [  2,   7,   0,   0,  41,   0,   0,   1,   2,   0, 503,   0,   4,\n",
       "          3,   1,   0,   9,   1],\n",
       "       [  0,   0,   2,   0,   0,   0,   0,   1,   0,   0,   0, 122,   1,\n",
       "          0,   0,   1,   0,   0],\n",
       "       [  0,   4,   0,   0,   2,   0,   0,  20,   0,   1,   5,   1, 543,\n",
       "          3,   0,   0,   3,   0],\n",
       "       [  0,  14,   0,   0,   8,   0,   0,  18,   2,   6,   1,   2,   6,\n",
       "        869,  17,   4,  16,   0],\n",
       "       [  0,   0,   1,   0,   1,   0,   3,  24,   0,   3,   1,   7,   3,\n",
       "          0, 209,   0,   0,   0],\n",
       "       [  0,   1,   0,   0,   1,   1,   0,   1,   0,   0,   0,   0,   2,\n",
       "          4,   0, 222,   1,   0],\n",
       "       [  1,   7,   1,   0,  47,   3,   0,   1,   0,  35,  20,   0,   1,\n",
       "         10,   0,   0, 441,   1],\n",
       "       [  0,   3,   0,   0,  10,   0,   0,   0,   0,   0,   1,   0,   0,\n",
       "          1,   0,   0,   0,  72]], dtype=int64)"
      ]
     },
     "execution_count": 110,
     "metadata": {},
     "output_type": "execute_result"
    }
   ],
   "source": [
    "#Confusion Matrix\n",
    "conf6=confusion_matrix(y_test,y_pred6)\n",
    "conf6"
   ]
  },
  {
   "cell_type": "code",
   "execution_count": 122,
   "id": "7dcd44b1",
   "metadata": {},
   "outputs": [
    {
     "data": {
      "text/html": [
       "<div>\n",
       "<style scoped>\n",
       "    .dataframe tbody tr th:only-of-type {\n",
       "        vertical-align: middle;\n",
       "    }\n",
       "\n",
       "    .dataframe tbody tr th {\n",
       "        vertical-align: top;\n",
       "    }\n",
       "\n",
       "    .dataframe thead th {\n",
       "        text-align: right;\n",
       "    }\n",
       "</style>\n",
       "<table border=\"1\" class=\"dataframe\">\n",
       "  <thead>\n",
       "    <tr style=\"text-align: right;\">\n",
       "      <th></th>\n",
       "      <th>Metric</th>\n",
       "      <th>Value</th>\n",
       "    </tr>\n",
       "  </thead>\n",
       "  <tbody>\n",
       "    <tr>\n",
       "      <th>0</th>\n",
       "      <td>Acccuracy Score</td>\n",
       "      <td>0.886</td>\n",
       "    </tr>\n",
       "    <tr>\n",
       "      <th>1</th>\n",
       "      <td>Precision Score</td>\n",
       "      <td>0.886</td>\n",
       "    </tr>\n",
       "    <tr>\n",
       "      <th>2</th>\n",
       "      <td>Recall Score</td>\n",
       "      <td>0.886</td>\n",
       "    </tr>\n",
       "    <tr>\n",
       "      <th>3</th>\n",
       "      <td>F1 Score</td>\n",
       "      <td>0.886</td>\n",
       "    </tr>\n",
       "  </tbody>\n",
       "</table>\n",
       "</div>"
      ],
      "text/plain": [
       "            Metric  Value\n",
       "0  Acccuracy Score  0.886\n",
       "1  Precision Score  0.886\n",
       "2     Recall Score  0.886\n",
       "3         F1 Score  0.886"
      ]
     },
     "execution_count": 122,
     "metadata": {},
     "output_type": "execute_result"
    }
   ],
   "source": [
    "a1=round(accuracy_score(y_test,y_pred6),3)\n",
    "p1=round(precision_score(y_test, y_pred6,pos_label='positive',average='micro'),3)\n",
    "r1=round(recall_score(y_test, y_pred6,pos_label='positive',average='micro'),3)\n",
    "f1=round(f1_score(y_test, y_pred6,pos_label='positive',average='micro'),3)\n",
    "d1={\"Metric\":['Acccuracy Score','Precision Score','Recall Score','F1 Score'],\"Value\":[a1,p1,r1,f1]}\n",
    "pd.DataFrame(d1)"
   ]
  },
  {
   "cell_type": "markdown",
   "id": "124369ea",
   "metadata": {},
   "source": [
    "# Naive Bayes Classifier"
   ]
  },
  {
   "cell_type": "code",
   "execution_count": 114,
   "id": "29e1c101",
   "metadata": {},
   "outputs": [
    {
     "data": {
      "text/plain": [
       "GaussianNB()"
      ]
     },
     "execution_count": 114,
     "metadata": {},
     "output_type": "execute_result"
    }
   ],
   "source": [
    "#To fit the model\n",
    "from sklearn.naive_bayes import GaussianNB\n",
    "gnb = GaussianNB()\n",
    "gnb.fit(X_train, y_train)"
   ]
  },
  {
   "cell_type": "code",
   "execution_count": 115,
   "id": "27d32d0c",
   "metadata": {},
   "outputs": [
    {
     "name": "stdout",
     "output_type": "stream",
     "text": [
      "Predicted values are:  [12 12 11 ...  3 12  3]\n"
     ]
    }
   ],
   "source": [
    "#To predict\n",
    "y_pred8 = gnb.predict(X_test)\n",
    "print('Predicted values are: ',y_pred8)"
   ]
  },
  {
   "cell_type": "code",
   "execution_count": 116,
   "id": "faaff9b9",
   "metadata": {},
   "outputs": [],
   "source": [
    "#Confusion Matrix\n",
    "conf8=confusion_matrix(y_test,y_pred8)"
   ]
  },
  {
   "cell_type": "code",
   "execution_count": 123,
   "id": "01e34674",
   "metadata": {},
   "outputs": [
    {
     "data": {
      "text/html": [
       "<div>\n",
       "<style scoped>\n",
       "    .dataframe tbody tr th:only-of-type {\n",
       "        vertical-align: middle;\n",
       "    }\n",
       "\n",
       "    .dataframe tbody tr th {\n",
       "        vertical-align: top;\n",
       "    }\n",
       "\n",
       "    .dataframe thead th {\n",
       "        text-align: right;\n",
       "    }\n",
       "</style>\n",
       "<table border=\"1\" class=\"dataframe\">\n",
       "  <thead>\n",
       "    <tr style=\"text-align: right;\">\n",
       "      <th></th>\n",
       "      <th>Metric</th>\n",
       "      <th>Value</th>\n",
       "    </tr>\n",
       "  </thead>\n",
       "  <tbody>\n",
       "    <tr>\n",
       "      <th>0</th>\n",
       "      <td>Acccuracy Score</td>\n",
       "      <td>0.164</td>\n",
       "    </tr>\n",
       "    <tr>\n",
       "      <th>1</th>\n",
       "      <td>Precision Score</td>\n",
       "      <td>0.164</td>\n",
       "    </tr>\n",
       "    <tr>\n",
       "      <th>2</th>\n",
       "      <td>Recall Score</td>\n",
       "      <td>0.164</td>\n",
       "    </tr>\n",
       "    <tr>\n",
       "      <th>3</th>\n",
       "      <td>F1 Score</td>\n",
       "      <td>0.164</td>\n",
       "    </tr>\n",
       "  </tbody>\n",
       "</table>\n",
       "</div>"
      ],
      "text/plain": [
       "            Metric  Value\n",
       "0  Acccuracy Score  0.164\n",
       "1  Precision Score  0.164\n",
       "2     Recall Score  0.164\n",
       "3         F1 Score  0.164"
      ]
     },
     "execution_count": 123,
     "metadata": {},
     "output_type": "execute_result"
    }
   ],
   "source": [
    "a1=round(accuracy_score(y_test,y_pred8),3)\n",
    "p1=round(precision_score(y_test, y_pred8,pos_label='positive',average='micro'),3)\n",
    "r1=round(recall_score(y_test, y_pred8,pos_label='positive',average='micro'),3)\n",
    "f1=round(f1_score(y_test, y_pred8,pos_label='positive',average='micro'),3)\n",
    "d1={\"Metric\":['Acccuracy Score','Precision Score','Recall Score','F1 Score'],\"Value\":[a1,p1,r1,f1]}\n",
    "pd.DataFrame(d1)"
   ]
  },
  {
   "cell_type": "markdown",
   "id": "2b93ae12",
   "metadata": {},
   "source": [
    "Here Random Forest gives the best accuracy 94.3%"
   ]
  },
  {
   "cell_type": "markdown",
   "id": "0e405582",
   "metadata": {},
   "source": [
    "# Fine Tuning of Hyperparameters"
   ]
  },
  {
   "cell_type": "markdown",
   "id": "bfa51a89",
   "metadata": {},
   "source": [
    "# Random Forest Classifier"
   ]
  },
  {
   "cell_type": "code",
   "execution_count": 128,
   "id": "f8835ddc",
   "metadata": {},
   "outputs": [
    {
     "data": {
      "text/plain": [
       "RandomForestClassifier(bootstrap='gini', max_features=20, n_estimators=1200)"
      ]
     },
     "execution_count": 128,
     "metadata": {},
     "output_type": "execute_result"
    }
   ],
   "source": [
    "rf=RandomForestClassifier(bootstrap='gini', max_features=20,n_estimators=1200)\n",
    "rf.fit(X_train,y_train)"
   ]
  },
  {
   "cell_type": "code",
   "execution_count": 129,
   "id": "6e266e81",
   "metadata": {},
   "outputs": [
    {
     "data": {
      "text/plain": [
       "0.9457333333333333"
      ]
     },
     "execution_count": 129,
     "metadata": {},
     "output_type": "execute_result"
    }
   ],
   "source": [
    "accuracy_score(y_test,rf.predict(X_test))"
   ]
  },
  {
   "cell_type": "code",
   "execution_count": 130,
   "id": "fd363b5a",
   "metadata": {},
   "outputs": [
    {
     "data": {
      "text/plain": [
       "0.9457333333333333"
      ]
     },
     "execution_count": 130,
     "metadata": {},
     "output_type": "execute_result"
    }
   ],
   "source": [
    "f1_score(y_test,rf.predict(X_test),average='micro')"
   ]
  },
  {
   "cell_type": "markdown",
   "id": "1022f2a8",
   "metadata": {},
   "source": [
    "Accuracy increased from 94.3% to 98.5%."
   ]
  },
  {
   "cell_type": "markdown",
   "id": "4b562b1d",
   "metadata": {},
   "source": [
    "# Preprocessing on test data"
   ]
  },
  {
   "cell_type": "code",
   "execution_count": 167,
   "id": "ba2990e3",
   "metadata": {},
   "outputs": [
    {
     "name": "stdout",
     "output_type": "stream",
     "text": [
      "<class 'pandas.core.frame.DataFrame'>\n",
      "RangeIndex: 5000 entries, 0 to 4999\n",
      "Data columns (total 12 columns):\n",
      " #   Column                  Non-Null Count  Dtype  \n",
      "---  ------                  --------------  -----  \n",
      " 0   CustomerID              5000 non-null   object \n",
      " 1   Age                     4933 non-null   float64\n",
      " 2   Gender                  4919 non-null   object \n",
      " 3   City                    4928 non-null   object \n",
      " 4   is_Married              4915 non-null   object \n",
      " 5   family_size             4927 non-null   float64\n",
      " 6   height                  4933 non-null   float64\n",
      " 7   annual_income           4922 non-null   float64\n",
      " 8   job                     4926 non-null   object \n",
      " 9   is_physically_ok        4934 non-null   object \n",
      " 10  has_taken_car_loan      4939 non-null   object \n",
      " 11  preferable_fuel_choice  4917 non-null   object \n",
      "dtypes: float64(4), object(8)\n",
      "memory usage: 468.9+ KB\n"
     ]
    }
   ],
   "source": [
    "test.info()"
   ]
  },
  {
   "cell_type": "code",
   "execution_count": 168,
   "id": "26a1e4c0",
   "metadata": {},
   "outputs": [
    {
     "data": {
      "text/html": [
       "<div>\n",
       "<style scoped>\n",
       "    .dataframe tbody tr th:only-of-type {\n",
       "        vertical-align: middle;\n",
       "    }\n",
       "\n",
       "    .dataframe tbody tr th {\n",
       "        vertical-align: top;\n",
       "    }\n",
       "\n",
       "    .dataframe thead th {\n",
       "        text-align: right;\n",
       "    }\n",
       "</style>\n",
       "<table border=\"1\" class=\"dataframe\">\n",
       "  <thead>\n",
       "    <tr style=\"text-align: right;\">\n",
       "      <th></th>\n",
       "      <th>Age</th>\n",
       "      <th>family_size</th>\n",
       "      <th>height</th>\n",
       "      <th>annual_income</th>\n",
       "    </tr>\n",
       "  </thead>\n",
       "  <tbody>\n",
       "    <tr>\n",
       "      <th>count</th>\n",
       "      <td>4933.000000</td>\n",
       "      <td>4927.000000</td>\n",
       "      <td>4933.000000</td>\n",
       "      <td>4922.000000</td>\n",
       "    </tr>\n",
       "    <tr>\n",
       "      <th>mean</th>\n",
       "      <td>31.036286</td>\n",
       "      <td>2.837426</td>\n",
       "      <td>152.942631</td>\n",
       "      <td>83881.316538</td>\n",
       "    </tr>\n",
       "    <tr>\n",
       "      <th>std</th>\n",
       "      <td>9.913909</td>\n",
       "      <td>1.637387</td>\n",
       "      <td>11.265368</td>\n",
       "      <td>60359.972475</td>\n",
       "    </tr>\n",
       "    <tr>\n",
       "      <th>min</th>\n",
       "      <td>15.000000</td>\n",
       "      <td>1.000000</td>\n",
       "      <td>130.000000</td>\n",
       "      <td>2000.000000</td>\n",
       "    </tr>\n",
       "    <tr>\n",
       "      <th>25%</th>\n",
       "      <td>24.000000</td>\n",
       "      <td>1.000000</td>\n",
       "      <td>144.000000</td>\n",
       "      <td>35165.000000</td>\n",
       "    </tr>\n",
       "    <tr>\n",
       "      <th>50%</th>\n",
       "      <td>30.000000</td>\n",
       "      <td>3.000000</td>\n",
       "      <td>152.000000</td>\n",
       "      <td>81480.000000</td>\n",
       "    </tr>\n",
       "    <tr>\n",
       "      <th>75%</th>\n",
       "      <td>36.000000</td>\n",
       "      <td>4.000000</td>\n",
       "      <td>160.000000</td>\n",
       "      <td>127272.500000</td>\n",
       "    </tr>\n",
       "    <tr>\n",
       "      <th>max</th>\n",
       "      <td>60.000000</td>\n",
       "      <td>6.000000</td>\n",
       "      <td>180.000000</td>\n",
       "      <td>499900.000000</td>\n",
       "    </tr>\n",
       "  </tbody>\n",
       "</table>\n",
       "</div>"
      ],
      "text/plain": [
       "               Age  family_size       height  annual_income\n",
       "count  4933.000000  4927.000000  4933.000000    4922.000000\n",
       "mean     31.036286     2.837426   152.942631   83881.316538\n",
       "std       9.913909     1.637387    11.265368   60359.972475\n",
       "min      15.000000     1.000000   130.000000    2000.000000\n",
       "25%      24.000000     1.000000   144.000000   35165.000000\n",
       "50%      30.000000     3.000000   152.000000   81480.000000\n",
       "75%      36.000000     4.000000   160.000000  127272.500000\n",
       "max      60.000000     6.000000   180.000000  499900.000000"
      ]
     },
     "execution_count": 168,
     "metadata": {},
     "output_type": "execute_result"
    }
   ],
   "source": [
    "test.describe()"
   ]
  },
  {
   "cell_type": "code",
   "execution_count": 169,
   "id": "9177fd7d",
   "metadata": {},
   "outputs": [
    {
     "data": {
      "text/plain": [
       "CustomerID                 0\n",
       "Age                       67\n",
       "Gender                    81\n",
       "City                      72\n",
       "is_Married                85\n",
       "family_size               73\n",
       "height                    67\n",
       "annual_income             78\n",
       "job                       74\n",
       "is_physically_ok          66\n",
       "has_taken_car_loan        61\n",
       "preferable_fuel_choice    83\n",
       "dtype: int64"
      ]
     },
     "execution_count": 169,
     "metadata": {},
     "output_type": "execute_result"
    }
   ],
   "source": [
    "test.isna().sum()"
   ]
  },
  {
   "cell_type": "code",
   "execution_count": 170,
   "id": "0a3571b9",
   "metadata": {},
   "outputs": [],
   "source": [
    "num=[col for col in train.columns if train[col].dtype =='float64']"
   ]
  },
  {
   "cell_type": "code",
   "execution_count": 171,
   "id": "1e5c9c32",
   "metadata": {},
   "outputs": [
    {
     "data": {
      "text/plain": [
       "['Age', 'family_size', 'height', 'annual_income']"
      ]
     },
     "execution_count": 171,
     "metadata": {},
     "output_type": "execute_result"
    }
   ],
   "source": [
    "num"
   ]
  },
  {
   "cell_type": "code",
   "execution_count": 172,
   "id": "8336f355",
   "metadata": {},
   "outputs": [],
   "source": [
    "from sklearn.impute import KNNImputer\n",
    "knn = KNNImputer(n_neighbors=6)\n",
    "knn.fit(test[num])\n",
    "test1=pd.DataFrame(knn.transform(test[num]))"
   ]
  },
  {
   "cell_type": "code",
   "execution_count": 173,
   "id": "cdd7d3c9",
   "metadata": {},
   "outputs": [
    {
     "data": {
      "text/html": [
       "<div>\n",
       "<style scoped>\n",
       "    .dataframe tbody tr th:only-of-type {\n",
       "        vertical-align: middle;\n",
       "    }\n",
       "\n",
       "    .dataframe tbody tr th {\n",
       "        vertical-align: top;\n",
       "    }\n",
       "\n",
       "    .dataframe thead th {\n",
       "        text-align: right;\n",
       "    }\n",
       "</style>\n",
       "<table border=\"1\" class=\"dataframe\">\n",
       "  <thead>\n",
       "    <tr style=\"text-align: right;\">\n",
       "      <th></th>\n",
       "      <th>0</th>\n",
       "      <th>1</th>\n",
       "      <th>2</th>\n",
       "      <th>3</th>\n",
       "    </tr>\n",
       "  </thead>\n",
       "  <tbody>\n",
       "    <tr>\n",
       "      <th>0</th>\n",
       "      <td>32.0</td>\n",
       "      <td>6.0</td>\n",
       "      <td>142.000000</td>\n",
       "      <td>150800.0</td>\n",
       "    </tr>\n",
       "    <tr>\n",
       "      <th>1</th>\n",
       "      <td>22.0</td>\n",
       "      <td>4.0</td>\n",
       "      <td>155.000000</td>\n",
       "      <td>167000.0</td>\n",
       "    </tr>\n",
       "    <tr>\n",
       "      <th>2</th>\n",
       "      <td>46.0</td>\n",
       "      <td>2.0</td>\n",
       "      <td>151.166667</td>\n",
       "      <td>66000.0</td>\n",
       "    </tr>\n",
       "    <tr>\n",
       "      <th>3</th>\n",
       "      <td>35.0</td>\n",
       "      <td>1.0</td>\n",
       "      <td>137.000000</td>\n",
       "      <td>71820.0</td>\n",
       "    </tr>\n",
       "    <tr>\n",
       "      <th>4</th>\n",
       "      <td>48.0</td>\n",
       "      <td>3.0</td>\n",
       "      <td>162.000000</td>\n",
       "      <td>6500.0</td>\n",
       "    </tr>\n",
       "    <tr>\n",
       "      <th>...</th>\n",
       "      <td>...</td>\n",
       "      <td>...</td>\n",
       "      <td>...</td>\n",
       "      <td>...</td>\n",
       "    </tr>\n",
       "    <tr>\n",
       "      <th>4995</th>\n",
       "      <td>31.0</td>\n",
       "      <td>5.0</td>\n",
       "      <td>145.000000</td>\n",
       "      <td>87305.0</td>\n",
       "    </tr>\n",
       "    <tr>\n",
       "      <th>4996</th>\n",
       "      <td>39.0</td>\n",
       "      <td>2.0</td>\n",
       "      <td>169.000000</td>\n",
       "      <td>52870.0</td>\n",
       "    </tr>\n",
       "    <tr>\n",
       "      <th>4997</th>\n",
       "      <td>28.0</td>\n",
       "      <td>4.0</td>\n",
       "      <td>155.000000</td>\n",
       "      <td>151500.0</td>\n",
       "    </tr>\n",
       "    <tr>\n",
       "      <th>4998</th>\n",
       "      <td>37.0</td>\n",
       "      <td>5.0</td>\n",
       "      <td>153.000000</td>\n",
       "      <td>110470.0</td>\n",
       "    </tr>\n",
       "    <tr>\n",
       "      <th>4999</th>\n",
       "      <td>26.0</td>\n",
       "      <td>3.0</td>\n",
       "      <td>137.000000</td>\n",
       "      <td>33600.0</td>\n",
       "    </tr>\n",
       "  </tbody>\n",
       "</table>\n",
       "<p>5000 rows × 4 columns</p>\n",
       "</div>"
      ],
      "text/plain": [
       "         0    1           2         3\n",
       "0     32.0  6.0  142.000000  150800.0\n",
       "1     22.0  4.0  155.000000  167000.0\n",
       "2     46.0  2.0  151.166667   66000.0\n",
       "3     35.0  1.0  137.000000   71820.0\n",
       "4     48.0  3.0  162.000000    6500.0\n",
       "...    ...  ...         ...       ...\n",
       "4995  31.0  5.0  145.000000   87305.0\n",
       "4996  39.0  2.0  169.000000   52870.0\n",
       "4997  28.0  4.0  155.000000  151500.0\n",
       "4998  37.0  5.0  153.000000  110470.0\n",
       "4999  26.0  3.0  137.000000   33600.0\n",
       "\n",
       "[5000 rows x 4 columns]"
      ]
     },
     "execution_count": 173,
     "metadata": {},
     "output_type": "execute_result"
    }
   ],
   "source": [
    "test1"
   ]
  },
  {
   "cell_type": "code",
   "execution_count": 174,
   "id": "ba521ed4",
   "metadata": {},
   "outputs": [],
   "source": [
    "test1.columns=['Age', 'family_size', 'height', 'annual_income']"
   ]
  },
  {
   "cell_type": "code",
   "execution_count": 175,
   "id": "1c475962",
   "metadata": {},
   "outputs": [
    {
     "data": {
      "text/html": [
       "<div>\n",
       "<style scoped>\n",
       "    .dataframe tbody tr th:only-of-type {\n",
       "        vertical-align: middle;\n",
       "    }\n",
       "\n",
       "    .dataframe tbody tr th {\n",
       "        vertical-align: top;\n",
       "    }\n",
       "\n",
       "    .dataframe thead th {\n",
       "        text-align: right;\n",
       "    }\n",
       "</style>\n",
       "<table border=\"1\" class=\"dataframe\">\n",
       "  <thead>\n",
       "    <tr style=\"text-align: right;\">\n",
       "      <th></th>\n",
       "      <th>CustomerID</th>\n",
       "      <th>Age</th>\n",
       "      <th>Gender</th>\n",
       "      <th>City</th>\n",
       "      <th>is_Married</th>\n",
       "      <th>family_size</th>\n",
       "      <th>height</th>\n",
       "      <th>annual_income</th>\n",
       "      <th>job</th>\n",
       "      <th>is_physically_ok</th>\n",
       "      <th>has_taken_car_loan</th>\n",
       "      <th>preferable_fuel_choice</th>\n",
       "    </tr>\n",
       "  </thead>\n",
       "  <tbody>\n",
       "    <tr>\n",
       "      <th>0</th>\n",
       "      <td>CusID_30000</td>\n",
       "      <td>32.0</td>\n",
       "      <td>Female</td>\n",
       "      <td>Delhi</td>\n",
       "      <td>Married</td>\n",
       "      <td>6.0</td>\n",
       "      <td>142.000000</td>\n",
       "      <td>150800.0</td>\n",
       "      <td>Service</td>\n",
       "      <td>Yes</td>\n",
       "      <td>No</td>\n",
       "      <td>Diesel</td>\n",
       "    </tr>\n",
       "    <tr>\n",
       "      <th>1</th>\n",
       "      <td>CusID_30001</td>\n",
       "      <td>22.0</td>\n",
       "      <td>Male</td>\n",
       "      <td>Perth</td>\n",
       "      <td>Divorced</td>\n",
       "      <td>4.0</td>\n",
       "      <td>155.000000</td>\n",
       "      <td>167000.0</td>\n",
       "      <td>Service</td>\n",
       "      <td>Yes</td>\n",
       "      <td>No</td>\n",
       "      <td>Petrol</td>\n",
       "    </tr>\n",
       "    <tr>\n",
       "      <th>2</th>\n",
       "      <td>CusID_30002</td>\n",
       "      <td>46.0</td>\n",
       "      <td>Female</td>\n",
       "      <td>Barcelona</td>\n",
       "      <td>Married</td>\n",
       "      <td>2.0</td>\n",
       "      <td>151.166667</td>\n",
       "      <td>66000.0</td>\n",
       "      <td>Service</td>\n",
       "      <td>Yes</td>\n",
       "      <td>No</td>\n",
       "      <td>Petrol</td>\n",
       "    </tr>\n",
       "    <tr>\n",
       "      <th>3</th>\n",
       "      <td>CusID_30003</td>\n",
       "      <td>35.0</td>\n",
       "      <td>NaN</td>\n",
       "      <td>Kuala Lampur</td>\n",
       "      <td>Single</td>\n",
       "      <td>1.0</td>\n",
       "      <td>137.000000</td>\n",
       "      <td>71820.0</td>\n",
       "      <td>Business</td>\n",
       "      <td>Yes</td>\n",
       "      <td>NaN</td>\n",
       "      <td>Petrol</td>\n",
       "    </tr>\n",
       "    <tr>\n",
       "      <th>4</th>\n",
       "      <td>CusID_30004</td>\n",
       "      <td>48.0</td>\n",
       "      <td>Male</td>\n",
       "      <td>Sydney</td>\n",
       "      <td>Married</td>\n",
       "      <td>3.0</td>\n",
       "      <td>162.000000</td>\n",
       "      <td>6500.0</td>\n",
       "      <td>Service</td>\n",
       "      <td>Yes</td>\n",
       "      <td>Yes</td>\n",
       "      <td>Hybrid</td>\n",
       "    </tr>\n",
       "  </tbody>\n",
       "</table>\n",
       "</div>"
      ],
      "text/plain": [
       "    CustomerID   Age  Gender          City is_Married  family_size  \\\n",
       "0  CusID_30000  32.0  Female         Delhi    Married          6.0   \n",
       "1  CusID_30001  22.0    Male         Perth   Divorced          4.0   \n",
       "2  CusID_30002  46.0  Female     Barcelona    Married          2.0   \n",
       "3  CusID_30003  35.0     NaN  Kuala Lampur     Single          1.0   \n",
       "4  CusID_30004  48.0    Male        Sydney    Married          3.0   \n",
       "\n",
       "       height  annual_income       job is_physically_ok has_taken_car_loan  \\\n",
       "0  142.000000       150800.0   Service              Yes                 No   \n",
       "1  155.000000       167000.0   Service              Yes                 No   \n",
       "2  151.166667        66000.0   Service              Yes                 No   \n",
       "3  137.000000        71820.0  Business              Yes                NaN   \n",
       "4  162.000000         6500.0   Service              Yes                Yes   \n",
       "\n",
       "  preferable_fuel_choice  \n",
       "0                 Diesel  \n",
       "1                 Petrol  \n",
       "2                 Petrol  \n",
       "3                 Petrol  \n",
       "4                 Hybrid  "
      ]
     },
     "execution_count": 175,
     "metadata": {},
     "output_type": "execute_result"
    }
   ],
   "source": [
    "Series={'CustomerID':test['CustomerID'],'Age':test1['Age'],'Gender':test['Gender'].values,'City':test['City'].values,'is_Married':test['is_Married'].values,'family_size':test1['family_size'].values,'height':test1['height'].values,'annual_income':test1['annual_income'].values,'job':test['job'].values,'is_physically_ok':test['is_physically_ok'].values,'has_taken_car_loan':test['has_taken_car_loan'].values,'preferable_fuel_choice':test['preferable_fuel_choice'].values}\n",
    "test=pd.DataFrame(Series)\n",
    "test.head()"
   ]
  },
  {
   "cell_type": "code",
   "execution_count": 176,
   "id": "c06f32fc",
   "metadata": {},
   "outputs": [
    {
     "data": {
      "text/plain": [
       "CustomerID                 0\n",
       "Age                        0\n",
       "Gender                    81\n",
       "City                      72\n",
       "is_Married                85\n",
       "family_size                0\n",
       "height                     0\n",
       "annual_income              0\n",
       "job                       74\n",
       "is_physically_ok          66\n",
       "has_taken_car_loan        61\n",
       "preferable_fuel_choice    83\n",
       "dtype: int64"
      ]
     },
     "execution_count": 176,
     "metadata": {},
     "output_type": "execute_result"
    }
   ],
   "source": [
    "test.isna().sum()"
   ]
  },
  {
   "cell_type": "markdown",
   "id": "e0bee682",
   "metadata": {},
   "source": [
    "Now the remaining missing values we are going to fill using mode since they are object datatypes"
   ]
  },
  {
   "cell_type": "code",
   "execution_count": 177,
   "id": "d927363b",
   "metadata": {},
   "outputs": [],
   "source": [
    "test['Gender']=test['Gender'].fillna(test['Gender'].mode()[0])\n",
    "test['City']=test['City'].fillna(test['City'].mode()[0])\n",
    "test['is_Married']=test['is_Married'].fillna(test['is_Married'].mode()[0])\n",
    "test['job']=test['job'].fillna(test['job'].mode()[0])\n",
    "test['is_physically_ok']=test['is_physically_ok'].fillna(test['is_physically_ok'].mode()[0])\n",
    "test['has_taken_car_loan']=test['has_taken_car_loan'].fillna(test['has_taken_car_loan'].mode()[0])\n",
    "test['preferable_fuel_choice']=test['preferable_fuel_choice'].fillna(test['preferable_fuel_choice'].mode()[0])"
   ]
  },
  {
   "cell_type": "code",
   "execution_count": 178,
   "id": "81cca862",
   "metadata": {},
   "outputs": [
    {
     "data": {
      "text/plain": [
       "CustomerID                0\n",
       "Age                       0\n",
       "Gender                    0\n",
       "City                      0\n",
       "is_Married                0\n",
       "family_size               0\n",
       "height                    0\n",
       "annual_income             0\n",
       "job                       0\n",
       "is_physically_ok          0\n",
       "has_taken_car_loan        0\n",
       "preferable_fuel_choice    0\n",
       "dtype: int64"
      ]
     },
     "execution_count": 178,
     "metadata": {},
     "output_type": "execute_result"
    }
   ],
   "source": [
    "test.isna().sum()"
   ]
  },
  {
   "cell_type": "markdown",
   "id": "39abcc07",
   "metadata": {},
   "source": [
    "# Encoding"
   ]
  },
  {
   "cell_type": "code",
   "execution_count": 179,
   "id": "5ea3387a",
   "metadata": {},
   "outputs": [],
   "source": [
    "from sklearn.preprocessing import LabelEncoder\n",
    "label_en=LabelEncoder()\n",
    "h=['Gender','job', 'is_physically_ok', 'has_taken_car_loan','preferable_fuel_choice','is_Married']\n",
    "for i in np.arange(len(h)):\n",
    "    test[h[i]] = label_en.fit_transform(test[h[i]])  "
   ]
  },
  {
   "cell_type": "code",
   "execution_count": 180,
   "id": "64f21793",
   "metadata": {},
   "outputs": [
    {
     "data": {
      "text/html": [
       "<div>\n",
       "<style scoped>\n",
       "    .dataframe tbody tr th:only-of-type {\n",
       "        vertical-align: middle;\n",
       "    }\n",
       "\n",
       "    .dataframe tbody tr th {\n",
       "        vertical-align: top;\n",
       "    }\n",
       "\n",
       "    .dataframe thead th {\n",
       "        text-align: right;\n",
       "    }\n",
       "</style>\n",
       "<table border=\"1\" class=\"dataframe\">\n",
       "  <thead>\n",
       "    <tr style=\"text-align: right;\">\n",
       "      <th></th>\n",
       "      <th>CustomerID</th>\n",
       "      <th>Age</th>\n",
       "      <th>Gender</th>\n",
       "      <th>City</th>\n",
       "      <th>is_Married</th>\n",
       "      <th>family_size</th>\n",
       "      <th>height</th>\n",
       "      <th>annual_income</th>\n",
       "      <th>job</th>\n",
       "      <th>is_physically_ok</th>\n",
       "      <th>has_taken_car_loan</th>\n",
       "      <th>preferable_fuel_choice</th>\n",
       "    </tr>\n",
       "  </thead>\n",
       "  <tbody>\n",
       "    <tr>\n",
       "      <th>0</th>\n",
       "      <td>CusID_30000</td>\n",
       "      <td>32.0</td>\n",
       "      <td>1</td>\n",
       "      <td>Delhi</td>\n",
       "      <td>1</td>\n",
       "      <td>6.0</td>\n",
       "      <td>142.000000</td>\n",
       "      <td>150800.0</td>\n",
       "      <td>1</td>\n",
       "      <td>2</td>\n",
       "      <td>1</td>\n",
       "      <td>0</td>\n",
       "    </tr>\n",
       "    <tr>\n",
       "      <th>1</th>\n",
       "      <td>CusID_30001</td>\n",
       "      <td>22.0</td>\n",
       "      <td>2</td>\n",
       "      <td>Perth</td>\n",
       "      <td>0</td>\n",
       "      <td>4.0</td>\n",
       "      <td>155.000000</td>\n",
       "      <td>167000.0</td>\n",
       "      <td>1</td>\n",
       "      <td>2</td>\n",
       "      <td>1</td>\n",
       "      <td>4</td>\n",
       "    </tr>\n",
       "    <tr>\n",
       "      <th>2</th>\n",
       "      <td>CusID_30002</td>\n",
       "      <td>46.0</td>\n",
       "      <td>1</td>\n",
       "      <td>Barcelona</td>\n",
       "      <td>1</td>\n",
       "      <td>2.0</td>\n",
       "      <td>151.166667</td>\n",
       "      <td>66000.0</td>\n",
       "      <td>1</td>\n",
       "      <td>2</td>\n",
       "      <td>1</td>\n",
       "      <td>4</td>\n",
       "    </tr>\n",
       "    <tr>\n",
       "      <th>3</th>\n",
       "      <td>CusID_30003</td>\n",
       "      <td>35.0</td>\n",
       "      <td>1</td>\n",
       "      <td>Kuala Lampur</td>\n",
       "      <td>2</td>\n",
       "      <td>1.0</td>\n",
       "      <td>137.000000</td>\n",
       "      <td>71820.0</td>\n",
       "      <td>0</td>\n",
       "      <td>2</td>\n",
       "      <td>1</td>\n",
       "      <td>4</td>\n",
       "    </tr>\n",
       "    <tr>\n",
       "      <th>4</th>\n",
       "      <td>CusID_30004</td>\n",
       "      <td>48.0</td>\n",
       "      <td>2</td>\n",
       "      <td>Sydney</td>\n",
       "      <td>1</td>\n",
       "      <td>3.0</td>\n",
       "      <td>162.000000</td>\n",
       "      <td>6500.0</td>\n",
       "      <td>1</td>\n",
       "      <td>2</td>\n",
       "      <td>3</td>\n",
       "      <td>3</td>\n",
       "    </tr>\n",
       "  </tbody>\n",
       "</table>\n",
       "</div>"
      ],
      "text/plain": [
       "    CustomerID   Age  Gender          City  is_Married  family_size  \\\n",
       "0  CusID_30000  32.0       1         Delhi           1          6.0   \n",
       "1  CusID_30001  22.0       2         Perth           0          4.0   \n",
       "2  CusID_30002  46.0       1     Barcelona           1          2.0   \n",
       "3  CusID_30003  35.0       1  Kuala Lampur           2          1.0   \n",
       "4  CusID_30004  48.0       2        Sydney           1          3.0   \n",
       "\n",
       "       height  annual_income  job  is_physically_ok  has_taken_car_loan  \\\n",
       "0  142.000000       150800.0    1                 2                   1   \n",
       "1  155.000000       167000.0    1                 2                   1   \n",
       "2  151.166667        66000.0    1                 2                   1   \n",
       "3  137.000000        71820.0    0                 2                   1   \n",
       "4  162.000000         6500.0    1                 2                   3   \n",
       "\n",
       "   preferable_fuel_choice  \n",
       "0                       0  \n",
       "1                       4  \n",
       "2                       4  \n",
       "3                       4  \n",
       "4                       3  "
      ]
     },
     "execution_count": 180,
     "metadata": {},
     "output_type": "execute_result"
    }
   ],
   "source": [
    "test.head()"
   ]
  },
  {
   "cell_type": "code",
   "execution_count": 181,
   "id": "62f08120",
   "metadata": {},
   "outputs": [],
   "source": [
    "test = test.drop(['CustomerID'],axis=1)"
   ]
  },
  {
   "cell_type": "code",
   "execution_count": 182,
   "id": "8778f6ed",
   "metadata": {},
   "outputs": [
    {
     "data": {
      "text/html": [
       "<div>\n",
       "<style scoped>\n",
       "    .dataframe tbody tr th:only-of-type {\n",
       "        vertical-align: middle;\n",
       "    }\n",
       "\n",
       "    .dataframe tbody tr th {\n",
       "        vertical-align: top;\n",
       "    }\n",
       "\n",
       "    .dataframe thead th {\n",
       "        text-align: right;\n",
       "    }\n",
       "</style>\n",
       "<table border=\"1\" class=\"dataframe\">\n",
       "  <thead>\n",
       "    <tr style=\"text-align: right;\">\n",
       "      <th></th>\n",
       "      <th>Age</th>\n",
       "      <th>Gender</th>\n",
       "      <th>is_Married</th>\n",
       "      <th>family_size</th>\n",
       "      <th>height</th>\n",
       "      <th>annual_income</th>\n",
       "      <th>job</th>\n",
       "      <th>is_physically_ok</th>\n",
       "      <th>has_taken_car_loan</th>\n",
       "      <th>preferable_fuel_choice</th>\n",
       "      <th>...</th>\n",
       "      <th>City_New York City</th>\n",
       "      <th>City_Paris</th>\n",
       "      <th>City_Perth</th>\n",
       "      <th>City_San Francisco</th>\n",
       "      <th>City_Shinjuku</th>\n",
       "      <th>City_Sydney</th>\n",
       "      <th>City_Taipei</th>\n",
       "      <th>City_Toronto</th>\n",
       "      <th>City_Vancouver</th>\n",
       "      <th>City_Vienna</th>\n",
       "    </tr>\n",
       "  </thead>\n",
       "  <tbody>\n",
       "    <tr>\n",
       "      <th>0</th>\n",
       "      <td>32.0</td>\n",
       "      <td>1</td>\n",
       "      <td>1</td>\n",
       "      <td>6.0</td>\n",
       "      <td>142.000000</td>\n",
       "      <td>150800.0</td>\n",
       "      <td>1</td>\n",
       "      <td>2</td>\n",
       "      <td>1</td>\n",
       "      <td>0</td>\n",
       "      <td>...</td>\n",
       "      <td>0</td>\n",
       "      <td>0</td>\n",
       "      <td>0</td>\n",
       "      <td>0</td>\n",
       "      <td>0</td>\n",
       "      <td>0</td>\n",
       "      <td>0</td>\n",
       "      <td>0</td>\n",
       "      <td>0</td>\n",
       "      <td>0</td>\n",
       "    </tr>\n",
       "    <tr>\n",
       "      <th>1</th>\n",
       "      <td>22.0</td>\n",
       "      <td>2</td>\n",
       "      <td>0</td>\n",
       "      <td>4.0</td>\n",
       "      <td>155.000000</td>\n",
       "      <td>167000.0</td>\n",
       "      <td>1</td>\n",
       "      <td>2</td>\n",
       "      <td>1</td>\n",
       "      <td>4</td>\n",
       "      <td>...</td>\n",
       "      <td>0</td>\n",
       "      <td>0</td>\n",
       "      <td>1</td>\n",
       "      <td>0</td>\n",
       "      <td>0</td>\n",
       "      <td>0</td>\n",
       "      <td>0</td>\n",
       "      <td>0</td>\n",
       "      <td>0</td>\n",
       "      <td>0</td>\n",
       "    </tr>\n",
       "    <tr>\n",
       "      <th>2</th>\n",
       "      <td>46.0</td>\n",
       "      <td>1</td>\n",
       "      <td>1</td>\n",
       "      <td>2.0</td>\n",
       "      <td>151.166667</td>\n",
       "      <td>66000.0</td>\n",
       "      <td>1</td>\n",
       "      <td>2</td>\n",
       "      <td>1</td>\n",
       "      <td>4</td>\n",
       "      <td>...</td>\n",
       "      <td>0</td>\n",
       "      <td>0</td>\n",
       "      <td>0</td>\n",
       "      <td>0</td>\n",
       "      <td>0</td>\n",
       "      <td>0</td>\n",
       "      <td>0</td>\n",
       "      <td>0</td>\n",
       "      <td>0</td>\n",
       "      <td>0</td>\n",
       "    </tr>\n",
       "    <tr>\n",
       "      <th>3</th>\n",
       "      <td>35.0</td>\n",
       "      <td>1</td>\n",
       "      <td>2</td>\n",
       "      <td>1.0</td>\n",
       "      <td>137.000000</td>\n",
       "      <td>71820.0</td>\n",
       "      <td>0</td>\n",
       "      <td>2</td>\n",
       "      <td>1</td>\n",
       "      <td>4</td>\n",
       "      <td>...</td>\n",
       "      <td>0</td>\n",
       "      <td>0</td>\n",
       "      <td>0</td>\n",
       "      <td>0</td>\n",
       "      <td>0</td>\n",
       "      <td>0</td>\n",
       "      <td>0</td>\n",
       "      <td>0</td>\n",
       "      <td>0</td>\n",
       "      <td>0</td>\n",
       "    </tr>\n",
       "    <tr>\n",
       "      <th>4</th>\n",
       "      <td>48.0</td>\n",
       "      <td>2</td>\n",
       "      <td>1</td>\n",
       "      <td>3.0</td>\n",
       "      <td>162.000000</td>\n",
       "      <td>6500.0</td>\n",
       "      <td>1</td>\n",
       "      <td>2</td>\n",
       "      <td>3</td>\n",
       "      <td>3</td>\n",
       "      <td>...</td>\n",
       "      <td>0</td>\n",
       "      <td>0</td>\n",
       "      <td>0</td>\n",
       "      <td>0</td>\n",
       "      <td>0</td>\n",
       "      <td>1</td>\n",
       "      <td>0</td>\n",
       "      <td>0</td>\n",
       "      <td>0</td>\n",
       "      <td>0</td>\n",
       "    </tr>\n",
       "  </tbody>\n",
       "</table>\n",
       "<p>5 rows × 33 columns</p>\n",
       "</div>"
      ],
      "text/plain": [
       "    Age  Gender  is_Married  family_size      height  annual_income  job  \\\n",
       "0  32.0       1           1          6.0  142.000000       150800.0    1   \n",
       "1  22.0       2           0          4.0  155.000000       167000.0    1   \n",
       "2  46.0       1           1          2.0  151.166667        66000.0    1   \n",
       "3  35.0       1           2          1.0  137.000000        71820.0    0   \n",
       "4  48.0       2           1          3.0  162.000000         6500.0    1   \n",
       "\n",
       "   is_physically_ok  has_taken_car_loan  preferable_fuel_choice  ...  \\\n",
       "0                 2                   1                       0  ...   \n",
       "1                 2                   1                       4  ...   \n",
       "2                 2                   1                       4  ...   \n",
       "3                 2                   1                       4  ...   \n",
       "4                 2                   3                       3  ...   \n",
       "\n",
       "   City_New York City  City_Paris  City_Perth  City_San Francisco  \\\n",
       "0                   0           0           0                   0   \n",
       "1                   0           0           1                   0   \n",
       "2                   0           0           0                   0   \n",
       "3                   0           0           0                   0   \n",
       "4                   0           0           0                   0   \n",
       "\n",
       "   City_Shinjuku  City_Sydney  City_Taipei  City_Toronto  City_Vancouver  \\\n",
       "0              0            0            0             0               0   \n",
       "1              0            0            0             0               0   \n",
       "2              0            0            0             0               0   \n",
       "3              0            0            0             0               0   \n",
       "4              0            1            0             0               0   \n",
       "\n",
       "   City_Vienna  \n",
       "0            0  \n",
       "1            0  \n",
       "2            0  \n",
       "3            0  \n",
       "4            0  \n",
       "\n",
       "[5 rows x 33 columns]"
      ]
     },
     "execution_count": 182,
     "metadata": {},
     "output_type": "execute_result"
    }
   ],
   "source": [
    "test=pd.get_dummies(test)\n",
    "test.head()"
   ]
  },
  {
   "cell_type": "code",
   "execution_count": 183,
   "id": "e3f8d1ff",
   "metadata": {},
   "outputs": [],
   "source": [
    "f=[col for col in test.columns if test[col].dtype =='float64']"
   ]
  },
  {
   "cell_type": "code",
   "execution_count": 184,
   "id": "312cbbbf",
   "metadata": {},
   "outputs": [
    {
     "data": {
      "text/plain": [
       "['Age', 'family_size', 'height', 'annual_income']"
      ]
     },
     "execution_count": 184,
     "metadata": {},
     "output_type": "execute_result"
    }
   ],
   "source": [
    "f"
   ]
  },
  {
   "cell_type": "code",
   "execution_count": 185,
   "id": "c5b3bae1",
   "metadata": {},
   "outputs": [],
   "source": [
    "from sklearn import preprocessing \n",
    "min_max = preprocessing.MinMaxScaler(feature_range=(0,1))\n",
    "test[f] = min_max.fit_transform(test[f])"
   ]
  },
  {
   "cell_type": "code",
   "execution_count": 186,
   "id": "6a36063b",
   "metadata": {},
   "outputs": [],
   "source": [
    "test1=test.drop(f,axis=1)"
   ]
  },
  {
   "cell_type": "code",
   "execution_count": 187,
   "id": "062cbb33",
   "metadata": {},
   "outputs": [],
   "source": [
    "test=pd.concat([test1,test[f]],axis=1)"
   ]
  },
  {
   "cell_type": "code",
   "execution_count": 188,
   "id": "83d69033",
   "metadata": {},
   "outputs": [
    {
     "data": {
      "text/html": [
       "<div>\n",
       "<style scoped>\n",
       "    .dataframe tbody tr th:only-of-type {\n",
       "        vertical-align: middle;\n",
       "    }\n",
       "\n",
       "    .dataframe tbody tr th {\n",
       "        vertical-align: top;\n",
       "    }\n",
       "\n",
       "    .dataframe thead th {\n",
       "        text-align: right;\n",
       "    }\n",
       "</style>\n",
       "<table border=\"1\" class=\"dataframe\">\n",
       "  <thead>\n",
       "    <tr style=\"text-align: right;\">\n",
       "      <th></th>\n",
       "      <th>Gender</th>\n",
       "      <th>is_Married</th>\n",
       "      <th>job</th>\n",
       "      <th>is_physically_ok</th>\n",
       "      <th>has_taken_car_loan</th>\n",
       "      <th>preferable_fuel_choice</th>\n",
       "      <th>City_%?ACE</th>\n",
       "      <th>City_Barcelona</th>\n",
       "      <th>City_Berlin</th>\n",
       "      <th>City_Budapest</th>\n",
       "      <th>...</th>\n",
       "      <th>City_Shinjuku</th>\n",
       "      <th>City_Sydney</th>\n",
       "      <th>City_Taipei</th>\n",
       "      <th>City_Toronto</th>\n",
       "      <th>City_Vancouver</th>\n",
       "      <th>City_Vienna</th>\n",
       "      <th>Age</th>\n",
       "      <th>family_size</th>\n",
       "      <th>height</th>\n",
       "      <th>annual_income</th>\n",
       "    </tr>\n",
       "  </thead>\n",
       "  <tbody>\n",
       "    <tr>\n",
       "      <th>0</th>\n",
       "      <td>1</td>\n",
       "      <td>1</td>\n",
       "      <td>1</td>\n",
       "      <td>2</td>\n",
       "      <td>1</td>\n",
       "      <td>0</td>\n",
       "      <td>0</td>\n",
       "      <td>0</td>\n",
       "      <td>0</td>\n",
       "      <td>0</td>\n",
       "      <td>...</td>\n",
       "      <td>0</td>\n",
       "      <td>0</td>\n",
       "      <td>0</td>\n",
       "      <td>0</td>\n",
       "      <td>0</td>\n",
       "      <td>0</td>\n",
       "      <td>0.377778</td>\n",
       "      <td>1.0</td>\n",
       "      <td>0.240000</td>\n",
       "      <td>0.298855</td>\n",
       "    </tr>\n",
       "    <tr>\n",
       "      <th>1</th>\n",
       "      <td>2</td>\n",
       "      <td>0</td>\n",
       "      <td>1</td>\n",
       "      <td>2</td>\n",
       "      <td>1</td>\n",
       "      <td>4</td>\n",
       "      <td>0</td>\n",
       "      <td>0</td>\n",
       "      <td>0</td>\n",
       "      <td>0</td>\n",
       "      <td>...</td>\n",
       "      <td>0</td>\n",
       "      <td>0</td>\n",
       "      <td>0</td>\n",
       "      <td>0</td>\n",
       "      <td>0</td>\n",
       "      <td>0</td>\n",
       "      <td>0.155556</td>\n",
       "      <td>0.6</td>\n",
       "      <td>0.500000</td>\n",
       "      <td>0.331392</td>\n",
       "    </tr>\n",
       "    <tr>\n",
       "      <th>2</th>\n",
       "      <td>1</td>\n",
       "      <td>1</td>\n",
       "      <td>1</td>\n",
       "      <td>2</td>\n",
       "      <td>1</td>\n",
       "      <td>4</td>\n",
       "      <td>0</td>\n",
       "      <td>1</td>\n",
       "      <td>0</td>\n",
       "      <td>0</td>\n",
       "      <td>...</td>\n",
       "      <td>0</td>\n",
       "      <td>0</td>\n",
       "      <td>0</td>\n",
       "      <td>0</td>\n",
       "      <td>0</td>\n",
       "      <td>0</td>\n",
       "      <td>0.688889</td>\n",
       "      <td>0.2</td>\n",
       "      <td>0.423333</td>\n",
       "      <td>0.128540</td>\n",
       "    </tr>\n",
       "    <tr>\n",
       "      <th>3</th>\n",
       "      <td>1</td>\n",
       "      <td>2</td>\n",
       "      <td>0</td>\n",
       "      <td>2</td>\n",
       "      <td>1</td>\n",
       "      <td>4</td>\n",
       "      <td>0</td>\n",
       "      <td>0</td>\n",
       "      <td>0</td>\n",
       "      <td>0</td>\n",
       "      <td>...</td>\n",
       "      <td>0</td>\n",
       "      <td>0</td>\n",
       "      <td>0</td>\n",
       "      <td>0</td>\n",
       "      <td>0</td>\n",
       "      <td>0</td>\n",
       "      <td>0.444444</td>\n",
       "      <td>0.0</td>\n",
       "      <td>0.140000</td>\n",
       "      <td>0.140229</td>\n",
       "    </tr>\n",
       "    <tr>\n",
       "      <th>4</th>\n",
       "      <td>2</td>\n",
       "      <td>1</td>\n",
       "      <td>1</td>\n",
       "      <td>2</td>\n",
       "      <td>3</td>\n",
       "      <td>3</td>\n",
       "      <td>0</td>\n",
       "      <td>0</td>\n",
       "      <td>0</td>\n",
       "      <td>0</td>\n",
       "      <td>...</td>\n",
       "      <td>0</td>\n",
       "      <td>1</td>\n",
       "      <td>0</td>\n",
       "      <td>0</td>\n",
       "      <td>0</td>\n",
       "      <td>0</td>\n",
       "      <td>0.733333</td>\n",
       "      <td>0.4</td>\n",
       "      <td>0.640000</td>\n",
       "      <td>0.009038</td>\n",
       "    </tr>\n",
       "  </tbody>\n",
       "</table>\n",
       "<p>5 rows × 33 columns</p>\n",
       "</div>"
      ],
      "text/plain": [
       "   Gender  is_Married  job  is_physically_ok  has_taken_car_loan  \\\n",
       "0       1           1    1                 2                   1   \n",
       "1       2           0    1                 2                   1   \n",
       "2       1           1    1                 2                   1   \n",
       "3       1           2    0                 2                   1   \n",
       "4       2           1    1                 2                   3   \n",
       "\n",
       "   preferable_fuel_choice  City_%?ACE  City_Barcelona  City_Berlin  \\\n",
       "0                       0           0               0            0   \n",
       "1                       4           0               0            0   \n",
       "2                       4           0               1            0   \n",
       "3                       4           0               0            0   \n",
       "4                       3           0               0            0   \n",
       "\n",
       "   City_Budapest  ...  City_Shinjuku  City_Sydney  City_Taipei  City_Toronto  \\\n",
       "0              0  ...              0            0            0             0   \n",
       "1              0  ...              0            0            0             0   \n",
       "2              0  ...              0            0            0             0   \n",
       "3              0  ...              0            0            0             0   \n",
       "4              0  ...              0            1            0             0   \n",
       "\n",
       "   City_Vancouver  City_Vienna       Age  family_size    height  annual_income  \n",
       "0               0            0  0.377778          1.0  0.240000       0.298855  \n",
       "1               0            0  0.155556          0.6  0.500000       0.331392  \n",
       "2               0            0  0.688889          0.2  0.423333       0.128540  \n",
       "3               0            0  0.444444          0.0  0.140000       0.140229  \n",
       "4               0            0  0.733333          0.4  0.640000       0.009038  \n",
       "\n",
       "[5 rows x 33 columns]"
      ]
     },
     "execution_count": 188,
     "metadata": {},
     "output_type": "execute_result"
    }
   ],
   "source": [
    "test.head()"
   ]
  },
  {
   "cell_type": "code",
   "execution_count": 189,
   "id": "86b3c0d5",
   "metadata": {},
   "outputs": [
    {
     "data": {
      "text/html": [
       "<div>\n",
       "<style scoped>\n",
       "    .dataframe tbody tr th:only-of-type {\n",
       "        vertical-align: middle;\n",
       "    }\n",
       "\n",
       "    .dataframe tbody tr th {\n",
       "        vertical-align: top;\n",
       "    }\n",
       "\n",
       "    .dataframe thead th {\n",
       "        text-align: right;\n",
       "    }\n",
       "</style>\n",
       "<table border=\"1\" class=\"dataframe\">\n",
       "  <thead>\n",
       "    <tr style=\"text-align: right;\">\n",
       "      <th></th>\n",
       "      <th>Gender</th>\n",
       "      <th>is_Married</th>\n",
       "      <th>job</th>\n",
       "      <th>is_physically_ok</th>\n",
       "      <th>has_taken_car_loan</th>\n",
       "      <th>preferable_fuel_choice</th>\n",
       "      <th>City_%?ACE</th>\n",
       "      <th>City_Barcelona</th>\n",
       "      <th>City_Berlin</th>\n",
       "      <th>City_Budapest</th>\n",
       "      <th>...</th>\n",
       "      <th>City_Shinjuku</th>\n",
       "      <th>City_Sydney</th>\n",
       "      <th>City_Taipei</th>\n",
       "      <th>City_Toronto</th>\n",
       "      <th>City_Vancouver</th>\n",
       "      <th>City_Vienna</th>\n",
       "      <th>Age</th>\n",
       "      <th>family_size</th>\n",
       "      <th>height</th>\n",
       "      <th>annual_income</th>\n",
       "    </tr>\n",
       "  </thead>\n",
       "  <tbody>\n",
       "    <tr>\n",
       "      <th>count</th>\n",
       "      <td>5000.000000</td>\n",
       "      <td>5000.000000</td>\n",
       "      <td>5000.000000</td>\n",
       "      <td>5000.000000</td>\n",
       "      <td>5000.000000</td>\n",
       "      <td>5000.000000</td>\n",
       "      <td>5000.000000</td>\n",
       "      <td>5000.000000</td>\n",
       "      <td>5000.00000</td>\n",
       "      <td>5000.000000</td>\n",
       "      <td>...</td>\n",
       "      <td>5000.00000</td>\n",
       "      <td>5000.00000</td>\n",
       "      <td>5000.000000</td>\n",
       "      <td>5000.00000</td>\n",
       "      <td>5000.000000</td>\n",
       "      <td>5000.000000</td>\n",
       "      <td>5000.000000</td>\n",
       "      <td>5000.000000</td>\n",
       "      <td>5000.000000</td>\n",
       "      <td>5000.000000</td>\n",
       "    </tr>\n",
       "    <tr>\n",
       "      <th>mean</th>\n",
       "      <td>1.881200</td>\n",
       "      <td>1.043800</td>\n",
       "      <td>0.660800</td>\n",
       "      <td>1.956600</td>\n",
       "      <td>1.943200</td>\n",
       "      <td>2.216600</td>\n",
       "      <td>0.000200</td>\n",
       "      <td>0.041400</td>\n",
       "      <td>0.04380</td>\n",
       "      <td>0.044000</td>\n",
       "      <td>...</td>\n",
       "      <td>0.04700</td>\n",
       "      <td>0.04240</td>\n",
       "      <td>0.044000</td>\n",
       "      <td>0.04820</td>\n",
       "      <td>0.045400</td>\n",
       "      <td>0.042800</td>\n",
       "      <td>0.355997</td>\n",
       "      <td>0.366993</td>\n",
       "      <td>0.459160</td>\n",
       "      <td>0.164360</td>\n",
       "    </tr>\n",
       "    <tr>\n",
       "      <th>std</th>\n",
       "      <td>1.021222</td>\n",
       "      <td>0.735112</td>\n",
       "      <td>0.735834</td>\n",
       "      <td>0.204756</td>\n",
       "      <td>0.998686</td>\n",
       "      <td>1.825692</td>\n",
       "      <td>0.014142</td>\n",
       "      <td>0.199233</td>\n",
       "      <td>0.20467</td>\n",
       "      <td>0.205116</td>\n",
       "      <td>...</td>\n",
       "      <td>0.21166</td>\n",
       "      <td>0.20152</td>\n",
       "      <td>0.205116</td>\n",
       "      <td>0.21421</td>\n",
       "      <td>0.208201</td>\n",
       "      <td>0.202426</td>\n",
       "      <td>0.219184</td>\n",
       "      <td>0.325570</td>\n",
       "      <td>0.223992</td>\n",
       "      <td>0.120705</td>\n",
       "    </tr>\n",
       "    <tr>\n",
       "      <th>min</th>\n",
       "      <td>0.000000</td>\n",
       "      <td>0.000000</td>\n",
       "      <td>0.000000</td>\n",
       "      <td>0.000000</td>\n",
       "      <td>0.000000</td>\n",
       "      <td>0.000000</td>\n",
       "      <td>0.000000</td>\n",
       "      <td>0.000000</td>\n",
       "      <td>0.00000</td>\n",
       "      <td>0.000000</td>\n",
       "      <td>...</td>\n",
       "      <td>0.00000</td>\n",
       "      <td>0.00000</td>\n",
       "      <td>0.000000</td>\n",
       "      <td>0.00000</td>\n",
       "      <td>0.000000</td>\n",
       "      <td>0.000000</td>\n",
       "      <td>0.000000</td>\n",
       "      <td>0.000000</td>\n",
       "      <td>0.000000</td>\n",
       "      <td>0.000000</td>\n",
       "    </tr>\n",
       "    <tr>\n",
       "      <th>25%</th>\n",
       "      <td>1.000000</td>\n",
       "      <td>1.000000</td>\n",
       "      <td>0.000000</td>\n",
       "      <td>2.000000</td>\n",
       "      <td>1.000000</td>\n",
       "      <td>0.000000</td>\n",
       "      <td>0.000000</td>\n",
       "      <td>0.000000</td>\n",
       "      <td>0.00000</td>\n",
       "      <td>0.000000</td>\n",
       "      <td>...</td>\n",
       "      <td>0.00000</td>\n",
       "      <td>0.00000</td>\n",
       "      <td>0.000000</td>\n",
       "      <td>0.00000</td>\n",
       "      <td>0.000000</td>\n",
       "      <td>0.000000</td>\n",
       "      <td>0.200000</td>\n",
       "      <td>0.000000</td>\n",
       "      <td>0.280000</td>\n",
       "      <td>0.067082</td>\n",
       "    </tr>\n",
       "    <tr>\n",
       "      <th>50%</th>\n",
       "      <td>2.000000</td>\n",
       "      <td>1.000000</td>\n",
       "      <td>1.000000</td>\n",
       "      <td>2.000000</td>\n",
       "      <td>1.000000</td>\n",
       "      <td>3.000000</td>\n",
       "      <td>0.000000</td>\n",
       "      <td>0.000000</td>\n",
       "      <td>0.00000</td>\n",
       "      <td>0.000000</td>\n",
       "      <td>...</td>\n",
       "      <td>0.00000</td>\n",
       "      <td>0.00000</td>\n",
       "      <td>0.000000</td>\n",
       "      <td>0.00000</td>\n",
       "      <td>0.000000</td>\n",
       "      <td>0.000000</td>\n",
       "      <td>0.333333</td>\n",
       "      <td>0.400000</td>\n",
       "      <td>0.440000</td>\n",
       "      <td>0.160163</td>\n",
       "    </tr>\n",
       "    <tr>\n",
       "      <th>75%</th>\n",
       "      <td>2.000000</td>\n",
       "      <td>2.000000</td>\n",
       "      <td>1.000000</td>\n",
       "      <td>2.000000</td>\n",
       "      <td>3.000000</td>\n",
       "      <td>4.000000</td>\n",
       "      <td>0.000000</td>\n",
       "      <td>0.000000</td>\n",
       "      <td>0.00000</td>\n",
       "      <td>0.000000</td>\n",
       "      <td>...</td>\n",
       "      <td>0.00000</td>\n",
       "      <td>0.00000</td>\n",
       "      <td>0.000000</td>\n",
       "      <td>0.00000</td>\n",
       "      <td>0.000000</td>\n",
       "      <td>0.000000</td>\n",
       "      <td>0.466667</td>\n",
       "      <td>0.600000</td>\n",
       "      <td>0.600000</td>\n",
       "      <td>0.250869</td>\n",
       "    </tr>\n",
       "    <tr>\n",
       "      <th>max</th>\n",
       "      <td>4.000000</td>\n",
       "      <td>2.000000</td>\n",
       "      <td>3.000000</td>\n",
       "      <td>2.000000</td>\n",
       "      <td>3.000000</td>\n",
       "      <td>4.000000</td>\n",
       "      <td>1.000000</td>\n",
       "      <td>1.000000</td>\n",
       "      <td>1.00000</td>\n",
       "      <td>1.000000</td>\n",
       "      <td>...</td>\n",
       "      <td>1.00000</td>\n",
       "      <td>1.00000</td>\n",
       "      <td>1.000000</td>\n",
       "      <td>1.00000</td>\n",
       "      <td>1.000000</td>\n",
       "      <td>1.000000</td>\n",
       "      <td>1.000000</td>\n",
       "      <td>1.000000</td>\n",
       "      <td>1.000000</td>\n",
       "      <td>1.000000</td>\n",
       "    </tr>\n",
       "  </tbody>\n",
       "</table>\n",
       "<p>8 rows × 33 columns</p>\n",
       "</div>"
      ],
      "text/plain": [
       "            Gender   is_Married          job  is_physically_ok  \\\n",
       "count  5000.000000  5000.000000  5000.000000       5000.000000   \n",
       "mean      1.881200     1.043800     0.660800          1.956600   \n",
       "std       1.021222     0.735112     0.735834          0.204756   \n",
       "min       0.000000     0.000000     0.000000          0.000000   \n",
       "25%       1.000000     1.000000     0.000000          2.000000   \n",
       "50%       2.000000     1.000000     1.000000          2.000000   \n",
       "75%       2.000000     2.000000     1.000000          2.000000   \n",
       "max       4.000000     2.000000     3.000000          2.000000   \n",
       "\n",
       "       has_taken_car_loan  preferable_fuel_choice   City_%?ACE  \\\n",
       "count         5000.000000             5000.000000  5000.000000   \n",
       "mean             1.943200                2.216600     0.000200   \n",
       "std              0.998686                1.825692     0.014142   \n",
       "min              0.000000                0.000000     0.000000   \n",
       "25%              1.000000                0.000000     0.000000   \n",
       "50%              1.000000                3.000000     0.000000   \n",
       "75%              3.000000                4.000000     0.000000   \n",
       "max              3.000000                4.000000     1.000000   \n",
       "\n",
       "       City_Barcelona  City_Berlin  City_Budapest  ...  City_Shinjuku  \\\n",
       "count     5000.000000   5000.00000    5000.000000  ...     5000.00000   \n",
       "mean         0.041400      0.04380       0.044000  ...        0.04700   \n",
       "std          0.199233      0.20467       0.205116  ...        0.21166   \n",
       "min          0.000000      0.00000       0.000000  ...        0.00000   \n",
       "25%          0.000000      0.00000       0.000000  ...        0.00000   \n",
       "50%          0.000000      0.00000       0.000000  ...        0.00000   \n",
       "75%          0.000000      0.00000       0.000000  ...        0.00000   \n",
       "max          1.000000      1.00000       1.000000  ...        1.00000   \n",
       "\n",
       "       City_Sydney  City_Taipei  City_Toronto  City_Vancouver  City_Vienna  \\\n",
       "count   5000.00000  5000.000000    5000.00000     5000.000000  5000.000000   \n",
       "mean       0.04240     0.044000       0.04820        0.045400     0.042800   \n",
       "std        0.20152     0.205116       0.21421        0.208201     0.202426   \n",
       "min        0.00000     0.000000       0.00000        0.000000     0.000000   \n",
       "25%        0.00000     0.000000       0.00000        0.000000     0.000000   \n",
       "50%        0.00000     0.000000       0.00000        0.000000     0.000000   \n",
       "75%        0.00000     0.000000       0.00000        0.000000     0.000000   \n",
       "max        1.00000     1.000000       1.00000        1.000000     1.000000   \n",
       "\n",
       "               Age  family_size       height  annual_income  \n",
       "count  5000.000000  5000.000000  5000.000000    5000.000000  \n",
       "mean      0.355997     0.366993     0.459160       0.164360  \n",
       "std       0.219184     0.325570     0.223992       0.120705  \n",
       "min       0.000000     0.000000     0.000000       0.000000  \n",
       "25%       0.200000     0.000000     0.280000       0.067082  \n",
       "50%       0.333333     0.400000     0.440000       0.160163  \n",
       "75%       0.466667     0.600000     0.600000       0.250869  \n",
       "max       1.000000     1.000000     1.000000       1.000000  \n",
       "\n",
       "[8 rows x 33 columns]"
      ]
     },
     "execution_count": 189,
     "metadata": {},
     "output_type": "execute_result"
    }
   ],
   "source": [
    "test.describe()"
   ]
  },
  {
   "cell_type": "markdown",
   "id": "bbb93561",
   "metadata": {},
   "source": [
    "# to predict using test data using random forest"
   ]
  },
  {
   "cell_type": "code",
   "execution_count": 190,
   "id": "2c99bcfd",
   "metadata": {},
   "outputs": [
    {
     "data": {
      "text/plain": [
       "RandomForestClassifier()"
      ]
     },
     "execution_count": 190,
     "metadata": {},
     "output_type": "execute_result"
    }
   ],
   "source": [
    "#To fit the model\n",
    "from sklearn.ensemble import RandomForestClassifier\n",
    "rf = RandomForestClassifier()\n",
    "rf.fit(X_train, y_train)"
   ]
  },
  {
   "cell_type": "code",
   "execution_count": 191,
   "id": "bc39016b",
   "metadata": {},
   "outputs": [
    {
     "ename": "ValueError",
     "evalue": "X has 33 features, but DecisionTreeClassifier is expecting 36 features as input.",
     "output_type": "error",
     "traceback": [
      "\u001b[1;31m---------------------------------------------------------------------------\u001b[0m",
      "\u001b[1;31mValueError\u001b[0m                                Traceback (most recent call last)",
      "\u001b[1;32m<ipython-input-191-73f15484f442>\u001b[0m in \u001b[0;36m<module>\u001b[1;34m\u001b[0m\n\u001b[0;32m      1\u001b[0m \u001b[1;31m#To predict\u001b[0m\u001b[1;33m\u001b[0m\u001b[1;33m\u001b[0m\u001b[1;33m\u001b[0m\u001b[0m\n\u001b[1;32m----> 2\u001b[1;33m \u001b[0my_pred10\u001b[0m \u001b[1;33m=\u001b[0m \u001b[0mrf\u001b[0m\u001b[1;33m.\u001b[0m\u001b[0mpredict\u001b[0m\u001b[1;33m(\u001b[0m\u001b[0mtest\u001b[0m\u001b[1;33m)\u001b[0m\u001b[1;33m\u001b[0m\u001b[1;33m\u001b[0m\u001b[0m\n\u001b[0m\u001b[0;32m      3\u001b[0m \u001b[0mprint\u001b[0m\u001b[1;33m(\u001b[0m\u001b[1;34m'Predicted values are: '\u001b[0m\u001b[1;33m,\u001b[0m\u001b[0my_pred5\u001b[0m\u001b[1;33m)\u001b[0m\u001b[1;33m\u001b[0m\u001b[1;33m\u001b[0m\u001b[0m\n",
      "\u001b[1;32m~\\anaconda3\\lib\\site-packages\\sklearn\\ensemble\\_forest.py\u001b[0m in \u001b[0;36mpredict\u001b[1;34m(self, X)\u001b[0m\n\u001b[0;32m    628\u001b[0m             \u001b[0mThe\u001b[0m \u001b[0mpredicted\u001b[0m \u001b[0mclasses\u001b[0m\u001b[1;33m.\u001b[0m\u001b[1;33m\u001b[0m\u001b[1;33m\u001b[0m\u001b[0m\n\u001b[0;32m    629\u001b[0m         \"\"\"\n\u001b[1;32m--> 630\u001b[1;33m         \u001b[0mproba\u001b[0m \u001b[1;33m=\u001b[0m \u001b[0mself\u001b[0m\u001b[1;33m.\u001b[0m\u001b[0mpredict_proba\u001b[0m\u001b[1;33m(\u001b[0m\u001b[0mX\u001b[0m\u001b[1;33m)\u001b[0m\u001b[1;33m\u001b[0m\u001b[1;33m\u001b[0m\u001b[0m\n\u001b[0m\u001b[0;32m    631\u001b[0m \u001b[1;33m\u001b[0m\u001b[0m\n\u001b[0;32m    632\u001b[0m         \u001b[1;32mif\u001b[0m \u001b[0mself\u001b[0m\u001b[1;33m.\u001b[0m\u001b[0mn_outputs_\u001b[0m \u001b[1;33m==\u001b[0m \u001b[1;36m1\u001b[0m\u001b[1;33m:\u001b[0m\u001b[1;33m\u001b[0m\u001b[1;33m\u001b[0m\u001b[0m\n",
      "\u001b[1;32m~\\anaconda3\\lib\\site-packages\\sklearn\\ensemble\\_forest.py\u001b[0m in \u001b[0;36mpredict_proba\u001b[1;34m(self, X)\u001b[0m\n\u001b[0;32m    672\u001b[0m         \u001b[0mcheck_is_fitted\u001b[0m\u001b[1;33m(\u001b[0m\u001b[0mself\u001b[0m\u001b[1;33m)\u001b[0m\u001b[1;33m\u001b[0m\u001b[1;33m\u001b[0m\u001b[0m\n\u001b[0;32m    673\u001b[0m         \u001b[1;31m# Check data\u001b[0m\u001b[1;33m\u001b[0m\u001b[1;33m\u001b[0m\u001b[1;33m\u001b[0m\u001b[0m\n\u001b[1;32m--> 674\u001b[1;33m         \u001b[0mX\u001b[0m \u001b[1;33m=\u001b[0m \u001b[0mself\u001b[0m\u001b[1;33m.\u001b[0m\u001b[0m_validate_X_predict\u001b[0m\u001b[1;33m(\u001b[0m\u001b[0mX\u001b[0m\u001b[1;33m)\u001b[0m\u001b[1;33m\u001b[0m\u001b[1;33m\u001b[0m\u001b[0m\n\u001b[0m\u001b[0;32m    675\u001b[0m \u001b[1;33m\u001b[0m\u001b[0m\n\u001b[0;32m    676\u001b[0m         \u001b[1;31m# Assign chunk of trees to jobs\u001b[0m\u001b[1;33m\u001b[0m\u001b[1;33m\u001b[0m\u001b[1;33m\u001b[0m\u001b[0m\n",
      "\u001b[1;32m~\\anaconda3\\lib\\site-packages\\sklearn\\ensemble\\_forest.py\u001b[0m in \u001b[0;36m_validate_X_predict\u001b[1;34m(self, X)\u001b[0m\n\u001b[0;32m    420\u001b[0m         \u001b[0mcheck_is_fitted\u001b[0m\u001b[1;33m(\u001b[0m\u001b[0mself\u001b[0m\u001b[1;33m)\u001b[0m\u001b[1;33m\u001b[0m\u001b[1;33m\u001b[0m\u001b[0m\n\u001b[0;32m    421\u001b[0m \u001b[1;33m\u001b[0m\u001b[0m\n\u001b[1;32m--> 422\u001b[1;33m         \u001b[1;32mreturn\u001b[0m \u001b[0mself\u001b[0m\u001b[1;33m.\u001b[0m\u001b[0mestimators_\u001b[0m\u001b[1;33m[\u001b[0m\u001b[1;36m0\u001b[0m\u001b[1;33m]\u001b[0m\u001b[1;33m.\u001b[0m\u001b[0m_validate_X_predict\u001b[0m\u001b[1;33m(\u001b[0m\u001b[0mX\u001b[0m\u001b[1;33m,\u001b[0m \u001b[0mcheck_input\u001b[0m\u001b[1;33m=\u001b[0m\u001b[1;32mTrue\u001b[0m\u001b[1;33m)\u001b[0m\u001b[1;33m\u001b[0m\u001b[1;33m\u001b[0m\u001b[0m\n\u001b[0m\u001b[0;32m    423\u001b[0m \u001b[1;33m\u001b[0m\u001b[0m\n\u001b[0;32m    424\u001b[0m     \u001b[1;33m@\u001b[0m\u001b[0mproperty\u001b[0m\u001b[1;33m\u001b[0m\u001b[1;33m\u001b[0m\u001b[0m\n",
      "\u001b[1;32m~\\anaconda3\\lib\\site-packages\\sklearn\\tree\\_classes.py\u001b[0m in \u001b[0;36m_validate_X_predict\u001b[1;34m(self, X, check_input)\u001b[0m\n\u001b[0;32m    400\u001b[0m         \u001b[1;34m\"\"\"Validate the training data on predict (probabilities).\"\"\"\u001b[0m\u001b[1;33m\u001b[0m\u001b[1;33m\u001b[0m\u001b[0m\n\u001b[0;32m    401\u001b[0m         \u001b[1;32mif\u001b[0m \u001b[0mcheck_input\u001b[0m\u001b[1;33m:\u001b[0m\u001b[1;33m\u001b[0m\u001b[1;33m\u001b[0m\u001b[0m\n\u001b[1;32m--> 402\u001b[1;33m             X = self._validate_data(X, dtype=DTYPE, accept_sparse=\"csr\",\n\u001b[0m\u001b[0;32m    403\u001b[0m                                     reset=False)\n\u001b[0;32m    404\u001b[0m             if issparse(X) and (X.indices.dtype != np.intc or\n",
      "\u001b[1;32m~\\anaconda3\\lib\\site-packages\\sklearn\\base.py\u001b[0m in \u001b[0;36m_validate_data\u001b[1;34m(self, X, y, reset, validate_separately, **check_params)\u001b[0m\n\u001b[0;32m    435\u001b[0m \u001b[1;33m\u001b[0m\u001b[0m\n\u001b[0;32m    436\u001b[0m         \u001b[1;32mif\u001b[0m \u001b[0mcheck_params\u001b[0m\u001b[1;33m.\u001b[0m\u001b[0mget\u001b[0m\u001b[1;33m(\u001b[0m\u001b[1;34m'ensure_2d'\u001b[0m\u001b[1;33m,\u001b[0m \u001b[1;32mTrue\u001b[0m\u001b[1;33m)\u001b[0m\u001b[1;33m:\u001b[0m\u001b[1;33m\u001b[0m\u001b[1;33m\u001b[0m\u001b[0m\n\u001b[1;32m--> 437\u001b[1;33m             \u001b[0mself\u001b[0m\u001b[1;33m.\u001b[0m\u001b[0m_check_n_features\u001b[0m\u001b[1;33m(\u001b[0m\u001b[0mX\u001b[0m\u001b[1;33m,\u001b[0m \u001b[0mreset\u001b[0m\u001b[1;33m=\u001b[0m\u001b[0mreset\u001b[0m\u001b[1;33m)\u001b[0m\u001b[1;33m\u001b[0m\u001b[1;33m\u001b[0m\u001b[0m\n\u001b[0m\u001b[0;32m    438\u001b[0m \u001b[1;33m\u001b[0m\u001b[0m\n\u001b[0;32m    439\u001b[0m         \u001b[1;32mreturn\u001b[0m \u001b[0mout\u001b[0m\u001b[1;33m\u001b[0m\u001b[1;33m\u001b[0m\u001b[0m\n",
      "\u001b[1;32m~\\anaconda3\\lib\\site-packages\\sklearn\\base.py\u001b[0m in \u001b[0;36m_check_n_features\u001b[1;34m(self, X, reset)\u001b[0m\n\u001b[0;32m    363\u001b[0m \u001b[1;33m\u001b[0m\u001b[0m\n\u001b[0;32m    364\u001b[0m         \u001b[1;32mif\u001b[0m \u001b[0mn_features\u001b[0m \u001b[1;33m!=\u001b[0m \u001b[0mself\u001b[0m\u001b[1;33m.\u001b[0m\u001b[0mn_features_in_\u001b[0m\u001b[1;33m:\u001b[0m\u001b[1;33m\u001b[0m\u001b[1;33m\u001b[0m\u001b[0m\n\u001b[1;32m--> 365\u001b[1;33m             raise ValueError(\n\u001b[0m\u001b[0;32m    366\u001b[0m                 \u001b[1;34mf\"X has {n_features} features, but {self.__class__.__name__} \"\u001b[0m\u001b[1;33m\u001b[0m\u001b[1;33m\u001b[0m\u001b[0m\n\u001b[0;32m    367\u001b[0m                 f\"is expecting {self.n_features_in_} features as input.\")\n",
      "\u001b[1;31mValueError\u001b[0m: X has 33 features, but DecisionTreeClassifier is expecting 36 features as input."
     ]
    }
   ],
   "source": [
    "#To predict\n",
    "y_pred10 = rf.predict(test)\n",
    "print('Predicted values are: ',y_pred5)"
   ]
  },
  {
   "cell_type": "code",
   "execution_count": 192,
   "id": "39cdd8b2",
   "metadata": {},
   "outputs": [],
   "source": [
    "df = pd.read_csv('dataset/sample_submission.csv')"
   ]
  },
  {
   "cell_type": "code",
   "execution_count": 193,
   "id": "a36bfcfc",
   "metadata": {},
   "outputs": [
    {
     "data": {
      "text/html": [
       "<div>\n",
       "<style scoped>\n",
       "    .dataframe tbody tr th:only-of-type {\n",
       "        vertical-align: middle;\n",
       "    }\n",
       "\n",
       "    .dataframe tbody tr th {\n",
       "        vertical-align: top;\n",
       "    }\n",
       "\n",
       "    .dataframe thead th {\n",
       "        text-align: right;\n",
       "    }\n",
       "</style>\n",
       "<table border=\"1\" class=\"dataframe\">\n",
       "  <thead>\n",
       "    <tr style=\"text-align: right;\">\n",
       "      <th></th>\n",
       "      <th>CustomerID</th>\n",
       "      <th>vehicle_choice</th>\n",
       "    </tr>\n",
       "  </thead>\n",
       "  <tbody>\n",
       "    <tr>\n",
       "      <th>0</th>\n",
       "      <td>CusID_00000</td>\n",
       "      <td>Sedan</td>\n",
       "    </tr>\n",
       "    <tr>\n",
       "      <th>1</th>\n",
       "      <td>CusID_00001</td>\n",
       "      <td>Compact Utility Vehicle</td>\n",
       "    </tr>\n",
       "    <tr>\n",
       "      <th>2</th>\n",
       "      <td>CusID_00002</td>\n",
       "      <td>Sports Sedan</td>\n",
       "    </tr>\n",
       "    <tr>\n",
       "      <th>3</th>\n",
       "      <td>CusID_00003</td>\n",
       "      <td>Sportscar</td>\n",
       "    </tr>\n",
       "    <tr>\n",
       "      <th>4</th>\n",
       "      <td>CusID_00004</td>\n",
       "      <td>Sports Utility Vehicle</td>\n",
       "    </tr>\n",
       "  </tbody>\n",
       "</table>\n",
       "</div>"
      ],
      "text/plain": [
       "    CustomerID           vehicle_choice\n",
       "0  CusID_00000                    Sedan\n",
       "1  CusID_00001  Compact Utility Vehicle\n",
       "2  CusID_00002             Sports Sedan\n",
       "3  CusID_00003                Sportscar\n",
       "4  CusID_00004   Sports Utility Vehicle"
      ]
     },
     "execution_count": 193,
     "metadata": {},
     "output_type": "execute_result"
    }
   ],
   "source": [
    "df"
   ]
  },
  {
   "cell_type": "code",
   "execution_count": 195,
   "id": "7138aa62",
   "metadata": {},
   "outputs": [],
   "source": [
    "train['CustomerID']=df['CustomerID']"
   ]
  },
  {
   "cell_type": "code",
   "execution_count": 202,
   "id": "5116d88e",
   "metadata": {},
   "outputs": [
    {
     "ename": "NameError",
     "evalue": "name 'vehicle_prediction_submission' is not defined",
     "output_type": "error",
     "traceback": [
      "\u001b[1;31m---------------------------------------------------------------------------\u001b[0m",
      "\u001b[1;31mNameError\u001b[0m                                 Traceback (most recent call last)",
      "\u001b[1;32m<ipython-input-202-8e61ca195217>\u001b[0m in \u001b[0;36m<module>\u001b[1;34m\u001b[0m\n\u001b[1;32m----> 1\u001b[1;33m \u001b[0mvehicle_prediction_submission\u001b[0m\u001b[1;33m.\u001b[0m\u001b[0mto_csv\u001b[0m\u001b[1;33m(\u001b[0m\u001b[1;34m'vehicle_prediction_submission.csv'\u001b[0m\u001b[1;33m,\u001b[0m \u001b[0mindex\u001b[0m \u001b[1;33m=\u001b[0m \u001b[1;32mFalse\u001b[0m\u001b[1;33m)\u001b[0m\u001b[1;33m\u001b[0m\u001b[1;33m\u001b[0m\u001b[0m\n\u001b[0m",
      "\u001b[1;31mNameError\u001b[0m: name 'vehicle_prediction_submission' is not defined"
     ]
    }
   ],
   "source": [
    "vehicle_prediction_submission.to_csv('vehicle_prediction_submission.csv', index = False)"
   ]
  },
  {
   "cell_type": "code",
   "execution_count": 203,
   "id": "860e2e5f",
   "metadata": {},
   "outputs": [],
   "source": [
    "train.to_csv('train.csv', header=False, index=False)"
   ]
  },
  {
   "cell_type": "code",
   "execution_count": null,
   "id": "28c60167",
   "metadata": {},
   "outputs": [],
   "source": []
  }
 ],
 "metadata": {
  "kernelspec": {
   "display_name": "Python 3",
   "language": "python",
   "name": "python3"
  },
  "language_info": {
   "codemirror_mode": {
    "name": "ipython",
    "version": 3
   },
   "file_extension": ".py",
   "mimetype": "text/x-python",
   "name": "python",
   "nbconvert_exporter": "python",
   "pygments_lexer": "ipython3",
   "version": "3.8.8"
  }
 },
 "nbformat": 4,
 "nbformat_minor": 5
}
